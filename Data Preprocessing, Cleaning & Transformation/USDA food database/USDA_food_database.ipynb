{
  "nbformat": 4,
  "nbformat_minor": 0,
  "metadata": {
    "colab": {
      "name": "USDA_food_database.ipynb",
      "provenance": [],
      "collapsed_sections": []
    },
    "kernelspec": {
      "name": "python3",
      "display_name": "Python 3"
    }
  },
  "cells": [
    {
      "cell_type": "markdown",
      "metadata": {
        "id": "74RRTtn9py0x",
        "colab_type": "text"
      },
      "source": [
        "The US Department of Agriculture makes available a database of food nutrient information. Programmer Ashley Williams made available a version of this database in JSON format."
      ]
    },
    {
      "cell_type": "code",
      "metadata": {
        "id": "WTUNBHKEnH1w",
        "colab_type": "code",
        "colab": {}
      },
      "source": [
        "!wget -qnc -P ./usda_food https://raw.githubusercontent.com/wesm/pydata-book/2nd-edition/datasets/usda_food/database.json"
      ],
      "execution_count": 0,
      "outputs": []
    },
    {
      "cell_type": "code",
      "metadata": {
        "id": "e-xX1jn5SBYR",
        "colab_type": "code",
        "colab": {
          "base_uri": "https://localhost:8080/",
          "height": 70
        },
        "outputId": "62ab1565-5e49-4149-93d4-236fd2ce2047"
      },
      "source": [
        "import json\n",
        "import pandas as pd\n",
        "import numpy as np\n",
        "import seaborn as sns\n",
        "import matplotlib.pyplot as plt\n",
        "sns.set_style(\"whitegrid\")"
      ],
      "execution_count": 2,
      "outputs": [
        {
          "output_type": "stream",
          "text": [
            "/usr/local/lib/python3.6/dist-packages/statsmodels/tools/_testing.py:19: FutureWarning: pandas.util.testing is deprecated. Use the functions in the public API at pandas.testing instead.\n",
            "  import pandas.util.testing as tm\n"
          ],
          "name": "stderr"
        }
      ]
    },
    {
      "cell_type": "code",
      "metadata": {
        "id": "pQ8aFRBrSHW0",
        "colab_type": "code",
        "colab": {}
      },
      "source": [
        "db = json.load(open(\"usda_food/database.json\"))"
      ],
      "execution_count": 0,
      "outputs": []
    },
    {
      "cell_type": "code",
      "metadata": {
        "id": "h3Xy4FvxSM6H",
        "colab_type": "code",
        "colab": {
          "base_uri": "https://localhost:8080/",
          "height": 33
        },
        "outputId": "a5b85a06-00dd-4104-9bda-80cfc90d307e"
      },
      "source": [
        "len(db)"
      ],
      "execution_count": 4,
      "outputs": [
        {
          "output_type": "execute_result",
          "data": {
            "text/plain": [
              "6636"
            ]
          },
          "metadata": {
            "tags": []
          },
          "execution_count": 4
        }
      ]
    },
    {
      "cell_type": "code",
      "metadata": {
        "id": "Pb1qFc3LSNpi",
        "colab_type": "code",
        "colab": {
          "base_uri": "https://localhost:8080/",
          "height": 33
        },
        "outputId": "5f59740a-d74a-48fd-9fef-294a013da467"
      },
      "source": [
        "type(db), type(db[0])"
      ],
      "execution_count": 5,
      "outputs": [
        {
          "output_type": "execute_result",
          "data": {
            "text/plain": [
              "(list, dict)"
            ]
          },
          "metadata": {
            "tags": []
          },
          "execution_count": 5
        }
      ]
    },
    {
      "cell_type": "code",
      "metadata": {
        "id": "YASx5blNTxD_",
        "colab_type": "code",
        "colab": {
          "base_uri": "https://localhost:8080/",
          "height": 53
        },
        "outputId": "52a05481-62ec-46ee-d47b-0a3e6a19c140"
      },
      "source": [
        "db[0].keys()"
      ],
      "execution_count": 6,
      "outputs": [
        {
          "output_type": "execute_result",
          "data": {
            "text/plain": [
              "dict_keys(['id', 'description', 'tags', 'manufacturer', 'group', 'portions', 'nutrients'])"
            ]
          },
          "metadata": {
            "tags": []
          },
          "execution_count": 6
        }
      ]
    },
    {
      "cell_type": "code",
      "metadata": {
        "id": "5TuFXIVfUF5E",
        "colab_type": "code",
        "colab": {
          "base_uri": "https://localhost:8080/",
          "height": 84
        },
        "outputId": "72a511f7-59d1-45bb-ba8b-b8026835e8fd"
      },
      "source": [
        "db[0]['nutrients'][0]"
      ],
      "execution_count": 7,
      "outputs": [
        {
          "output_type": "execute_result",
          "data": {
            "text/plain": [
              "{'description': 'Protein',\n",
              " 'group': 'Composition',\n",
              " 'units': 'g',\n",
              " 'value': 25.18}"
            ]
          },
          "metadata": {
            "tags": []
          },
          "execution_count": 7
        }
      ]
    },
    {
      "cell_type": "code",
      "metadata": {
        "id": "48RH994VUKXc",
        "colab_type": "code",
        "colab": {}
      },
      "source": [
        "nutrients = pd.DataFrame(db[0]['nutrients'])\n",
        "nutrients = nutrients[[\"description\", \"group\", \"units\", \"value\"]] \n",
        "# nutrients = nutrients.reindex(columns=[\"description\", \"group\", \"units\", \"value\"])"
      ],
      "execution_count": 0,
      "outputs": []
    },
    {
      "cell_type": "code",
      "metadata": {
        "id": "UmBEuXU9UfG_",
        "colab_type": "code",
        "colab": {
          "base_uri": "https://localhost:8080/",
          "height": 345
        },
        "outputId": "84bdd6d1-c9b2-4595-e11e-dc0f36a4d1b5"
      },
      "source": [
        "nutrients.head(10) "
      ],
      "execution_count": 9,
      "outputs": [
        {
          "output_type": "execute_result",
          "data": {
            "text/html": [
              "<div>\n",
              "<style scoped>\n",
              "    .dataframe tbody tr th:only-of-type {\n",
              "        vertical-align: middle;\n",
              "    }\n",
              "\n",
              "    .dataframe tbody tr th {\n",
              "        vertical-align: top;\n",
              "    }\n",
              "\n",
              "    .dataframe thead th {\n",
              "        text-align: right;\n",
              "    }\n",
              "</style>\n",
              "<table border=\"1\" class=\"dataframe\">\n",
              "  <thead>\n",
              "    <tr style=\"text-align: right;\">\n",
              "      <th></th>\n",
              "      <th>description</th>\n",
              "      <th>group</th>\n",
              "      <th>units</th>\n",
              "      <th>value</th>\n",
              "    </tr>\n",
              "  </thead>\n",
              "  <tbody>\n",
              "    <tr>\n",
              "      <th>0</th>\n",
              "      <td>Protein</td>\n",
              "      <td>Composition</td>\n",
              "      <td>g</td>\n",
              "      <td>25.18</td>\n",
              "    </tr>\n",
              "    <tr>\n",
              "      <th>1</th>\n",
              "      <td>Total lipid (fat)</td>\n",
              "      <td>Composition</td>\n",
              "      <td>g</td>\n",
              "      <td>29.20</td>\n",
              "    </tr>\n",
              "    <tr>\n",
              "      <th>2</th>\n",
              "      <td>Carbohydrate, by difference</td>\n",
              "      <td>Composition</td>\n",
              "      <td>g</td>\n",
              "      <td>3.06</td>\n",
              "    </tr>\n",
              "    <tr>\n",
              "      <th>3</th>\n",
              "      <td>Ash</td>\n",
              "      <td>Other</td>\n",
              "      <td>g</td>\n",
              "      <td>3.28</td>\n",
              "    </tr>\n",
              "    <tr>\n",
              "      <th>4</th>\n",
              "      <td>Energy</td>\n",
              "      <td>Energy</td>\n",
              "      <td>kcal</td>\n",
              "      <td>376.00</td>\n",
              "    </tr>\n",
              "    <tr>\n",
              "      <th>5</th>\n",
              "      <td>Water</td>\n",
              "      <td>Composition</td>\n",
              "      <td>g</td>\n",
              "      <td>39.28</td>\n",
              "    </tr>\n",
              "    <tr>\n",
              "      <th>6</th>\n",
              "      <td>Energy</td>\n",
              "      <td>Energy</td>\n",
              "      <td>kJ</td>\n",
              "      <td>1573.00</td>\n",
              "    </tr>\n",
              "    <tr>\n",
              "      <th>7</th>\n",
              "      <td>Fiber, total dietary</td>\n",
              "      <td>Composition</td>\n",
              "      <td>g</td>\n",
              "      <td>0.00</td>\n",
              "    </tr>\n",
              "    <tr>\n",
              "      <th>8</th>\n",
              "      <td>Calcium, Ca</td>\n",
              "      <td>Elements</td>\n",
              "      <td>mg</td>\n",
              "      <td>673.00</td>\n",
              "    </tr>\n",
              "    <tr>\n",
              "      <th>9</th>\n",
              "      <td>Iron, Fe</td>\n",
              "      <td>Elements</td>\n",
              "      <td>mg</td>\n",
              "      <td>0.64</td>\n",
              "    </tr>\n",
              "  </tbody>\n",
              "</table>\n",
              "</div>"
            ],
            "text/plain": [
              "                   description        group units    value\n",
              "0                      Protein  Composition     g    25.18\n",
              "1            Total lipid (fat)  Composition     g    29.20\n",
              "2  Carbohydrate, by difference  Composition     g     3.06\n",
              "3                          Ash        Other     g     3.28\n",
              "4                       Energy       Energy  kcal   376.00\n",
              "5                        Water  Composition     g    39.28\n",
              "6                       Energy       Energy    kJ  1573.00\n",
              "7         Fiber, total dietary  Composition     g     0.00\n",
              "8                  Calcium, Ca     Elements    mg   673.00\n",
              "9                     Iron, Fe     Elements    mg     0.64"
            ]
          },
          "metadata": {
            "tags": []
          },
          "execution_count": 9
        }
      ]
    },
    {
      "cell_type": "markdown",
      "metadata": {
        "id": "vmBppW_KWuc2",
        "colab_type": "text"
      },
      "source": [
        "When converting a list of dicts to a DataFrame, we can specify a list of fields to extract."
      ]
    },
    {
      "cell_type": "code",
      "metadata": {
        "id": "AG0TNxzCUuAf",
        "colab_type": "code",
        "colab": {
          "base_uri": "https://localhost:8080/",
          "height": 196
        },
        "outputId": "8722c7ae-c744-4efc-da59-aad4fc9d3dd8"
      },
      "source": [
        "info_keys = ['description', 'group', 'id', 'manufacturer']\n",
        "info = pd.DataFrame(db, columns=info_keys)\n",
        "info[:5]"
      ],
      "execution_count": 10,
      "outputs": [
        {
          "output_type": "execute_result",
          "data": {
            "text/html": [
              "<div>\n",
              "<style scoped>\n",
              "    .dataframe tbody tr th:only-of-type {\n",
              "        vertical-align: middle;\n",
              "    }\n",
              "\n",
              "    .dataframe tbody tr th {\n",
              "        vertical-align: top;\n",
              "    }\n",
              "\n",
              "    .dataframe thead th {\n",
              "        text-align: right;\n",
              "    }\n",
              "</style>\n",
              "<table border=\"1\" class=\"dataframe\">\n",
              "  <thead>\n",
              "    <tr style=\"text-align: right;\">\n",
              "      <th></th>\n",
              "      <th>description</th>\n",
              "      <th>group</th>\n",
              "      <th>id</th>\n",
              "      <th>manufacturer</th>\n",
              "    </tr>\n",
              "  </thead>\n",
              "  <tbody>\n",
              "    <tr>\n",
              "      <th>0</th>\n",
              "      <td>Cheese, caraway</td>\n",
              "      <td>Dairy and Egg Products</td>\n",
              "      <td>1008</td>\n",
              "      <td></td>\n",
              "    </tr>\n",
              "    <tr>\n",
              "      <th>1</th>\n",
              "      <td>Cheese, cheddar</td>\n",
              "      <td>Dairy and Egg Products</td>\n",
              "      <td>1009</td>\n",
              "      <td></td>\n",
              "    </tr>\n",
              "    <tr>\n",
              "      <th>2</th>\n",
              "      <td>Cheese, edam</td>\n",
              "      <td>Dairy and Egg Products</td>\n",
              "      <td>1018</td>\n",
              "      <td></td>\n",
              "    </tr>\n",
              "    <tr>\n",
              "      <th>3</th>\n",
              "      <td>Cheese, feta</td>\n",
              "      <td>Dairy and Egg Products</td>\n",
              "      <td>1019</td>\n",
              "      <td></td>\n",
              "    </tr>\n",
              "    <tr>\n",
              "      <th>4</th>\n",
              "      <td>Cheese, mozzarella, part skim milk</td>\n",
              "      <td>Dairy and Egg Products</td>\n",
              "      <td>1028</td>\n",
              "      <td></td>\n",
              "    </tr>\n",
              "  </tbody>\n",
              "</table>\n",
              "</div>"
            ],
            "text/plain": [
              "                          description  ... manufacturer\n",
              "0                     Cheese, caraway  ...             \n",
              "1                     Cheese, cheddar  ...             \n",
              "2                        Cheese, edam  ...             \n",
              "3                        Cheese, feta  ...             \n",
              "4  Cheese, mozzarella, part skim milk  ...             \n",
              "\n",
              "[5 rows x 4 columns]"
            ]
          },
          "metadata": {
            "tags": []
          },
          "execution_count": 10
        }
      ]
    },
    {
      "cell_type": "code",
      "metadata": {
        "id": "V599GOCuWzzl",
        "colab_type": "code",
        "colab": {
          "base_uri": "https://localhost:8080/",
          "height": 201
        },
        "outputId": "e40f3024-cee8-4b59-e662-88dd1f87ff18"
      },
      "source": [
        "info.info()"
      ],
      "execution_count": 11,
      "outputs": [
        {
          "output_type": "stream",
          "text": [
            "<class 'pandas.core.frame.DataFrame'>\n",
            "RangeIndex: 6636 entries, 0 to 6635\n",
            "Data columns (total 4 columns):\n",
            " #   Column        Non-Null Count  Dtype \n",
            "---  ------        --------------  ----- \n",
            " 0   description   6636 non-null   object\n",
            " 1   group         6636 non-null   object\n",
            " 2   id            6636 non-null   int64 \n",
            " 3   manufacturer  5195 non-null   object\n",
            "dtypes: int64(1), object(3)\n",
            "memory usage: 207.5+ KB\n"
          ],
          "name": "stdout"
        }
      ]
    },
    {
      "cell_type": "code",
      "metadata": {
        "id": "KPN0_On7W4ya",
        "colab_type": "code",
        "colab": {}
      },
      "source": [
        "# distribution of food groups\n",
        "\n",
        "# pd.value_counts(info.group)[:10]"
      ],
      "execution_count": 0,
      "outputs": []
    },
    {
      "cell_type": "code",
      "metadata": {
        "id": "JRvZGGV4W-Q7",
        "colab_type": "code",
        "colab": {
          "base_uri": "https://localhost:8080/",
          "height": 366
        },
        "outputId": "b05d1379-e3c8-4274-c3e5-3bb6b3bf0742"
      },
      "source": [
        "plt.figure(figsize=(12, 8))\n",
        "_ = sns.barplot(x=pd.value_counts(info.group)[:10], y=pd.value_counts(info.group)[:10].index)\n",
        "_ = plt.xlabel(\"Counts\")"
      ],
      "execution_count": 13,
      "outputs": [
        {
          "output_type": "display_data",
          "data": {
            "image/png": "[encoded data removed]",
            "text/plain": [
              "<Figure size 864x576 with 1 Axes>"
            ]
          },
          "metadata": {
            "tags": []
          }
        }
      ]
    },
    {
      "cell_type": "code",
      "metadata": {
        "id": "2y4PbQn-YykM",
        "colab_type": "code",
        "colab": {}
      },
      "source": [
        "# for analysis of nutrients\n",
        "\n",
        "nutrients = []\n",
        "\n",
        "for i in db:\n",
        "    fnuts = pd.DataFrame(i[\"nutrients\"])\n",
        "    fnuts['id'] = i[\"id\"]\n",
        "    nutrients.append(fnuts)\n",
        "\n",
        "nutrients = pd.concat(nutrients, ignore_index=True)"
      ],
      "execution_count": 0,
      "outputs": []
    },
    {
      "cell_type": "code",
      "metadata": {
        "id": "W0FAYuOJctK6",
        "colab_type": "code",
        "colab": {
          "base_uri": "https://localhost:8080/",
          "height": 345
        },
        "outputId": "1d1f9def-d144-41b8-e0b3-61dbe2544afb"
      },
      "source": [
        "nutrients = nutrients[[\"description\", \"group\", \"units\", \"value\", \"id\"]]\n",
        "nutrients.head(10)"
      ],
      "execution_count": 15,
      "outputs": [
        {
          "output_type": "execute_result",
          "data": {
            "text/html": [
              "<div>\n",
              "<style scoped>\n",
              "    .dataframe tbody tr th:only-of-type {\n",
              "        vertical-align: middle;\n",
              "    }\n",
              "\n",
              "    .dataframe tbody tr th {\n",
              "        vertical-align: top;\n",
              "    }\n",
              "\n",
              "    .dataframe thead th {\n",
              "        text-align: right;\n",
              "    }\n",
              "</style>\n",
              "<table border=\"1\" class=\"dataframe\">\n",
              "  <thead>\n",
              "    <tr style=\"text-align: right;\">\n",
              "      <th></th>\n",
              "      <th>description</th>\n",
              "      <th>group</th>\n",
              "      <th>units</th>\n",
              "      <th>value</th>\n",
              "      <th>id</th>\n",
              "    </tr>\n",
              "  </thead>\n",
              "  <tbody>\n",
              "    <tr>\n",
              "      <th>0</th>\n",
              "      <td>Protein</td>\n",
              "      <td>Composition</td>\n",
              "      <td>g</td>\n",
              "      <td>25.18</td>\n",
              "      <td>1008</td>\n",
              "    </tr>\n",
              "    <tr>\n",
              "      <th>1</th>\n",
              "      <td>Total lipid (fat)</td>\n",
              "      <td>Composition</td>\n",
              "      <td>g</td>\n",
              "      <td>29.20</td>\n",
              "      <td>1008</td>\n",
              "    </tr>\n",
              "    <tr>\n",
              "      <th>2</th>\n",
              "      <td>Carbohydrate, by difference</td>\n",
              "      <td>Composition</td>\n",
              "      <td>g</td>\n",
              "      <td>3.06</td>\n",
              "      <td>1008</td>\n",
              "    </tr>\n",
              "    <tr>\n",
              "      <th>3</th>\n",
              "      <td>Ash</td>\n",
              "      <td>Other</td>\n",
              "      <td>g</td>\n",
              "      <td>3.28</td>\n",
              "      <td>1008</td>\n",
              "    </tr>\n",
              "    <tr>\n",
              "      <th>4</th>\n",
              "      <td>Energy</td>\n",
              "      <td>Energy</td>\n",
              "      <td>kcal</td>\n",
              "      <td>376.00</td>\n",
              "      <td>1008</td>\n",
              "    </tr>\n",
              "    <tr>\n",
              "      <th>5</th>\n",
              "      <td>Water</td>\n",
              "      <td>Composition</td>\n",
              "      <td>g</td>\n",
              "      <td>39.28</td>\n",
              "      <td>1008</td>\n",
              "    </tr>\n",
              "    <tr>\n",
              "      <th>6</th>\n",
              "      <td>Energy</td>\n",
              "      <td>Energy</td>\n",
              "      <td>kJ</td>\n",
              "      <td>1573.00</td>\n",
              "      <td>1008</td>\n",
              "    </tr>\n",
              "    <tr>\n",
              "      <th>7</th>\n",
              "      <td>Fiber, total dietary</td>\n",
              "      <td>Composition</td>\n",
              "      <td>g</td>\n",
              "      <td>0.00</td>\n",
              "      <td>1008</td>\n",
              "    </tr>\n",
              "    <tr>\n",
              "      <th>8</th>\n",
              "      <td>Calcium, Ca</td>\n",
              "      <td>Elements</td>\n",
              "      <td>mg</td>\n",
              "      <td>673.00</td>\n",
              "      <td>1008</td>\n",
              "    </tr>\n",
              "    <tr>\n",
              "      <th>9</th>\n",
              "      <td>Iron, Fe</td>\n",
              "      <td>Elements</td>\n",
              "      <td>mg</td>\n",
              "      <td>0.64</td>\n",
              "      <td>1008</td>\n",
              "    </tr>\n",
              "  </tbody>\n",
              "</table>\n",
              "</div>"
            ],
            "text/plain": [
              "                   description        group units    value    id\n",
              "0                      Protein  Composition     g    25.18  1008\n",
              "1            Total lipid (fat)  Composition     g    29.20  1008\n",
              "2  Carbohydrate, by difference  Composition     g     3.06  1008\n",
              "3                          Ash        Other     g     3.28  1008\n",
              "4                       Energy       Energy  kcal   376.00  1008\n",
              "5                        Water  Composition     g    39.28  1008\n",
              "6                       Energy       Energy    kJ  1573.00  1008\n",
              "7         Fiber, total dietary  Composition     g     0.00  1008\n",
              "8                  Calcium, Ca     Elements    mg   673.00  1008\n",
              "9                     Iron, Fe     Elements    mg     0.64  1008"
            ]
          },
          "metadata": {
            "tags": []
          },
          "execution_count": 15
        }
      ]
    },
    {
      "cell_type": "code",
      "metadata": {
        "id": "Cbo0g0VDcwk_",
        "colab_type": "code",
        "colab": {
          "base_uri": "https://localhost:8080/",
          "height": 33
        },
        "outputId": "9c23c8ce-7769-476f-da58-b3f808ae85d1"
      },
      "source": [
        "nutrients.duplicated().sum()"
      ],
      "execution_count": 16,
      "outputs": [
        {
          "output_type": "execute_result",
          "data": {
            "text/plain": [
              "14179"
            ]
          },
          "metadata": {
            "tags": []
          },
          "execution_count": 16
        }
      ]
    },
    {
      "cell_type": "code",
      "metadata": {
        "id": "aVVbELXFehUg",
        "colab_type": "code",
        "colab": {}
      },
      "source": [
        "nutrients = nutrients.drop_duplicates()"
      ],
      "execution_count": 0,
      "outputs": []
    },
    {
      "cell_type": "code",
      "metadata": {
        "id": "o9xYyKZ8emD9",
        "colab_type": "code",
        "colab": {}
      },
      "source": [
        "col_mapping = {'description' : 'food', \n",
        "               'group' : 'fgroup'}"
      ],
      "execution_count": 0,
      "outputs": []
    },
    {
      "cell_type": "code",
      "metadata": {
        "id": "IxLsDLWFesc0",
        "colab_type": "code",
        "colab": {}
      },
      "source": [
        "info = info.rename(columns=col_mapping, copy=False)"
      ],
      "execution_count": 0,
      "outputs": []
    },
    {
      "cell_type": "code",
      "metadata": {
        "id": "7aCOJZpWezVI",
        "colab_type": "code",
        "colab": {
          "base_uri": "https://localhost:8080/",
          "height": 201
        },
        "outputId": "60e96e35-b79b-4c0d-809d-abe8df0727ce"
      },
      "source": [
        "info.info()"
      ],
      "execution_count": 20,
      "outputs": [
        {
          "output_type": "stream",
          "text": [
            "<class 'pandas.core.frame.DataFrame'>\n",
            "RangeIndex: 6636 entries, 0 to 6635\n",
            "Data columns (total 4 columns):\n",
            " #   Column        Non-Null Count  Dtype \n",
            "---  ------        --------------  ----- \n",
            " 0   food          6636 non-null   object\n",
            " 1   fgroup        6636 non-null   object\n",
            " 2   id            6636 non-null   int64 \n",
            " 3   manufacturer  5195 non-null   object\n",
            "dtypes: int64(1), object(3)\n",
            "memory usage: 207.5+ KB\n"
          ],
          "name": "stdout"
        }
      ]
    },
    {
      "cell_type": "code",
      "metadata": {
        "id": "ZYSPx1nee0Sz",
        "colab_type": "code",
        "colab": {}
      },
      "source": [
        "col_mapping = {'description': 'nutrient',\n",
        "               'group': 'nutgroup'}"
      ],
      "execution_count": 0,
      "outputs": []
    },
    {
      "cell_type": "code",
      "metadata": {
        "id": "xUwBfu6Ye_8G",
        "colab_type": "code",
        "colab": {}
      },
      "source": [
        "nutrients = nutrients.rename(columns=col_mapping, copy=False)"
      ],
      "execution_count": 0,
      "outputs": []
    },
    {
      "cell_type": "code",
      "metadata": {
        "id": "AscGCH8ffBcv",
        "colab_type": "code",
        "colab": {
          "base_uri": "https://localhost:8080/",
          "height": 217
        },
        "outputId": "0064f73d-7305-4d23-ef72-79ea283f1942"
      },
      "source": [
        "nutrients.info()"
      ],
      "execution_count": 23,
      "outputs": [
        {
          "output_type": "stream",
          "text": [
            "<class 'pandas.core.frame.DataFrame'>\n",
            "Int64Index: 375176 entries, 0 to 389354\n",
            "Data columns (total 5 columns):\n",
            " #   Column    Non-Null Count   Dtype  \n",
            "---  ------    --------------   -----  \n",
            " 0   nutrient  375176 non-null  object \n",
            " 1   nutgroup  375176 non-null  object \n",
            " 2   units     375176 non-null  object \n",
            " 3   value     375176 non-null  float64\n",
            " 4   id        375176 non-null  int64  \n",
            "dtypes: float64(1), int64(1), object(3)\n",
            "memory usage: 17.2+ MB\n"
          ],
          "name": "stdout"
        }
      ]
    },
    {
      "cell_type": "code",
      "metadata": {
        "id": "8r6qVTSyfEMj",
        "colab_type": "code",
        "colab": {}
      },
      "source": [
        "# merging both dataframe to get a collective data"
      ],
      "execution_count": 0,
      "outputs": []
    },
    {
      "cell_type": "code",
      "metadata": {
        "id": "6Vfa76BOfOtZ",
        "colab_type": "code",
        "colab": {}
      },
      "source": [
        "ndata = pd.merge(nutrients, info, on='id', how='outer')"
      ],
      "execution_count": 0,
      "outputs": []
    },
    {
      "cell_type": "code",
      "metadata": {
        "id": "EvydRwfifUj7",
        "colab_type": "code",
        "colab": {
          "base_uri": "https://localhost:8080/",
          "height": 268
        },
        "outputId": "f00c441d-04c3-43f2-b3f3-a8594b479b10"
      },
      "source": [
        "ndata.info()"
      ],
      "execution_count": 26,
      "outputs": [
        {
          "output_type": "stream",
          "text": [
            "<class 'pandas.core.frame.DataFrame'>\n",
            "Int64Index: 375176 entries, 0 to 375175\n",
            "Data columns (total 8 columns):\n",
            " #   Column        Non-Null Count   Dtype  \n",
            "---  ------        --------------   -----  \n",
            " 0   nutrient      375176 non-null  object \n",
            " 1   nutgroup      375176 non-null  object \n",
            " 2   units         375176 non-null  object \n",
            " 3   value         375176 non-null  float64\n",
            " 4   id            375176 non-null  int64  \n",
            " 5   food          375176 non-null  object \n",
            " 6   fgroup        375176 non-null  object \n",
            " 7   manufacturer  293054 non-null  object \n",
            "dtypes: float64(1), int64(1), object(6)\n",
            "memory usage: 25.8+ MB\n"
          ],
          "name": "stdout"
        }
      ]
    },
    {
      "cell_type": "code",
      "metadata": {
        "id": "zJuOOLi5fY08",
        "colab_type": "code",
        "colab": {
          "base_uri": "https://localhost:8080/",
          "height": 167
        },
        "outputId": "5f5c299f-565a-4cff-d707-b115a8065fce"
      },
      "source": [
        "ndata.iloc[30000]"
      ],
      "execution_count": 27,
      "outputs": [
        {
          "output_type": "execute_result",
          "data": {
            "text/plain": [
              "nutrient                                       Glycine\n",
              "nutgroup                                   Amino Acids\n",
              "units                                                g\n",
              "value                                             0.04\n",
              "id                                                6158\n",
              "food            Soup, tomato bisque, canned, condensed\n",
              "fgroup                      Soups, Sauces, and Gravies\n",
              "manufacturer                                          \n",
              "Name: 30000, dtype: object"
            ]
          },
          "metadata": {
            "tags": []
          },
          "execution_count": 27
        }
      ]
    },
    {
      "cell_type": "code",
      "metadata": {
        "id": "KUKwfsEZhVc6",
        "colab_type": "code",
        "colab": {}
      },
      "source": [
        "# for count, (i, j) in enumerate(ndata.groupby(['nutrient', 'fgroup'])['value']):\n",
        "#     if count < 4:\n",
        "#         print(count+1, i)\n",
        "#         print(j)\n",
        "#         print()\n",
        "#         print()"
      ],
      "execution_count": 0,
      "outputs": []
    },
    {
      "cell_type": "code",
      "metadata": {
        "id": "w-jXWHLqfdQD",
        "colab_type": "code",
        "colab": {
          "base_uri": "https://localhost:8080/",
          "height": 100
        },
        "outputId": "6c96c11f-68b9-4bb6-d332-f2811162486a"
      },
      "source": [
        "# We could now make a plot of median values by food group \n",
        "# and nutrient type \n",
        "\n",
        "result = ndata.groupby(['nutrient', 'fgroup'])['value'].quantile(0.5)\n",
        "result.index.values"
      ],
      "execution_count": 29,
      "outputs": [
        {
          "output_type": "execute_result",
          "data": {
            "text/plain": [
              "array([('Adjusted Protein', 'Sweets'),\n",
              "       ('Adjusted Protein', 'Vegetables and Vegetable Products'),\n",
              "       ('Alanine', 'Baby Foods'), ..., ('Zinc, Zn', 'Spices and Herbs'),\n",
              "       ('Zinc, Zn', 'Sweets'),\n",
              "       ('Zinc, Zn', 'Vegetables and Vegetable Products')], dtype=object)"
            ]
          },
          "metadata": {
            "tags": []
          },
          "execution_count": 29
        }
      ]
    },
    {
      "cell_type": "code",
      "metadata": {
        "id": "MNbl2LaOhWEg",
        "colab_type": "code",
        "colab": {
          "base_uri": "https://localhost:8080/",
          "height": 372
        },
        "outputId": "e95255d2-52e1-4a10-aea6-48ab1537c984"
      },
      "source": [
        "_ = result['Zinc, Zn'].sort_values().plot(kind=\"barh\", figsize=(15, 10), title=\"Median zinc values by nutrient group\")"
      ],
      "execution_count": 30,
      "outputs": [
        {
          "output_type": "display_data",
          "data": {
            "image/png": "[encoded data removed]",
            "text/plain": [
              "<Figure size 1080x720 with 1 Axes>"
            ]
          },
          "metadata": {
            "tags": []
          }
        }
      ]
    },
    {
      "cell_type": "markdown",
      "metadata": {
        "id": "J2OAToWoj1Zn",
        "colab_type": "text"
      },
      "source": [
        "With a little cleverness, you can find which food is most dense in each nutrient"
      ]
    },
    {
      "cell_type": "code",
      "metadata": {
        "id": "iEA6x397kQ4H",
        "colab_type": "code",
        "colab": {}
      },
      "source": [
        "# for i, (j, k) in enumerate(ndata.groupby(['nutgroup', 'nutrient'])):\n",
        "#     if i < 3:\n",
        "#         print(i, j)\n",
        "#         print(k.loc[k.value.idxmax(), 'food'])\n",
        "#         print(\"\\n\\n\")"
      ],
      "execution_count": 0,
      "outputs": []
    },
    {
      "cell_type": "code",
      "metadata": {
        "id": "t9sU3tDwiw7f",
        "colab_type": "code",
        "colab": {}
      },
      "source": [
        "by_nutrient = ndata.groupby(['nutgroup', 'nutrient'])\n",
        "\n",
        "get_max = lambda x: x.loc[x.value.idxmax()]\n",
        "get_min = lambda x: x.loc[x.value.idxmin()]\n",
        "\n",
        "max_foods = by_nutrient.apply(get_max)[['value', 'food']]\n",
        "# make the food a little smaller\n",
        "max_foods.food = max_foods.food.str[:50]"
      ],
      "execution_count": 0,
      "outputs": []
    },
    {
      "cell_type": "code",
      "metadata": {
        "id": "jvM1yFLVkZzP",
        "colab_type": "code",
        "colab": {
          "base_uri": "https://localhost:8080/",
          "height": 368
        },
        "outputId": "426ec90d-7dcb-43b1-8b54-61ca84f6b3db"
      },
      "source": [
        "max_foods.loc['Amino Acids']['food']"
      ],
      "execution_count": 33,
      "outputs": [
        {
          "output_type": "execute_result",
          "data": {
            "text/plain": [
              "nutrient\n",
              "Alanine                           Gelatins, dry powder, unsweetened\n",
              "Arginine                               Seeds, sesame flour, low-fat\n",
              "Aspartic acid                                   Soy protein isolate\n",
              "Cystine                Seeds, cottonseed flour, low fat (glandless)\n",
              "Glutamic acid                                   Soy protein isolate\n",
              "Glycine                           Gelatins, dry powder, unsweetened\n",
              "Histidine                Whale, beluga, meat, dried (Alaska Native)\n",
              "Hydroxyproline    KENTUCKY FRIED CHICKEN, Fried Chicken, ORIGINA...\n",
              "Isoleucine        Soy protein isolate, PROTEIN TECHNOLOGIES INTE...\n",
              "Leucine           Soy protein isolate, PROTEIN TECHNOLOGIES INTE...\n",
              "Lysine            Seal, bearded (Oogruk), meat, dried (Alaska Na...\n",
              "Methionine                    Fish, cod, Atlantic, dried and salted\n",
              "Phenylalanine     Soy protein isolate, PROTEIN TECHNOLOGIES INTE...\n",
              "Proline                           Gelatins, dry powder, unsweetened\n",
              "Serine            Soy protein isolate, PROTEIN TECHNOLOGIES INTE...\n",
              "Threonine         Soy protein isolate, PROTEIN TECHNOLOGIES INTE...\n",
              "Tryptophan         Sea lion, Steller, meat with fat (Alaska Native)\n",
              "Tyrosine          Soy protein isolate, PROTEIN TECHNOLOGIES INTE...\n",
              "Valine            Soy protein isolate, PROTEIN TECHNOLOGIES INTE...\n",
              "Name: food, dtype: object"
            ]
          },
          "metadata": {
            "tags": []
          },
          "execution_count": 33
        }
      ]
    }
  ]
}