{
 "cells": [
  {
   "cell_type": "markdown",
   "metadata": {
    "colab_type": "text",
    "id": "S48OHrhEh7Wc"
   },
   "source": [
    "This is the second notebook on this project. This kernel will focus on **Feature Engineering**, **Feature Selection** and **Model Building**.\n",
    "\n",
    "First part of the Project: [Project 2 P1: EDA](https://www.kaggle.com/veb101/project-2-p1-eda)"
   ]
  },
  {
   "cell_type": "markdown",
   "metadata": {
    "colab_type": "text",
    "id": "Yt8xRnVWh7Wj"
   },
   "source": [
    "Before starting I want to thank other kaggle users for their work on this problem. It helped me alot in understanding this problem.\n",
    "\n",
    "This and others notebooks onn this project series relies heavily on other great kernels made on this dataset.\n",
    "Naming a few:\n",
    "1. [Comprehensive data exploration with Python](https://www.kaggle.com/pmarcelino/comprehensive-data-exploration-with-python)\n",
    "2. [A study on Regression applied to the Ames dataset](https://www.kaggle.com/juliencs/a-study-on-regression-applied-to-the-ames-dataset)\n",
    "3. [Eda and prediction of House Price](https://www.kaggle.com/siddheshpujari/eda-and-prediction-of-house-price)\n",
    "3. [Stacked Regressions to predict House Prices](https://www.kaggle.com/serigne/stacked-regressions-top-4-on-leaderboard)\n",
    "4. [Regularized Linear Models](https://www.kaggle.com/apapiu/regularized-linear-models)"
   ]
  },
  {
   "cell_type": "markdown",
   "metadata": {
    "toc": true
   },
   "source": [
    "<h1>Table of Contents<span class=\"tocSkip\"></span></h1>\n",
    "<div class=\"toc\"><ul class=\"toc-item\"><li><span><a href=\"#Combining-train-and-test-to-apply-transformations.\" data-toc-modified-id=\"Combining-train-and-test-to-apply-transformations.-1\"><span class=\"toc-item-num\">1&nbsp;&nbsp;</span>Combining train and test to apply transformations.</a></span></li><li><span><a href=\"#Feature-Engineering\" data-toc-modified-id=\"Feature-Engineering-2\"><span class=\"toc-item-num\">2&nbsp;&nbsp;</span>Feature Engineering</a></span></li><li><span><a href=\"#Outlier-removal\" data-toc-modified-id=\"Outlier-removal-3\"><span class=\"toc-item-num\">3&nbsp;&nbsp;</span>Outlier removal</a></span></li><li><span><a href=\"#Log-Transformation-of-target-variable\" data-toc-modified-id=\"Log-Transformation-of-target-variable-4\"><span class=\"toc-item-num\">4&nbsp;&nbsp;</span>Log-Transformation of target variable</a></span></li><li><span><a href=\"#Treating-missing-values\" data-toc-modified-id=\"Treating-missing-values-5\"><span class=\"toc-item-num\">5&nbsp;&nbsp;</span>Treating missing values</a></span><ul class=\"toc-item\"><li><span><a href=\"#Numerical-features\" data-toc-modified-id=\"Numerical-features-5.1\"><span class=\"toc-item-num\">5.1&nbsp;&nbsp;</span>Numerical features</a></span></li><li><span><a href=\"#Categorical-features\" data-toc-modified-id=\"Categorical-features-5.2\"><span class=\"toc-item-num\">5.2&nbsp;&nbsp;</span>Categorical features</a></span></li></ul></li><li><span><a href=\"#Date-and-Time-Engineering\" data-toc-modified-id=\"Date-and-Time-Engineering-6\"><span class=\"toc-item-num\">6&nbsp;&nbsp;</span>Date and Time Engineering</a></span></li><li><span><a href=\"#Variable-Transformation\" data-toc-modified-id=\"Variable-Transformation-7\"><span class=\"toc-item-num\">7&nbsp;&nbsp;</span>Variable Transformation</a></span><ul class=\"toc-item\"><li><span><a href=\"#Transforming-some-numerical-variables-that-are-really-categorical\" data-toc-modified-id=\"Transforming-some-numerical-variables-that-are-really-categorical-7.1\"><span class=\"toc-item-num\">7.1&nbsp;&nbsp;</span>Transforming some numerical variables that are really categorical</a></span></li><li><span><a href=\"#Label-Encoding-some-categorical-features\" data-toc-modified-id=\"Label-Encoding-some-categorical-features-7.2\"><span class=\"toc-item-num\">7.2&nbsp;&nbsp;</span>Label Encoding some categorical features</a></span></li><li><span><a href=\"#Skewed-feature-transformation\" data-toc-modified-id=\"Skewed-feature-transformation-7.3\"><span class=\"toc-item-num\">7.3&nbsp;&nbsp;</span>Skewed feature transformation</a></span></li></ul></li><li><span><a href=\"#Feature-Selection\" data-toc-modified-id=\"Feature-Selection-8\"><span class=\"toc-item-num\">8&nbsp;&nbsp;</span>Feature Selection</a></span><ul class=\"toc-item\"><li><span><a href=\"#using-Lasso\" data-toc-modified-id=\"using-Lasso-8.1\"><span class=\"toc-item-num\">8.1&nbsp;&nbsp;</span>using Lasso</a></span></li><li><span><a href=\"#Using-tree-based-models\" data-toc-modified-id=\"Using-tree-based-models-8.2\"><span class=\"toc-item-num\">8.2&nbsp;&nbsp;</span>Using tree based models</a></span></li></ul></li><li><span><a href=\"#Model-Building\" data-toc-modified-id=\"Model-Building-9\"><span class=\"toc-item-num\">9&nbsp;&nbsp;</span>Model Building</a></span></li><li><span><a href=\"#Stacking-regressor\" data-toc-modified-id=\"Stacking-regressor-10\"><span class=\"toc-item-num\">10&nbsp;&nbsp;</span>Stacking regressor</a></span></li><li><span><a href=\"#Final-Run-and-Creating-Submission\" data-toc-modified-id=\"Final-Run-and-Creating-Submission-11\"><span class=\"toc-item-num\">11&nbsp;&nbsp;</span>Final Run and Creating Submission</a></span></li></ul></div>"
   ]
  },
  {
   "cell_type": "code",
   "execution_count": 0,
   "metadata": {
    "colab": {},
    "colab_type": "code",
    "id": "2312XyTKLvO_"
   },
   "outputs": [],
   "source": [
    "!pip install -qU xgboost\n",
    "!pip install -qU lightgbm"
   ]
  },
  {
   "cell_type": "code",
   "execution_count": 0,
   "metadata": {
    "_cell_guid": "b1076dfc-b9ad-4769-8c92-a6c4dae69d19",
    "_uuid": "8f2839f25d086af736a60e9eeb907d3b93b6e0e5",
    "colab": {},
    "colab_type": "code",
    "id": "SaGUnk7Nh7Wn"
   },
   "outputs": [],
   "source": [
    "import numpy as np \n",
    "import pandas as pd \n",
    "import matplotlib.pyplot as plt\n",
    "import seaborn as sns\n",
    "from sklearn.model_selection import train_test_split\n",
    "from scipy import stats\n",
    "from scipy.stats import norm, skew\n",
    "import os\n",
    "\n",
    "from sklearn.model_selection import KFold\n",
    "from sklearn.model_selection import cross_validate\n",
    "from sklearn.preprocessing import MinMaxScaler\n",
    "from sklearn.linear_model import Lasso\n",
    "from sklearn.feature_selection import SelectFromModel\n",
    "from sklearn.ensemble import ExtraTreesRegressor\n",
    "from sklearn.metrics import r2_score\n",
    "from sklearn.model_selection import cross_val_score\n",
    "from sklearn.pipeline import Pipeline\n",
    "from sklearn.ensemble import GradientBoostingRegressor\n",
    "from xgboost import XGBRegressor\n",
    "from lightgbm import LGBMRegressor\n",
    "from sklearn.preprocessing import RobustScaler\n",
    "\n",
    "plt.style.use(\"fivethirtyeight\")\n",
    "pd.pandas.set_option('display.max_columns', None)\n",
    "sns.set_style('darkgrid')\n",
    "%matplotlib inline"
   ]
  },
  {
   "cell_type": "code",
   "execution_count": 0,
   "metadata": {
    "_cell_guid": "79c7e3d0-c299-4dcb-8224-4455121ee9b0",
    "_uuid": "d629ff2d2480ee46fbb7e2d37f6b5fab8052498a",
    "colab": {},
    "colab_type": "code",
    "id": "vrJrxvK_h7W4"
   },
   "outputs": [],
   "source": [
    "# train = pd.read_csv('/kaggle/input/house-prices-advanced-regression-techniques/train.csv')\n",
    "# test = pd.read_csv('/kaggle/input/house-prices-advanced-regression-techniques/test.csv')"
   ]
  },
  {
   "cell_type": "code",
   "execution_count": 0,
   "metadata": {
    "colab": {},
    "colab_type": "code",
    "id": "BbECrW2TjyiS"
   },
   "outputs": [],
   "source": [
    "train = pd.read_csv('train.csv')\n",
    "test = pd.read_csv('test.csv')"
   ]
  },
  {
   "cell_type": "code",
   "execution_count": 107,
   "metadata": {
    "colab": {
     "base_uri": "https://localhost:8080/",
     "height": 50
    },
    "colab_type": "code",
    "id": "g0yxw7gph7XG",
    "outputId": "29d531a9-44e3-4f9b-a09a-5b56154f3462"
   },
   "outputs": [
    {
     "name": "stdout",
     "output_type": "stream",
     "text": [
      "(1460, 81)\n",
      "(1459, 80)\n"
     ]
    }
   ],
   "source": [
    "print(train.shape)\n",
    "print(test.shape)"
   ]
  },
  {
   "cell_type": "code",
   "execution_count": 113,
   "metadata": {
    "colab": {
     "base_uri": "https://localhost:8080/",
     "height": 33
    },
    "colab_type": "code",
    "id": "lPNTM3g4ZiuS",
    "outputId": "1f1d4a8a-81fe-425d-9aa3-4e9fb2bc4e4f"
   },
   "outputs": [
    {
     "data": {
      "text/plain": [
       "array([1461, 1462, 1463, ..., 2917, 2918, 2919])"
      ]
     },
     "execution_count": 113,
     "metadata": {
      "tags": []
     },
     "output_type": "execute_result"
    }
   ],
   "source": [
    "test['Id'].values"
   ]
  },
  {
   "cell_type": "code",
   "execution_count": 0,
   "metadata": {
    "colab": {},
    "colab_type": "code",
    "id": "p-_TpkCVh7XT"
   },
   "outputs": [],
   "source": [
    "# dropping ID\n",
    "\n",
    "train.drop(['Id'], axis=1, inplace=True)\n",
    "\n",
    "test_id = test['Id'].values # for submission\n",
    "test.drop(['Id'], axis=1, inplace=True)"
   ]
  },
  {
   "cell_type": "markdown",
   "metadata": {
    "colab_type": "text",
    "id": "hYBrR7zYh7Xf"
   },
   "source": [
    "# Combining train and test to apply transformations.\n"
   ]
  },
  {
   "cell_type": "markdown",
   "metadata": {
    "colab_type": "text",
    "id": "lwe0Uockh7Xr"
   },
   "source": [
    "# Feature Engineering\n",
    "\n",
    "Feature engineering is the process of using domain knowledge of the data to transform existing features or to create new variables from existing ones, for use in machine learning.\n",
    "\n",
    "[feature engineering](https://www.trainindata.com/post/feature-engineering-comprehensive-overview)"
   ]
  },
  {
   "cell_type": "markdown",
   "metadata": {
    "colab_type": "text",
    "id": "aL8RzD3MlJx9"
   },
   "source": [
    "In this notebook we'll build on the insights we gattered from the first kernel.\n",
    "We'll dive into:\n",
    "1. Outlier Engineering\n",
    "1. Missing Data Imputation\n",
    "2. Variable Transformation\n",
    "3. Date and Time Engineering\n",
    "4. Categorical Encoding\n",
    "5. Feature Creation (if necessary)"
   ]
  },
  {
   "cell_type": "markdown",
   "metadata": {
    "colab_type": "text",
    "id": "Vxz5wY_cnGA8"
   },
   "source": [
    "# Outlier removal\n",
    "\n",
    "There are two outliers present as seen previously in the plot of `GrlivArea` and `SalePrice`"
   ]
  },
  {
   "cell_type": "code",
   "execution_count": 7,
   "metadata": {
    "colab": {
     "base_uri": "https://localhost:8080/",
     "height": 279
    },
    "colab_type": "code",
    "id": "E7N2LK4Lh7Xu",
    "outputId": "7fc644f8-08d3-498a-c735-752999b594b4"
   },
   "outputs": [
    {
     "data": {
      "image/png": "[encoded data removed]",
      "text/plain": [
       "<Figure size 432x288 with 1 Axes>"
      ]
     },
     "metadata": {
      "needs_background": "light",
      "tags": []
     },
     "output_type": "display_data"
    }
   ],
   "source": [
    "fig, ax = plt.subplots()\n",
    "ax.scatter(x = train['GrLivArea'], y = train['SalePrice'])\n",
    "plt.ylabel('SalePrice', fontsize=13)\n",
    "plt.xlabel('GrLivArea', fontsize=13)\n",
    "plt.show()"
   ]
  },
  {
   "cell_type": "markdown",
   "metadata": {
    "colab_type": "text",
    "id": "jtz7TRlAqOYc"
   },
   "source": [
    "large area but still small SalePrice"
   ]
  },
  {
   "cell_type": "code",
   "execution_count": 8,
   "metadata": {
    "colab": {
     "base_uri": "https://localhost:8080/",
     "height": 279
    },
    "colab_type": "code",
    "id": "9yYFU0J1h7X1",
    "outputId": "d0a7878b-0077-4584-fcb1-fab7c23fc694"
   },
   "outputs": [
    {
     "data": {
      "image/png": "[encoded data removed]",
      "text/plain": [
       "<Figure size 432x288 with 1 Axes>"
      ]
     },
     "metadata": {
      "needs_background": "light",
      "tags": []
     },
     "output_type": "display_data"
    }
   ],
   "source": [
    "#Deleting outliers\n",
    "\n",
    "train = train.drop(train[(train['GrLivArea']>4000) & (train['SalePrice']<300000)].index)\n",
    "fig, ax = plt.subplots()\n",
    "ax.scatter(train['GrLivArea'], train['SalePrice'])\n",
    "plt.ylabel('SalePrice', fontsize=13)\n",
    "plt.xlabel('GrLivArea', fontsize=13)\n",
    "plt.show()"
   ]
  },
  {
   "cell_type": "markdown",
   "metadata": {
    "colab_type": "text",
    "id": "Yereix53q34R"
   },
   "source": [
    "# Log-Transformation of target variable\n",
    "\n",
    "We preivously saw that SalePrice was heavily skewed, we would need to transform this variable"
   ]
  },
  {
   "cell_type": "code",
   "execution_count": 9,
   "metadata": {
    "colab": {
     "base_uri": "https://localhost:8080/",
     "height": 592
    },
    "colab_type": "code",
    "id": "NMkP-0LqtLvs",
    "outputId": "e8d72a31-28e3-40b1-a37d-5d75d473eed2"
   },
   "outputs": [
    {
     "name": "stdout",
     "output_type": "stream",
     "text": [
      "mu = 180932.92 and sigma = 79467.79\n"
     ]
    },
    {
     "data": {
      "image/png": "[encoded data removed]",
      "text/plain": [
       "<Figure size 432x288 with 1 Axes>"
      ]
     },
     "metadata": {
      "needs_background": "light",
      "tags": []
     },
     "output_type": "display_data"
    },
    {
     "data": {
      "image/png": "[encoded data removed]",
      "text/plain": [
       "<Figure size 432x288 with 1 Axes>"
      ]
     },
     "metadata": {
      "needs_background": "light",
      "tags": []
     },
     "output_type": "display_data"
    }
   ],
   "source": [
    "sns.distplot(train['SalePrice'] , fit=norm);\n",
    "\n",
    "(mu, sigma) = norm.fit(train['SalePrice'])\n",
    "print(f'mu = {mu:.2f} and sigma = {sigma:.2f}')\n",
    "\n",
    "#Now plot the distribution\n",
    "plt.legend([f'Normal dist. ($\\mu=$ {mu:.2f} and $\\sigma=$ {sigma:.2f} )'],\n",
    "            loc='best')\n",
    "plt.ylabel('Frequency')\n",
    "plt.title('SalePrice distribution')\n",
    "\n",
    "#Get also the QQ-plot\n",
    "fig = plt.figure()\n",
    "res = stats.probplot(train['SalePrice'], plot=plt)\n",
    "plt.show()"
   ]
  },
  {
   "cell_type": "markdown",
   "metadata": {
    "colab_type": "text",
    "id": "1Xa7lB9Kui0H"
   },
   "source": [
    "log transforming the feature to remove skewness"
   ]
  },
  {
   "cell_type": "code",
   "execution_count": 10,
   "metadata": {
    "colab": {
     "base_uri": "https://localhost:8080/",
     "height": 592
    },
    "colab_type": "code",
    "id": "tYZnZrGnq7eY",
    "outputId": "10305a66-2863-4c93-8a4a-3c3bc9d2b7b7"
   },
   "outputs": [
    {
     "name": "stdout",
     "output_type": "stream",
     "text": [
      "mu = 12.02 and sigma = 0.40\n"
     ]
    },
    {
     "data": {
      "image/png": "[encoded data removed]",
      "text/plain": [
       "<Figure size 432x288 with 1 Axes>"
      ]
     },
     "metadata": {
      "needs_background": "light",
      "tags": []
     },
     "output_type": "display_data"
    },
    {
     "data": {
      "image/png": "[encoded data removed]",
      "text/plain": [
       "<Figure size 432x288 with 1 Axes>"
      ]
     },
     "metadata": {
      "needs_background": "light",
      "tags": []
     },
     "output_type": "display_data"
    }
   ],
   "source": [
    "train[\"SalePrice\"] = np.log1p(train[\"SalePrice\"])\n",
    "\n",
    "sns.distplot(train['SalePrice'] , fit=norm);\n",
    "\n",
    "# Get the fitted parameters used by the function\n",
    "(mu, sigma) = norm.fit(train['SalePrice'])\n",
    "print(f'mu = {mu:.2f} and sigma = {sigma:.2f}')\n",
    "\n",
    "#Now plot the distribution\n",
    "plt.legend([f'Normal dist. ($\\mu=$ {mu:.2f} and $\\sigma=$ {sigma:.2f} )'],\n",
    "            loc='best')\n",
    "plt.ylabel('Frequency')\n",
    "plt.title('SalePrice distribution')\n",
    "\n",
    "#Get also the QQ-plot\n",
    "fig = plt.figure()\n",
    "res = stats.probplot(train['SalePrice'], plot=plt)\n",
    "plt.show()"
   ]
  },
  {
   "cell_type": "markdown",
   "metadata": {
    "colab_type": "text",
    "id": "YWgJTdGFHFE0"
   },
   "source": [
    "\n",
    "\n",
    "---\n",
    "\n"
   ]
  },
  {
   "cell_type": "markdown",
   "metadata": {
    "colab_type": "text",
    "id": "ohvJDOqSG4JC"
   },
   "source": [
    "Concatenate the train and test data in the same dataframe."
   ]
  },
  {
   "cell_type": "code",
   "execution_count": 11,
   "metadata": {
    "colab": {
     "base_uri": "https://localhost:8080/",
     "height": 33
    },
    "colab_type": "code",
    "id": "ZDi-Y3dJGwPR",
    "outputId": "c5580a74-629c-48b3-9a0a-24cffd30b71d"
   },
   "outputs": [
    {
     "name": "stdout",
     "output_type": "stream",
     "text": [
      "all_data size is : (2917, 79)\n"
     ]
    }
   ],
   "source": [
    "ntrain = train.shape[0]\n",
    "ntest = test.shape[0]\n",
    "y_train = train.SalePrice.values\n",
    "all_data = pd.concat((train, test)).reset_index(drop=True)\n",
    "all_data.drop(['SalePrice'], axis=1, inplace=True)\n",
    "print(f\"all_data size is : {all_data.shape}\")"
   ]
  },
  {
   "cell_type": "markdown",
   "metadata": {
    "colab_type": "text",
    "id": "Wpco2TV8h7X6"
   },
   "source": [
    "# Treating missing values"
   ]
  },
  {
   "cell_type": "code",
   "execution_count": 12,
   "metadata": {
    "colab": {
     "base_uri": "https://localhost:8080/",
     "height": 705
    },
    "colab_type": "code",
    "id": "ZNS9MoWV5g0M",
    "outputId": "fdd63f09-365d-4425-9b74-fbf4ef94a1f9"
   },
   "outputs": [
    {
     "data": {
      "text/html": [
       "<style  type=\"text/css\" >\n",
       "    #T_c610d166_a73f_11ea_ac4f_0242ac1c0002row0_col1 {\n",
       "            background-color:  #67000d;\n",
       "            color:  #f1f1f1;\n",
       "        }    #T_c610d166_a73f_11ea_ac4f_0242ac1c0002row0_col2 {\n",
       "            background-color:  #67000d;\n",
       "            color:  #f1f1f1;\n",
       "        }    #T_c610d166_a73f_11ea_ac4f_0242ac1c0002row1_col1 {\n",
       "            background-color:  #77040f;\n",
       "            color:  #f1f1f1;\n",
       "        }    #T_c610d166_a73f_11ea_ac4f_0242ac1c0002row1_col2 {\n",
       "            background-color:  #77040f;\n",
       "            color:  #f1f1f1;\n",
       "        }    #T_c610d166_a73f_11ea_ac4f_0242ac1c0002row2_col1 {\n",
       "            background-color:  #860811;\n",
       "            color:  #f1f1f1;\n",
       "        }    #T_c610d166_a73f_11ea_ac4f_0242ac1c0002row2_col2 {\n",
       "            background-color:  #860811;\n",
       "            color:  #f1f1f1;\n",
       "        }    #T_c610d166_a73f_11ea_ac4f_0242ac1c0002row3_col1 {\n",
       "            background-color:  #b91419;\n",
       "            color:  #f1f1f1;\n",
       "        }    #T_c610d166_a73f_11ea_ac4f_0242ac1c0002row3_col2 {\n",
       "            background-color:  #b91419;\n",
       "            color:  #f1f1f1;\n",
       "        }    #T_c610d166_a73f_11ea_ac4f_0242ac1c0002row4_col1 {\n",
       "            background-color:  #fb6e4e;\n",
       "            color:  #000000;\n",
       "        }    #T_c610d166_a73f_11ea_ac4f_0242ac1c0002row4_col2 {\n",
       "            background-color:  #fb6e4e;\n",
       "            color:  #000000;\n",
       "        }    #T_c610d166_a73f_11ea_ac4f_0242ac1c0002row5_col1 {\n",
       "            background-color:  #fdd4c2;\n",
       "            color:  #000000;\n",
       "        }    #T_c610d166_a73f_11ea_ac4f_0242ac1c0002row5_col2 {\n",
       "            background-color:  #fdd4c2;\n",
       "            color:  #000000;\n",
       "        }    #T_c610d166_a73f_11ea_ac4f_0242ac1c0002row6_col1 {\n",
       "            background-color:  #ffece4;\n",
       "            color:  #000000;\n",
       "        }    #T_c610d166_a73f_11ea_ac4f_0242ac1c0002row6_col2 {\n",
       "            background-color:  #ffece4;\n",
       "            color:  #000000;\n",
       "        }    #T_c610d166_a73f_11ea_ac4f_0242ac1c0002row7_col1 {\n",
       "            background-color:  #ffece4;\n",
       "            color:  #000000;\n",
       "        }    #T_c610d166_a73f_11ea_ac4f_0242ac1c0002row7_col2 {\n",
       "            background-color:  #ffece4;\n",
       "            color:  #000000;\n",
       "        }    #T_c610d166_a73f_11ea_ac4f_0242ac1c0002row8_col1 {\n",
       "            background-color:  #ffece4;\n",
       "            color:  #000000;\n",
       "        }    #T_c610d166_a73f_11ea_ac4f_0242ac1c0002row8_col2 {\n",
       "            background-color:  #ffece4;\n",
       "            color:  #000000;\n",
       "        }    #T_c610d166_a73f_11ea_ac4f_0242ac1c0002row9_col1 {\n",
       "            background-color:  #ffece4;\n",
       "            color:  #000000;\n",
       "        }    #T_c610d166_a73f_11ea_ac4f_0242ac1c0002row9_col2 {\n",
       "            background-color:  #ffece4;\n",
       "            color:  #000000;\n",
       "        }    #T_c610d166_a73f_11ea_ac4f_0242ac1c0002row10_col1 {\n",
       "            background-color:  #ffece4;\n",
       "            color:  #000000;\n",
       "        }    #T_c610d166_a73f_11ea_ac4f_0242ac1c0002row10_col2 {\n",
       "            background-color:  #ffece4;\n",
       "            color:  #000000;\n",
       "        }    #T_c610d166_a73f_11ea_ac4f_0242ac1c0002row11_col1 {\n",
       "            background-color:  #fff0e9;\n",
       "            color:  #000000;\n",
       "        }    #T_c610d166_a73f_11ea_ac4f_0242ac1c0002row11_col2 {\n",
       "            background-color:  #fff0e9;\n",
       "            color:  #000000;\n",
       "        }    #T_c610d166_a73f_11ea_ac4f_0242ac1c0002row12_col1 {\n",
       "            background-color:  #fff0e9;\n",
       "            color:  #000000;\n",
       "        }    #T_c610d166_a73f_11ea_ac4f_0242ac1c0002row12_col2 {\n",
       "            background-color:  #fff0e9;\n",
       "            color:  #000000;\n",
       "        }    #T_c610d166_a73f_11ea_ac4f_0242ac1c0002row13_col1 {\n",
       "            background-color:  #fff0e9;\n",
       "            color:  #000000;\n",
       "        }    #T_c610d166_a73f_11ea_ac4f_0242ac1c0002row13_col2 {\n",
       "            background-color:  #fff0e9;\n",
       "            color:  #000000;\n",
       "        }    #T_c610d166_a73f_11ea_ac4f_0242ac1c0002row14_col1 {\n",
       "            background-color:  #fff1ea;\n",
       "            color:  #000000;\n",
       "        }    #T_c610d166_a73f_11ea_ac4f_0242ac1c0002row14_col2 {\n",
       "            background-color:  #fff1ea;\n",
       "            color:  #000000;\n",
       "        }    #T_c610d166_a73f_11ea_ac4f_0242ac1c0002row15_col1 {\n",
       "            background-color:  #fff1ea;\n",
       "            color:  #000000;\n",
       "        }    #T_c610d166_a73f_11ea_ac4f_0242ac1c0002row15_col2 {\n",
       "            background-color:  #fff1ea;\n",
       "            color:  #000000;\n",
       "        }    #T_c610d166_a73f_11ea_ac4f_0242ac1c0002row16_col1 {\n",
       "            background-color:  #fff4ee;\n",
       "            color:  #000000;\n",
       "        }    #T_c610d166_a73f_11ea_ac4f_0242ac1c0002row16_col2 {\n",
       "            background-color:  #fff4ee;\n",
       "            color:  #000000;\n",
       "        }    #T_c610d166_a73f_11ea_ac4f_0242ac1c0002row17_col1 {\n",
       "            background-color:  #fff4ef;\n",
       "            color:  #000000;\n",
       "        }    #T_c610d166_a73f_11ea_ac4f_0242ac1c0002row17_col2 {\n",
       "            background-color:  #fff4ef;\n",
       "            color:  #000000;\n",
       "        }    #T_c610d166_a73f_11ea_ac4f_0242ac1c0002row18_col1 {\n",
       "            background-color:  #fff5f0;\n",
       "            color:  #000000;\n",
       "        }    #T_c610d166_a73f_11ea_ac4f_0242ac1c0002row18_col2 {\n",
       "            background-color:  #fff5f0;\n",
       "            color:  #000000;\n",
       "        }    #T_c610d166_a73f_11ea_ac4f_0242ac1c0002row19_col1 {\n",
       "            background-color:  #fff5f0;\n",
       "            color:  #000000;\n",
       "        }    #T_c610d166_a73f_11ea_ac4f_0242ac1c0002row19_col2 {\n",
       "            background-color:  #fff5f0;\n",
       "            color:  #000000;\n",
       "        }    #T_c610d166_a73f_11ea_ac4f_0242ac1c0002row20_col1 {\n",
       "            background-color:  #fff5f0;\n",
       "            color:  #000000;\n",
       "        }    #T_c610d166_a73f_11ea_ac4f_0242ac1c0002row20_col2 {\n",
       "            background-color:  #fff5f0;\n",
       "            color:  #000000;\n",
       "        }    #T_c610d166_a73f_11ea_ac4f_0242ac1c0002row21_col1 {\n",
       "            background-color:  #fff5f0;\n",
       "            color:  #000000;\n",
       "        }    #T_c610d166_a73f_11ea_ac4f_0242ac1c0002row21_col2 {\n",
       "            background-color:  #fff5f0;\n",
       "            color:  #000000;\n",
       "        }    #T_c610d166_a73f_11ea_ac4f_0242ac1c0002row22_col1 {\n",
       "            background-color:  #fff5f0;\n",
       "            color:  #000000;\n",
       "        }    #T_c610d166_a73f_11ea_ac4f_0242ac1c0002row22_col2 {\n",
       "            background-color:  #fff5f0;\n",
       "            color:  #000000;\n",
       "        }    #T_c610d166_a73f_11ea_ac4f_0242ac1c0002row23_col1 {\n",
       "            background-color:  #fff5f0;\n",
       "            color:  #000000;\n",
       "        }    #T_c610d166_a73f_11ea_ac4f_0242ac1c0002row23_col2 {\n",
       "            background-color:  #fff5f0;\n",
       "            color:  #000000;\n",
       "        }    #T_c610d166_a73f_11ea_ac4f_0242ac1c0002row24_col1 {\n",
       "            background-color:  #fff5f0;\n",
       "            color:  #000000;\n",
       "        }    #T_c610d166_a73f_11ea_ac4f_0242ac1c0002row24_col2 {\n",
       "            background-color:  #fff5f0;\n",
       "            color:  #000000;\n",
       "        }    #T_c610d166_a73f_11ea_ac4f_0242ac1c0002row25_col1 {\n",
       "            background-color:  #fff5f0;\n",
       "            color:  #000000;\n",
       "        }    #T_c610d166_a73f_11ea_ac4f_0242ac1c0002row25_col2 {\n",
       "            background-color:  #fff5f0;\n",
       "            color:  #000000;\n",
       "        }    #T_c610d166_a73f_11ea_ac4f_0242ac1c0002row26_col1 {\n",
       "            background-color:  #fff5f0;\n",
       "            color:  #000000;\n",
       "        }    #T_c610d166_a73f_11ea_ac4f_0242ac1c0002row26_col2 {\n",
       "            background-color:  #fff5f0;\n",
       "            color:  #000000;\n",
       "        }    #T_c610d166_a73f_11ea_ac4f_0242ac1c0002row27_col1 {\n",
       "            background-color:  #fff5f0;\n",
       "            color:  #000000;\n",
       "        }    #T_c610d166_a73f_11ea_ac4f_0242ac1c0002row27_col2 {\n",
       "            background-color:  #fff5f0;\n",
       "            color:  #000000;\n",
       "        }    #T_c610d166_a73f_11ea_ac4f_0242ac1c0002row28_col1 {\n",
       "            background-color:  #fff5f0;\n",
       "            color:  #000000;\n",
       "        }    #T_c610d166_a73f_11ea_ac4f_0242ac1c0002row28_col2 {\n",
       "            background-color:  #fff5f0;\n",
       "            color:  #000000;\n",
       "        }    #T_c610d166_a73f_11ea_ac4f_0242ac1c0002row29_col1 {\n",
       "            background-color:  #fff5f0;\n",
       "            color:  #000000;\n",
       "        }    #T_c610d166_a73f_11ea_ac4f_0242ac1c0002row29_col2 {\n",
       "            background-color:  #fff5f0;\n",
       "            color:  #000000;\n",
       "        }    #T_c610d166_a73f_11ea_ac4f_0242ac1c0002row30_col1 {\n",
       "            background-color:  #fff5f0;\n",
       "            color:  #000000;\n",
       "        }    #T_c610d166_a73f_11ea_ac4f_0242ac1c0002row30_col2 {\n",
       "            background-color:  #fff5f0;\n",
       "            color:  #000000;\n",
       "        }    #T_c610d166_a73f_11ea_ac4f_0242ac1c0002row31_col1 {\n",
       "            background-color:  #fff5f0;\n",
       "            color:  #000000;\n",
       "        }    #T_c610d166_a73f_11ea_ac4f_0242ac1c0002row31_col2 {\n",
       "            background-color:  #fff5f0;\n",
       "            color:  #000000;\n",
       "        }    #T_c610d166_a73f_11ea_ac4f_0242ac1c0002row32_col1 {\n",
       "            background-color:  #fff5f0;\n",
       "            color:  #000000;\n",
       "        }    #T_c610d166_a73f_11ea_ac4f_0242ac1c0002row32_col2 {\n",
       "            background-color:  #fff5f0;\n",
       "            color:  #000000;\n",
       "        }    #T_c610d166_a73f_11ea_ac4f_0242ac1c0002row33_col1 {\n",
       "            background-color:  #fff5f0;\n",
       "            color:  #000000;\n",
       "        }    #T_c610d166_a73f_11ea_ac4f_0242ac1c0002row33_col2 {\n",
       "            background-color:  #fff5f0;\n",
       "            color:  #000000;\n",
       "        }</style><table id=\"T_c610d166_a73f_11ea_ac4f_0242ac1c0002\" ><thead>    <tr>        <th class=\"blank level0\" ></th>        <th class=\"col_heading level0 col0\" >features</th>        <th class=\"col_heading level0 col1\" >Total</th>        <th class=\"col_heading level0 col2\" >Missing_PCT</th>    </tr></thead><tbody>\n",
       "                <tr>\n",
       "                        <th id=\"T_c610d166_a73f_11ea_ac4f_0242ac1c0002level0_row0\" class=\"row_heading level0 row0\" >0</th>\n",
       "                        <td id=\"T_c610d166_a73f_11ea_ac4f_0242ac1c0002row0_col0\" class=\"data row0 col0\" >PoolQC</td>\n",
       "                        <td id=\"T_c610d166_a73f_11ea_ac4f_0242ac1c0002row0_col1\" class=\"data row0 col1\" >2908</td>\n",
       "                        <td id=\"T_c610d166_a73f_11ea_ac4f_0242ac1c0002row0_col2\" class=\"data row0 col2\" >99.691000</td>\n",
       "            </tr>\n",
       "            <tr>\n",
       "                        <th id=\"T_c610d166_a73f_11ea_ac4f_0242ac1c0002level0_row1\" class=\"row_heading level0 row1\" >1</th>\n",
       "                        <td id=\"T_c610d166_a73f_11ea_ac4f_0242ac1c0002row1_col0\" class=\"data row1 col0\" >MiscFeature</td>\n",
       "                        <td id=\"T_c610d166_a73f_11ea_ac4f_0242ac1c0002row1_col1\" class=\"data row1 col1\" >2812</td>\n",
       "                        <td id=\"T_c610d166_a73f_11ea_ac4f_0242ac1c0002row1_col2\" class=\"data row1 col2\" >96.400000</td>\n",
       "            </tr>\n",
       "            <tr>\n",
       "                        <th id=\"T_c610d166_a73f_11ea_ac4f_0242ac1c0002level0_row2\" class=\"row_heading level0 row2\" >2</th>\n",
       "                        <td id=\"T_c610d166_a73f_11ea_ac4f_0242ac1c0002row2_col0\" class=\"data row2 col0\" >Alley</td>\n",
       "                        <td id=\"T_c610d166_a73f_11ea_ac4f_0242ac1c0002row2_col1\" class=\"data row2 col1\" >2719</td>\n",
       "                        <td id=\"T_c610d166_a73f_11ea_ac4f_0242ac1c0002row2_col2\" class=\"data row2 col2\" >93.212000</td>\n",
       "            </tr>\n",
       "            <tr>\n",
       "                        <th id=\"T_c610d166_a73f_11ea_ac4f_0242ac1c0002level0_row3\" class=\"row_heading level0 row3\" >3</th>\n",
       "                        <td id=\"T_c610d166_a73f_11ea_ac4f_0242ac1c0002row3_col0\" class=\"data row3 col0\" >Fence</td>\n",
       "                        <td id=\"T_c610d166_a73f_11ea_ac4f_0242ac1c0002row3_col1\" class=\"data row3 col1\" >2346</td>\n",
       "                        <td id=\"T_c610d166_a73f_11ea_ac4f_0242ac1c0002row3_col2\" class=\"data row3 col2\" >80.425000</td>\n",
       "            </tr>\n",
       "            <tr>\n",
       "                        <th id=\"T_c610d166_a73f_11ea_ac4f_0242ac1c0002level0_row4\" class=\"row_heading level0 row4\" >4</th>\n",
       "                        <td id=\"T_c610d166_a73f_11ea_ac4f_0242ac1c0002row4_col0\" class=\"data row4 col0\" >FireplaceQu</td>\n",
       "                        <td id=\"T_c610d166_a73f_11ea_ac4f_0242ac1c0002row4_col1\" class=\"data row4 col1\" >1420</td>\n",
       "                        <td id=\"T_c610d166_a73f_11ea_ac4f_0242ac1c0002row4_col2\" class=\"data row4 col2\" >48.680000</td>\n",
       "            </tr>\n",
       "            <tr>\n",
       "                        <th id=\"T_c610d166_a73f_11ea_ac4f_0242ac1c0002level0_row5\" class=\"row_heading level0 row5\" >5</th>\n",
       "                        <td id=\"T_c610d166_a73f_11ea_ac4f_0242ac1c0002row5_col0\" class=\"data row5 col0\" >LotFrontage</td>\n",
       "                        <td id=\"T_c610d166_a73f_11ea_ac4f_0242ac1c0002row5_col1\" class=\"data row5 col1\" >486</td>\n",
       "                        <td id=\"T_c610d166_a73f_11ea_ac4f_0242ac1c0002row5_col2\" class=\"data row5 col2\" >16.661000</td>\n",
       "            </tr>\n",
       "            <tr>\n",
       "                        <th id=\"T_c610d166_a73f_11ea_ac4f_0242ac1c0002level0_row6\" class=\"row_heading level0 row6\" >6</th>\n",
       "                        <td id=\"T_c610d166_a73f_11ea_ac4f_0242ac1c0002row6_col0\" class=\"data row6 col0\" >GarageFinish</td>\n",
       "                        <td id=\"T_c610d166_a73f_11ea_ac4f_0242ac1c0002row6_col1\" class=\"data row6 col1\" >159</td>\n",
       "                        <td id=\"T_c610d166_a73f_11ea_ac4f_0242ac1c0002row6_col2\" class=\"data row6 col2\" >5.451000</td>\n",
       "            </tr>\n",
       "            <tr>\n",
       "                        <th id=\"T_c610d166_a73f_11ea_ac4f_0242ac1c0002level0_row7\" class=\"row_heading level0 row7\" >7</th>\n",
       "                        <td id=\"T_c610d166_a73f_11ea_ac4f_0242ac1c0002row7_col0\" class=\"data row7 col0\" >GarageQual</td>\n",
       "                        <td id=\"T_c610d166_a73f_11ea_ac4f_0242ac1c0002row7_col1\" class=\"data row7 col1\" >159</td>\n",
       "                        <td id=\"T_c610d166_a73f_11ea_ac4f_0242ac1c0002row7_col2\" class=\"data row7 col2\" >5.451000</td>\n",
       "            </tr>\n",
       "            <tr>\n",
       "                        <th id=\"T_c610d166_a73f_11ea_ac4f_0242ac1c0002level0_row8\" class=\"row_heading level0 row8\" >8</th>\n",
       "                        <td id=\"T_c610d166_a73f_11ea_ac4f_0242ac1c0002row8_col0\" class=\"data row8 col0\" >GarageCond</td>\n",
       "                        <td id=\"T_c610d166_a73f_11ea_ac4f_0242ac1c0002row8_col1\" class=\"data row8 col1\" >159</td>\n",
       "                        <td id=\"T_c610d166_a73f_11ea_ac4f_0242ac1c0002row8_col2\" class=\"data row8 col2\" >5.451000</td>\n",
       "            </tr>\n",
       "            <tr>\n",
       "                        <th id=\"T_c610d166_a73f_11ea_ac4f_0242ac1c0002level0_row9\" class=\"row_heading level0 row9\" >9</th>\n",
       "                        <td id=\"T_c610d166_a73f_11ea_ac4f_0242ac1c0002row9_col0\" class=\"data row9 col0\" >GarageYrBlt</td>\n",
       "                        <td id=\"T_c610d166_a73f_11ea_ac4f_0242ac1c0002row9_col1\" class=\"data row9 col1\" >159</td>\n",
       "                        <td id=\"T_c610d166_a73f_11ea_ac4f_0242ac1c0002row9_col2\" class=\"data row9 col2\" >5.451000</td>\n",
       "            </tr>\n",
       "            <tr>\n",
       "                        <th id=\"T_c610d166_a73f_11ea_ac4f_0242ac1c0002level0_row10\" class=\"row_heading level0 row10\" >10</th>\n",
       "                        <td id=\"T_c610d166_a73f_11ea_ac4f_0242ac1c0002row10_col0\" class=\"data row10 col0\" >GarageType</td>\n",
       "                        <td id=\"T_c610d166_a73f_11ea_ac4f_0242ac1c0002row10_col1\" class=\"data row10 col1\" >157</td>\n",
       "                        <td id=\"T_c610d166_a73f_11ea_ac4f_0242ac1c0002row10_col2\" class=\"data row10 col2\" >5.382000</td>\n",
       "            </tr>\n",
       "            <tr>\n",
       "                        <th id=\"T_c610d166_a73f_11ea_ac4f_0242ac1c0002level0_row11\" class=\"row_heading level0 row11\" >11</th>\n",
       "                        <td id=\"T_c610d166_a73f_11ea_ac4f_0242ac1c0002row11_col0\" class=\"data row11 col0\" >BsmtExposure</td>\n",
       "                        <td id=\"T_c610d166_a73f_11ea_ac4f_0242ac1c0002row11_col1\" class=\"data row11 col1\" >82</td>\n",
       "                        <td id=\"T_c610d166_a73f_11ea_ac4f_0242ac1c0002row11_col2\" class=\"data row11 col2\" >2.811000</td>\n",
       "            </tr>\n",
       "            <tr>\n",
       "                        <th id=\"T_c610d166_a73f_11ea_ac4f_0242ac1c0002level0_row12\" class=\"row_heading level0 row12\" >12</th>\n",
       "                        <td id=\"T_c610d166_a73f_11ea_ac4f_0242ac1c0002row12_col0\" class=\"data row12 col0\" >BsmtCond</td>\n",
       "                        <td id=\"T_c610d166_a73f_11ea_ac4f_0242ac1c0002row12_col1\" class=\"data row12 col1\" >82</td>\n",
       "                        <td id=\"T_c610d166_a73f_11ea_ac4f_0242ac1c0002row12_col2\" class=\"data row12 col2\" >2.811000</td>\n",
       "            </tr>\n",
       "            <tr>\n",
       "                        <th id=\"T_c610d166_a73f_11ea_ac4f_0242ac1c0002level0_row13\" class=\"row_heading level0 row13\" >13</th>\n",
       "                        <td id=\"T_c610d166_a73f_11ea_ac4f_0242ac1c0002row13_col0\" class=\"data row13 col0\" >BsmtQual</td>\n",
       "                        <td id=\"T_c610d166_a73f_11ea_ac4f_0242ac1c0002row13_col1\" class=\"data row13 col1\" >81</td>\n",
       "                        <td id=\"T_c610d166_a73f_11ea_ac4f_0242ac1c0002row13_col2\" class=\"data row13 col2\" >2.777000</td>\n",
       "            </tr>\n",
       "            <tr>\n",
       "                        <th id=\"T_c610d166_a73f_11ea_ac4f_0242ac1c0002level0_row14\" class=\"row_heading level0 row14\" >14</th>\n",
       "                        <td id=\"T_c610d166_a73f_11ea_ac4f_0242ac1c0002row14_col0\" class=\"data row14 col0\" >BsmtFinType2</td>\n",
       "                        <td id=\"T_c610d166_a73f_11ea_ac4f_0242ac1c0002row14_col1\" class=\"data row14 col1\" >80</td>\n",
       "                        <td id=\"T_c610d166_a73f_11ea_ac4f_0242ac1c0002row14_col2\" class=\"data row14 col2\" >2.743000</td>\n",
       "            </tr>\n",
       "            <tr>\n",
       "                        <th id=\"T_c610d166_a73f_11ea_ac4f_0242ac1c0002level0_row15\" class=\"row_heading level0 row15\" >15</th>\n",
       "                        <td id=\"T_c610d166_a73f_11ea_ac4f_0242ac1c0002row15_col0\" class=\"data row15 col0\" >BsmtFinType1</td>\n",
       "                        <td id=\"T_c610d166_a73f_11ea_ac4f_0242ac1c0002row15_col1\" class=\"data row15 col1\" >79</td>\n",
       "                        <td id=\"T_c610d166_a73f_11ea_ac4f_0242ac1c0002row15_col2\" class=\"data row15 col2\" >2.708000</td>\n",
       "            </tr>\n",
       "            <tr>\n",
       "                        <th id=\"T_c610d166_a73f_11ea_ac4f_0242ac1c0002level0_row16\" class=\"row_heading level0 row16\" >16</th>\n",
       "                        <td id=\"T_c610d166_a73f_11ea_ac4f_0242ac1c0002row16_col0\" class=\"data row16 col0\" >MasVnrType</td>\n",
       "                        <td id=\"T_c610d166_a73f_11ea_ac4f_0242ac1c0002row16_col1\" class=\"data row16 col1\" >24</td>\n",
       "                        <td id=\"T_c610d166_a73f_11ea_ac4f_0242ac1c0002row16_col2\" class=\"data row16 col2\" >0.823000</td>\n",
       "            </tr>\n",
       "            <tr>\n",
       "                        <th id=\"T_c610d166_a73f_11ea_ac4f_0242ac1c0002level0_row17\" class=\"row_heading level0 row17\" >17</th>\n",
       "                        <td id=\"T_c610d166_a73f_11ea_ac4f_0242ac1c0002row17_col0\" class=\"data row17 col0\" >MasVnrArea</td>\n",
       "                        <td id=\"T_c610d166_a73f_11ea_ac4f_0242ac1c0002row17_col1\" class=\"data row17 col1\" >23</td>\n",
       "                        <td id=\"T_c610d166_a73f_11ea_ac4f_0242ac1c0002row17_col2\" class=\"data row17 col2\" >0.788000</td>\n",
       "            </tr>\n",
       "            <tr>\n",
       "                        <th id=\"T_c610d166_a73f_11ea_ac4f_0242ac1c0002level0_row18\" class=\"row_heading level0 row18\" >18</th>\n",
       "                        <td id=\"T_c610d166_a73f_11ea_ac4f_0242ac1c0002row18_col0\" class=\"data row18 col0\" >MSZoning</td>\n",
       "                        <td id=\"T_c610d166_a73f_11ea_ac4f_0242ac1c0002row18_col1\" class=\"data row18 col1\" >4</td>\n",
       "                        <td id=\"T_c610d166_a73f_11ea_ac4f_0242ac1c0002row18_col2\" class=\"data row18 col2\" >0.137000</td>\n",
       "            </tr>\n",
       "            <tr>\n",
       "                        <th id=\"T_c610d166_a73f_11ea_ac4f_0242ac1c0002level0_row19\" class=\"row_heading level0 row19\" >19</th>\n",
       "                        <td id=\"T_c610d166_a73f_11ea_ac4f_0242ac1c0002row19_col0\" class=\"data row19 col0\" >BsmtFullBath</td>\n",
       "                        <td id=\"T_c610d166_a73f_11ea_ac4f_0242ac1c0002row19_col1\" class=\"data row19 col1\" >2</td>\n",
       "                        <td id=\"T_c610d166_a73f_11ea_ac4f_0242ac1c0002row19_col2\" class=\"data row19 col2\" >0.069000</td>\n",
       "            </tr>\n",
       "            <tr>\n",
       "                        <th id=\"T_c610d166_a73f_11ea_ac4f_0242ac1c0002level0_row20\" class=\"row_heading level0 row20\" >20</th>\n",
       "                        <td id=\"T_c610d166_a73f_11ea_ac4f_0242ac1c0002row20_col0\" class=\"data row20 col0\" >BsmtHalfBath</td>\n",
       "                        <td id=\"T_c610d166_a73f_11ea_ac4f_0242ac1c0002row20_col1\" class=\"data row20 col1\" >2</td>\n",
       "                        <td id=\"T_c610d166_a73f_11ea_ac4f_0242ac1c0002row20_col2\" class=\"data row20 col2\" >0.069000</td>\n",
       "            </tr>\n",
       "            <tr>\n",
       "                        <th id=\"T_c610d166_a73f_11ea_ac4f_0242ac1c0002level0_row21\" class=\"row_heading level0 row21\" >21</th>\n",
       "                        <td id=\"T_c610d166_a73f_11ea_ac4f_0242ac1c0002row21_col0\" class=\"data row21 col0\" >Functional</td>\n",
       "                        <td id=\"T_c610d166_a73f_11ea_ac4f_0242ac1c0002row21_col1\" class=\"data row21 col1\" >2</td>\n",
       "                        <td id=\"T_c610d166_a73f_11ea_ac4f_0242ac1c0002row21_col2\" class=\"data row21 col2\" >0.069000</td>\n",
       "            </tr>\n",
       "            <tr>\n",
       "                        <th id=\"T_c610d166_a73f_11ea_ac4f_0242ac1c0002level0_row22\" class=\"row_heading level0 row22\" >22</th>\n",
       "                        <td id=\"T_c610d166_a73f_11ea_ac4f_0242ac1c0002row22_col0\" class=\"data row22 col0\" >Utilities</td>\n",
       "                        <td id=\"T_c610d166_a73f_11ea_ac4f_0242ac1c0002row22_col1\" class=\"data row22 col1\" >2</td>\n",
       "                        <td id=\"T_c610d166_a73f_11ea_ac4f_0242ac1c0002row22_col2\" class=\"data row22 col2\" >0.069000</td>\n",
       "            </tr>\n",
       "            <tr>\n",
       "                        <th id=\"T_c610d166_a73f_11ea_ac4f_0242ac1c0002level0_row23\" class=\"row_heading level0 row23\" >23</th>\n",
       "                        <td id=\"T_c610d166_a73f_11ea_ac4f_0242ac1c0002row23_col0\" class=\"data row23 col0\" >GarageArea</td>\n",
       "                        <td id=\"T_c610d166_a73f_11ea_ac4f_0242ac1c0002row23_col1\" class=\"data row23 col1\" >1</td>\n",
       "                        <td id=\"T_c610d166_a73f_11ea_ac4f_0242ac1c0002row23_col2\" class=\"data row23 col2\" >0.034000</td>\n",
       "            </tr>\n",
       "            <tr>\n",
       "                        <th id=\"T_c610d166_a73f_11ea_ac4f_0242ac1c0002level0_row24\" class=\"row_heading level0 row24\" >24</th>\n",
       "                        <td id=\"T_c610d166_a73f_11ea_ac4f_0242ac1c0002row24_col0\" class=\"data row24 col0\" >GarageCars</td>\n",
       "                        <td id=\"T_c610d166_a73f_11ea_ac4f_0242ac1c0002row24_col1\" class=\"data row24 col1\" >1</td>\n",
       "                        <td id=\"T_c610d166_a73f_11ea_ac4f_0242ac1c0002row24_col2\" class=\"data row24 col2\" >0.034000</td>\n",
       "            </tr>\n",
       "            <tr>\n",
       "                        <th id=\"T_c610d166_a73f_11ea_ac4f_0242ac1c0002level0_row25\" class=\"row_heading level0 row25\" >25</th>\n",
       "                        <td id=\"T_c610d166_a73f_11ea_ac4f_0242ac1c0002row25_col0\" class=\"data row25 col0\" >Electrical</td>\n",
       "                        <td id=\"T_c610d166_a73f_11ea_ac4f_0242ac1c0002row25_col1\" class=\"data row25 col1\" >1</td>\n",
       "                        <td id=\"T_c610d166_a73f_11ea_ac4f_0242ac1c0002row25_col2\" class=\"data row25 col2\" >0.034000</td>\n",
       "            </tr>\n",
       "            <tr>\n",
       "                        <th id=\"T_c610d166_a73f_11ea_ac4f_0242ac1c0002level0_row26\" class=\"row_heading level0 row26\" >26</th>\n",
       "                        <td id=\"T_c610d166_a73f_11ea_ac4f_0242ac1c0002row26_col0\" class=\"data row26 col0\" >KitchenQual</td>\n",
       "                        <td id=\"T_c610d166_a73f_11ea_ac4f_0242ac1c0002row26_col1\" class=\"data row26 col1\" >1</td>\n",
       "                        <td id=\"T_c610d166_a73f_11ea_ac4f_0242ac1c0002row26_col2\" class=\"data row26 col2\" >0.034000</td>\n",
       "            </tr>\n",
       "            <tr>\n",
       "                        <th id=\"T_c610d166_a73f_11ea_ac4f_0242ac1c0002level0_row27\" class=\"row_heading level0 row27\" >27</th>\n",
       "                        <td id=\"T_c610d166_a73f_11ea_ac4f_0242ac1c0002row27_col0\" class=\"data row27 col0\" >TotalBsmtSF</td>\n",
       "                        <td id=\"T_c610d166_a73f_11ea_ac4f_0242ac1c0002row27_col1\" class=\"data row27 col1\" >1</td>\n",
       "                        <td id=\"T_c610d166_a73f_11ea_ac4f_0242ac1c0002row27_col2\" class=\"data row27 col2\" >0.034000</td>\n",
       "            </tr>\n",
       "            <tr>\n",
       "                        <th id=\"T_c610d166_a73f_11ea_ac4f_0242ac1c0002level0_row28\" class=\"row_heading level0 row28\" >28</th>\n",
       "                        <td id=\"T_c610d166_a73f_11ea_ac4f_0242ac1c0002row28_col0\" class=\"data row28 col0\" >BsmtUnfSF</td>\n",
       "                        <td id=\"T_c610d166_a73f_11ea_ac4f_0242ac1c0002row28_col1\" class=\"data row28 col1\" >1</td>\n",
       "                        <td id=\"T_c610d166_a73f_11ea_ac4f_0242ac1c0002row28_col2\" class=\"data row28 col2\" >0.034000</td>\n",
       "            </tr>\n",
       "            <tr>\n",
       "                        <th id=\"T_c610d166_a73f_11ea_ac4f_0242ac1c0002level0_row29\" class=\"row_heading level0 row29\" >29</th>\n",
       "                        <td id=\"T_c610d166_a73f_11ea_ac4f_0242ac1c0002row29_col0\" class=\"data row29 col0\" >BsmtFinSF2</td>\n",
       "                        <td id=\"T_c610d166_a73f_11ea_ac4f_0242ac1c0002row29_col1\" class=\"data row29 col1\" >1</td>\n",
       "                        <td id=\"T_c610d166_a73f_11ea_ac4f_0242ac1c0002row29_col2\" class=\"data row29 col2\" >0.034000</td>\n",
       "            </tr>\n",
       "            <tr>\n",
       "                        <th id=\"T_c610d166_a73f_11ea_ac4f_0242ac1c0002level0_row30\" class=\"row_heading level0 row30\" >30</th>\n",
       "                        <td id=\"T_c610d166_a73f_11ea_ac4f_0242ac1c0002row30_col0\" class=\"data row30 col0\" >BsmtFinSF1</td>\n",
       "                        <td id=\"T_c610d166_a73f_11ea_ac4f_0242ac1c0002row30_col1\" class=\"data row30 col1\" >1</td>\n",
       "                        <td id=\"T_c610d166_a73f_11ea_ac4f_0242ac1c0002row30_col2\" class=\"data row30 col2\" >0.034000</td>\n",
       "            </tr>\n",
       "            <tr>\n",
       "                        <th id=\"T_c610d166_a73f_11ea_ac4f_0242ac1c0002level0_row31\" class=\"row_heading level0 row31\" >31</th>\n",
       "                        <td id=\"T_c610d166_a73f_11ea_ac4f_0242ac1c0002row31_col0\" class=\"data row31 col0\" >Exterior2nd</td>\n",
       "                        <td id=\"T_c610d166_a73f_11ea_ac4f_0242ac1c0002row31_col1\" class=\"data row31 col1\" >1</td>\n",
       "                        <td id=\"T_c610d166_a73f_11ea_ac4f_0242ac1c0002row31_col2\" class=\"data row31 col2\" >0.034000</td>\n",
       "            </tr>\n",
       "            <tr>\n",
       "                        <th id=\"T_c610d166_a73f_11ea_ac4f_0242ac1c0002level0_row32\" class=\"row_heading level0 row32\" >32</th>\n",
       "                        <td id=\"T_c610d166_a73f_11ea_ac4f_0242ac1c0002row32_col0\" class=\"data row32 col0\" >Exterior1st</td>\n",
       "                        <td id=\"T_c610d166_a73f_11ea_ac4f_0242ac1c0002row32_col1\" class=\"data row32 col1\" >1</td>\n",
       "                        <td id=\"T_c610d166_a73f_11ea_ac4f_0242ac1c0002row32_col2\" class=\"data row32 col2\" >0.034000</td>\n",
       "            </tr>\n",
       "            <tr>\n",
       "                        <th id=\"T_c610d166_a73f_11ea_ac4f_0242ac1c0002level0_row33\" class=\"row_heading level0 row33\" >33</th>\n",
       "                        <td id=\"T_c610d166_a73f_11ea_ac4f_0242ac1c0002row33_col0\" class=\"data row33 col0\" >SaleType</td>\n",
       "                        <td id=\"T_c610d166_a73f_11ea_ac4f_0242ac1c0002row33_col1\" class=\"data row33 col1\" >1</td>\n",
       "                        <td id=\"T_c610d166_a73f_11ea_ac4f_0242ac1c0002row33_col2\" class=\"data row33 col2\" >0.034000</td>\n",
       "            </tr>\n",
       "    </tbody></table>"
      ],
      "text/plain": [
       "<pandas.io.formats.style.Styler at 0x7f743b4eecc0>"
      ]
     },
     "execution_count": 12,
     "metadata": {
      "tags": []
     },
     "output_type": "execute_result"
    }
   ],
   "source": [
    "features_with_na = {feature: all_data[feature].isnull().sum() for feature in all_data.columns \n",
    "                    if all_data[feature].isnull().sum() > 0}\n",
    "\n",
    "size = all_data.shape[0]\n",
    "a = pd.DataFrame({\n",
    "    'features': list(features_with_na.keys()),\n",
    "    'Total': list(features_with_na.values()),\n",
    "    'Missing_PCT': [np.round((features_with_na[i] / size) * 100, 3) for i in features_with_na.keys()]\n",
    "}).sort_values(by='Missing_PCT', ascending=False).reset_index(drop=True)\n",
    "a.style.background_gradient(cmap='Reds') "
   ]
  },
  {
   "cell_type": "code",
   "execution_count": 13,
   "metadata": {
    "colab": {
     "base_uri": "https://localhost:8080/",
     "height": 33
    },
    "colab_type": "code",
    "id": "G4q7vwVA5sTP",
    "outputId": "3167b25d-c308-4280-b39b-2725882f1b50"
   },
   "outputs": [
    {
     "name": "stdout",
     "output_type": "stream",
     "text": [
      "Total number of missing values: 13958\n"
     ]
    }
   ],
   "source": [
    "print(f\"Total number of missing values: {all_data.isna().sum().sum()}\")"
   ]
  },
  {
   "cell_type": "markdown",
   "metadata": {
    "colab_type": "text",
    "id": "zvqr7ll97_3b"
   },
   "source": [
    "## Numerical features"
   ]
  },
  {
   "cell_type": "code",
   "execution_count": 14,
   "metadata": {
    "colab": {
     "base_uri": "https://localhost:8080/",
     "height": 375
    },
    "colab_type": "code",
    "id": "8lnR2VGoh7YP",
    "outputId": "9822cdaa-0ce4-49c0-a847-2b016c364d87"
   },
   "outputs": [
    {
     "data": {
      "text/html": [
       "<div>\n",
       "<style scoped>\n",
       "    .dataframe tbody tr th:only-of-type {\n",
       "        vertical-align: middle;\n",
       "    }\n",
       "\n",
       "    .dataframe tbody tr th {\n",
       "        vertical-align: top;\n",
       "    }\n",
       "\n",
       "    .dataframe thead th {\n",
       "        text-align: right;\n",
       "    }\n",
       "</style>\n",
       "<table border=\"1\" class=\"dataframe\">\n",
       "  <thead>\n",
       "    <tr style=\"text-align: right;\">\n",
       "      <th></th>\n",
       "      <th>feature</th>\n",
       "      <th>Count</th>\n",
       "    </tr>\n",
       "  </thead>\n",
       "  <tbody>\n",
       "    <tr>\n",
       "      <th>0</th>\n",
       "      <td>LotFrontage</td>\n",
       "      <td>486</td>\n",
       "    </tr>\n",
       "    <tr>\n",
       "      <th>1</th>\n",
       "      <td>MasVnrArea</td>\n",
       "      <td>23</td>\n",
       "    </tr>\n",
       "    <tr>\n",
       "      <th>2</th>\n",
       "      <td>BsmtFinSF1</td>\n",
       "      <td>1</td>\n",
       "    </tr>\n",
       "    <tr>\n",
       "      <th>3</th>\n",
       "      <td>BsmtFinSF2</td>\n",
       "      <td>1</td>\n",
       "    </tr>\n",
       "    <tr>\n",
       "      <th>4</th>\n",
       "      <td>BsmtUnfSF</td>\n",
       "      <td>1</td>\n",
       "    </tr>\n",
       "    <tr>\n",
       "      <th>5</th>\n",
       "      <td>TotalBsmtSF</td>\n",
       "      <td>1</td>\n",
       "    </tr>\n",
       "    <tr>\n",
       "      <th>6</th>\n",
       "      <td>BsmtFullBath</td>\n",
       "      <td>2</td>\n",
       "    </tr>\n",
       "    <tr>\n",
       "      <th>7</th>\n",
       "      <td>BsmtHalfBath</td>\n",
       "      <td>2</td>\n",
       "    </tr>\n",
       "    <tr>\n",
       "      <th>8</th>\n",
       "      <td>GarageYrBlt</td>\n",
       "      <td>159</td>\n",
       "    </tr>\n",
       "    <tr>\n",
       "      <th>9</th>\n",
       "      <td>GarageCars</td>\n",
       "      <td>1</td>\n",
       "    </tr>\n",
       "    <tr>\n",
       "      <th>10</th>\n",
       "      <td>GarageArea</td>\n",
       "      <td>1</td>\n",
       "    </tr>\n",
       "  </tbody>\n",
       "</table>\n",
       "</div>"
      ],
      "text/plain": [
       "         feature  Count\n",
       "0    LotFrontage    486\n",
       "1     MasVnrArea     23\n",
       "2     BsmtFinSF1      1\n",
       "3     BsmtFinSF2      1\n",
       "4      BsmtUnfSF      1\n",
       "5    TotalBsmtSF      1\n",
       "6   BsmtFullBath      2\n",
       "7   BsmtHalfBath      2\n",
       "8    GarageYrBlt    159\n",
       "9     GarageCars      1\n",
       "10    GarageArea      1"
      ]
     },
     "execution_count": 14,
     "metadata": {
      "tags": []
     },
     "output_type": "execute_result"
    }
   ],
   "source": [
    "num_with_nan = [feature for feature in features_with_na.keys() if train[feature].dtypes != 'O']\n",
    "pd.DataFrame({\n",
    "    'feature': num_with_nan,\n",
    "    'Count': [all_data[i].isna().sum() for i in num_with_nan]\n",
    "})"
   ]
  },
  {
   "cell_type": "markdown",
   "metadata": {
    "colab_type": "text",
    "id": "bZt_ZWRMNJX-"
   },
   "source": [
    "**Appropriate missing values for numerical variables**\n",
    "* `LotFrontage`: groupby `Neighborhood` and fill the **median** value for that neighborhood.\n",
    "* `MasVnrArea` - **median** or **0** as missing value suggests a no mason veneer present\n",
    "*  `BsmtFinSF1`, `BsmtFinSF2`, `BsmtUnfSF`, `TotalBsmtSF`, `BsmtFullBath`, `BsmtHalfBath` - No basement present - **0**\n",
    "* `GarageYrBlt`, `GarageCars`, `GarageArea` - no garage present - **0**\n",
    "\n",
    "For **BsmX** variables we can drop all variables except `TotalBsmtSF`.\n",
    "\n",
    "For **GarageX** variable we can only keep `GarageCars` as it will also give us information about the `area`.\n",
    "\n",
    "\n"
   ]
  },
  {
   "cell_type": "markdown",
   "metadata": {
    "colab_type": "text",
    "id": "zlrFN0nI9dhW"
   },
   "source": [
    "The mean and median values of these features are different so it will be better if we fill these values with **median.**\n",
    "\n",
    "What we can also do is create a new feature with binary values to indicate if the value was missing at that point"
   ]
  },
  {
   "cell_type": "code",
   "execution_count": 15,
   "metadata": {
    "colab": {
     "base_uri": "https://localhost:8080/",
     "height": 33
    },
    "colab_type": "code",
    "id": "la97Jqpmh7YU",
    "outputId": "ca4a8e21-5bae-437c-b5ab-12f909d9ea84"
   },
   "outputs": [
    {
     "data": {
      "text/plain": [
       "0"
      ]
     },
     "execution_count": 15,
     "metadata": {
      "tags": []
     },
     "output_type": "execute_result"
    }
   ],
   "source": [
    "# LotFrontage\n",
    "\n",
    "all_data[\"LotFrontage\"] = all_data.groupby(\"Neighborhood\")[\"LotFrontage\"].apply(\n",
    "    lambda x: x.fillna(x.median()))\n",
    "all_data[\"LotFrontage\"].isna().sum()"
   ]
  },
  {
   "cell_type": "code",
   "execution_count": 16,
   "metadata": {
    "colab": {
     "base_uri": "https://localhost:8080/",
     "height": 33
    },
    "colab_type": "code",
    "id": "BaDdSY6yQ_0W",
    "outputId": "a935fb6c-5c7e-4dc5-dd86-43acd5fd6c57"
   },
   "outputs": [
    {
     "data": {
      "text/plain": [
       "0"
      ]
     },
     "execution_count": 16,
     "metadata": {
      "tags": []
     },
     "output_type": "execute_result"
    }
   ],
   "source": [
    "# MasVnrArea\n",
    "\n",
    "all_data[\"MasVnrArea\"] = all_data[\"MasVnrArea\"].fillna(0)\n",
    "all_data[\"MasVnrArea\"].isna().sum()"
   ]
  },
  {
   "cell_type": "code",
   "execution_count": 17,
   "metadata": {
    "colab": {
     "base_uri": "https://localhost:8080/",
     "height": 134
    },
    "colab_type": "code",
    "id": "2yRz4iWaQ_5Z",
    "outputId": "442f297f-6376-408b-ed13-a62c77793fa2"
   },
   "outputs": [
    {
     "data": {
      "text/plain": [
       "BsmtFinSF1      0\n",
       "BsmtFinSF2      0\n",
       "BsmtUnfSF       0\n",
       "TotalBsmtSF     0\n",
       "BsmtFullBath    0\n",
       "BsmtHalfBath    0\n",
       "dtype: int64"
      ]
     },
     "execution_count": 17,
     "metadata": {
      "tags": []
     },
     "output_type": "execute_result"
    }
   ],
   "source": [
    "# BsmtX\n",
    "\n",
    "for col in ('BsmtFinSF1', 'BsmtFinSF2', 'BsmtUnfSF','TotalBsmtSF', \n",
    "            'BsmtFullBath', 'BsmtHalfBath'):\n",
    "    all_data[col] = all_data[col].fillna(0)\n",
    "\n",
    "all_data[['BsmtFinSF1', 'BsmtFinSF2', 'BsmtUnfSF','TotalBsmtSF', \n",
    "         'BsmtFullBath', 'BsmtHalfBath']].isna().sum()"
   ]
  },
  {
   "cell_type": "code",
   "execution_count": 18,
   "metadata": {
    "colab": {
     "base_uri": "https://localhost:8080/",
     "height": 84
    },
    "colab_type": "code",
    "id": "0_KpiBJtQ_8v",
    "outputId": "938efb28-22b7-4677-b26f-4b60d8c02cea"
   },
   "outputs": [
    {
     "data": {
      "text/plain": [
       "GarageYrBlt    0\n",
       "GarageArea     0\n",
       "GarageCars     0\n",
       "dtype: int64"
      ]
     },
     "execution_count": 18,
     "metadata": {
      "tags": []
     },
     "output_type": "execute_result"
    }
   ],
   "source": [
    "# GarageX\n",
    "\n",
    "for col in ('GarageYrBlt', 'GarageArea', 'GarageCars'):\n",
    "    all_data[col] = all_data[col].fillna(0)\n",
    "\n",
    "all_data[['GarageYrBlt', 'GarageArea', 'GarageCars']].isna().sum()"
   ]
  },
  {
   "cell_type": "code",
   "execution_count": 19,
   "metadata": {
    "colab": {
     "base_uri": "https://localhost:8080/",
     "height": 338
    },
    "colab_type": "code",
    "id": "0in3ojD8Q_3M",
    "outputId": "a26e3c4d-4570-41ad-fb45-f9f06e5dc15d"
   },
   "outputs": [
    {
     "data": {
      "image/png": "[encoded data removed]",
      "text/plain": [
       "<Figure size 432x288 with 2 Axes>"
      ]
     },
     "metadata": {
      "needs_background": "light",
      "tags": []
     },
     "output_type": "display_data"
    }
   ],
   "source": [
    "sns.heatmap(pd.DataFrame(\n",
    "    {\n",
    "        'BsmtFinSF1': train['BsmtFinSF1'],\n",
    "        'BsmtFinSF2': train['BsmtFinSF2'], \n",
    "        'BsmtUnfSF': train['BsmtUnfSF'],\n",
    "        'TotalBsmtSF': train['TotalBsmtSF'], \n",
    "        'BsmtFullBath': train['BsmtFullBath'], \n",
    "        'BsmtHalfBath': train['BsmtHalfBath'],\n",
    "        'SalePrice': train['SalePrice'],\n",
    "    }\n",
    ").corr(), cmap='coolwarm', annot=True) \n",
    "plt.title(\"Bsmt numerical features - train set\")\n",
    "plt.show()"
   ]
  },
  {
   "cell_type": "markdown",
   "metadata": {
    "colab_type": "text",
    "id": "IX5gxwqaVnl9"
   },
   "source": [
    "As suspected, `TotalBsmtSF` seems the only good choice to keep, also `BsmtFinSF1` can be kept if required. We can perform a feature selection on the features remaining at the end, to filter some more"
   ]
  },
  {
   "cell_type": "code",
   "execution_count": 20,
   "metadata": {
    "colab": {
     "base_uri": "https://localhost:8080/",
     "height": 279
    },
    "colab_type": "code",
    "id": "WckYVCS5Q_yO",
    "outputId": "22c0c5f3-7381-43bf-d003-d7ae07f03308"
   },
   "outputs": [
    {
     "data": {
      "image/png": "[encoded data removed]",
      "text/plain": [
       "<Figure size 432x288 with 2 Axes>"
      ]
     },
     "metadata": {
      "needs_background": "light",
      "tags": []
     },
     "output_type": "display_data"
    }
   ],
   "source": [
    "sns.heatmap(pd.DataFrame(\n",
    "    {\n",
    "        'GarageYrBlt': train['GarageYrBlt'], \n",
    "        'GarageArea': train['GarageArea'],\n",
    "        'GarageCars': train['GarageCars'],\n",
    "        'SalePrice': train['SalePrice'],\n",
    "    }).corr(), annot=True, cmap='coolwarm'\n",
    ")\n",
    "plt.title(\"Garage numerical features - train set\")\n",
    "plt.show()"
   ]
  },
  {
   "cell_type": "markdown",
   "metadata": {
    "colab_type": "text",
    "id": "KjbfX8Z1V1hr"
   },
   "source": [
    "As suspected, `GarageCars` is highly correlated with `GarageArea` and also has the highest correlation with `SalePrice`"
   ]
  },
  {
   "cell_type": "markdown",
   "metadata": {
    "colab_type": "text",
    "id": "mDukStjbWhVm"
   },
   "source": [
    "Candidate features to be dropped:\n",
    "* `BsmtFinSF2`\n",
    "* `BsmtUnfSF`\n",
    "* `BsmtFullBath`\n",
    "* `BsmtHalfBath`\n",
    "* `GarageYrBuilt`\n",
    "* `GarageArea`"
   ]
  },
  {
   "cell_type": "code",
   "execution_count": 0,
   "metadata": {
    "colab": {},
    "colab_type": "code",
    "id": "_cVMxxK87SRN"
   },
   "outputs": [],
   "source": [
    "to_remove_ = ['BsmtFinSF2', 'BsmtUnfSF', 'BsmtFullBath', 'BsmtHalfBath', \n",
    "             'GarageYrBlt', 'GarageArea']"
   ]
  },
  {
   "cell_type": "code",
   "execution_count": 22,
   "metadata": {
    "colab": {
     "base_uri": "https://localhost:8080/",
     "height": 217
    },
    "colab_type": "code",
    "id": "C9gzTK2tPTpv",
    "outputId": "74a1e21b-9809-4847-ed08-a532835d04a2"
   },
   "outputs": [
    {
     "data": {
      "text/plain": [
       "LotFrontage     0\n",
       "MasVnrArea      0\n",
       "BsmtFinSF1      0\n",
       "BsmtFinSF2      0\n",
       "BsmtUnfSF       0\n",
       "TotalBsmtSF     0\n",
       "BsmtFullBath    0\n",
       "BsmtHalfBath    0\n",
       "GarageYrBlt     0\n",
       "GarageCars      0\n",
       "GarageArea      0\n",
       "dtype: int64"
      ]
     },
     "execution_count": 22,
     "metadata": {
      "tags": []
     },
     "output_type": "execute_result"
    }
   ],
   "source": [
    "all_data[num_with_nan].isna().sum()"
   ]
  },
  {
   "cell_type": "markdown",
   "metadata": {
    "colab_type": "text",
    "id": "HRyKSai3ANaT"
   },
   "source": [
    "## Categorical features"
   ]
  },
  {
   "cell_type": "code",
   "execution_count": 23,
   "metadata": {
    "colab": {
     "base_uri": "https://localhost:8080/",
     "height": 733
    },
    "colab_type": "code",
    "id": "LB4NZbojabkx",
    "outputId": "08ab6878-40a0-4822-bc83-d8510a864489"
   },
   "outputs": [
    {
     "data": {
      "text/html": [
       "<div>\n",
       "<style scoped>\n",
       "    .dataframe tbody tr th:only-of-type {\n",
       "        vertical-align: middle;\n",
       "    }\n",
       "\n",
       "    .dataframe tbody tr th {\n",
       "        vertical-align: top;\n",
       "    }\n",
       "\n",
       "    .dataframe thead th {\n",
       "        text-align: right;\n",
       "    }\n",
       "</style>\n",
       "<table border=\"1\" class=\"dataframe\">\n",
       "  <thead>\n",
       "    <tr style=\"text-align: right;\">\n",
       "      <th></th>\n",
       "      <th>feature</th>\n",
       "      <th>Count</th>\n",
       "    </tr>\n",
       "  </thead>\n",
       "  <tbody>\n",
       "    <tr>\n",
       "      <th>0</th>\n",
       "      <td>PoolQC</td>\n",
       "      <td>2908</td>\n",
       "    </tr>\n",
       "    <tr>\n",
       "      <th>1</th>\n",
       "      <td>MiscFeature</td>\n",
       "      <td>2812</td>\n",
       "    </tr>\n",
       "    <tr>\n",
       "      <th>2</th>\n",
       "      <td>Alley</td>\n",
       "      <td>2719</td>\n",
       "    </tr>\n",
       "    <tr>\n",
       "      <th>3</th>\n",
       "      <td>Fence</td>\n",
       "      <td>2346</td>\n",
       "    </tr>\n",
       "    <tr>\n",
       "      <th>4</th>\n",
       "      <td>FireplaceQu</td>\n",
       "      <td>1420</td>\n",
       "    </tr>\n",
       "    <tr>\n",
       "      <th>5</th>\n",
       "      <td>GarageQual</td>\n",
       "      <td>159</td>\n",
       "    </tr>\n",
       "    <tr>\n",
       "      <th>6</th>\n",
       "      <td>GarageFinish</td>\n",
       "      <td>159</td>\n",
       "    </tr>\n",
       "    <tr>\n",
       "      <th>7</th>\n",
       "      <td>GarageCond</td>\n",
       "      <td>159</td>\n",
       "    </tr>\n",
       "    <tr>\n",
       "      <th>8</th>\n",
       "      <td>GarageType</td>\n",
       "      <td>157</td>\n",
       "    </tr>\n",
       "    <tr>\n",
       "      <th>9</th>\n",
       "      <td>BsmtCond</td>\n",
       "      <td>82</td>\n",
       "    </tr>\n",
       "    <tr>\n",
       "      <th>10</th>\n",
       "      <td>BsmtExposure</td>\n",
       "      <td>82</td>\n",
       "    </tr>\n",
       "    <tr>\n",
       "      <th>11</th>\n",
       "      <td>BsmtQual</td>\n",
       "      <td>81</td>\n",
       "    </tr>\n",
       "    <tr>\n",
       "      <th>12</th>\n",
       "      <td>BsmtFinType2</td>\n",
       "      <td>80</td>\n",
       "    </tr>\n",
       "    <tr>\n",
       "      <th>13</th>\n",
       "      <td>BsmtFinType1</td>\n",
       "      <td>79</td>\n",
       "    </tr>\n",
       "    <tr>\n",
       "      <th>14</th>\n",
       "      <td>MasVnrType</td>\n",
       "      <td>24</td>\n",
       "    </tr>\n",
       "    <tr>\n",
       "      <th>15</th>\n",
       "      <td>MSZoning</td>\n",
       "      <td>4</td>\n",
       "    </tr>\n",
       "    <tr>\n",
       "      <th>16</th>\n",
       "      <td>Functional</td>\n",
       "      <td>2</td>\n",
       "    </tr>\n",
       "    <tr>\n",
       "      <th>17</th>\n",
       "      <td>Utilities</td>\n",
       "      <td>2</td>\n",
       "    </tr>\n",
       "    <tr>\n",
       "      <th>18</th>\n",
       "      <td>Electrical</td>\n",
       "      <td>1</td>\n",
       "    </tr>\n",
       "    <tr>\n",
       "      <th>19</th>\n",
       "      <td>KitchenQual</td>\n",
       "      <td>1</td>\n",
       "    </tr>\n",
       "    <tr>\n",
       "      <th>20</th>\n",
       "      <td>Exterior2nd</td>\n",
       "      <td>1</td>\n",
       "    </tr>\n",
       "    <tr>\n",
       "      <th>21</th>\n",
       "      <td>Exterior1st</td>\n",
       "      <td>1</td>\n",
       "    </tr>\n",
       "    <tr>\n",
       "      <th>22</th>\n",
       "      <td>SaleType</td>\n",
       "      <td>1</td>\n",
       "    </tr>\n",
       "  </tbody>\n",
       "</table>\n",
       "</div>"
      ],
      "text/plain": [
       "         feature  Count\n",
       "0         PoolQC   2908\n",
       "1    MiscFeature   2812\n",
       "2          Alley   2719\n",
       "3          Fence   2346\n",
       "4    FireplaceQu   1420\n",
       "5     GarageQual    159\n",
       "6   GarageFinish    159\n",
       "7     GarageCond    159\n",
       "8     GarageType    157\n",
       "9       BsmtCond     82\n",
       "10  BsmtExposure     82\n",
       "11      BsmtQual     81\n",
       "12  BsmtFinType2     80\n",
       "13  BsmtFinType1     79\n",
       "14    MasVnrType     24\n",
       "15      MSZoning      4\n",
       "16    Functional      2\n",
       "17     Utilities      2\n",
       "18    Electrical      1\n",
       "19   KitchenQual      1\n",
       "20   Exterior2nd      1\n",
       "21   Exterior1st      1\n",
       "22      SaleType      1"
      ]
     },
     "execution_count": 23,
     "metadata": {
      "tags": []
     },
     "output_type": "execute_result"
    }
   ],
   "source": [
    "cat_nan = [feature for feature in features_with_na if all_data[feature].dtypes == \"O\"]\n",
    "pd.DataFrame({\n",
    "    'feature': cat_nan,\n",
    "    'Count': [all_data[i].isna().sum() for i in cat_nan]\n",
    "}).sort_values(by=\"Count\", ascending = False).reset_index(drop=True)"
   ]
  },
  {
   "cell_type": "markdown",
   "metadata": {
    "colab_type": "text",
    "id": "1Qbe8TIMGjD0"
   },
   "source": [
    "**Appropriate missing values for numerical variables**\n",
    "* `FireplaceQu`: missing values indicates _No fireplace present_ - **None.**\n",
    "* `GarageType`, `GarageFinish`, `GarageQual` & `GarageCond`: missing value indicates there's _no garage_ - **None.**\n",
    "* `BsmtQual`, `BsmtCond`, `BsmtExposure`, `BsmtFinType1` & `BsmtFinType2`: missing values indicate there's _no basement_ - **None.**\n",
    "* `MasVnrType`: missing value indicates there' _no masonry veneer_ - **None.**\n",
    "* `MSZoning`: missing value can be filled by the most frequent value _RL_ - **mode.**\n",
    "* `Functional`: from description _NA_ indicates - **Typical.**\n",
    "* `Utilities`: feature can be **dropped** is heavily dominated by _AllPub_. I was wrong in determining it to be important in the EDA part.\n",
    "* `Electrical`: 1 missing value, fill with most frequent value - **mode.**\n",
    "* `KitchenQual`: 1 missing value, fill with most frequent value - **mode.**\n",
    "* `Exterior1st` & `Exterior2nd`: 1 missing values in both, fill with most frequent value - **mode.**\n",
    "* `SaleType`: 1 missing value, fill with most frequent value - **mode.**\n",
    "\n",
    "\n",
    "Although, I can cannot provide the proof of it but `BsmtX` and  `GarageX` variables are mostly likely heavily correlated with each other, we can keep their numerical counterparts that convey the same information.\n",
    "\n",
    "We can either drop these variables or keep them to see the result during feature selection.\n",
    " \n",
    "In the future version, I'll update the notebook with methods to find the categorical coefficient between these variables and with the output to test my hypothesis above."
   ]
  },
  {
   "cell_type": "markdown",
   "metadata": {
    "colab_type": "text",
    "id": "qEFl7puL7S_B"
   },
   "source": [
    "* We will drop features `PoolQC`, `MiscFeature`, `Alley` and `Fence`, `Utilities`.\n",
    "\n"
   ]
  },
  {
   "cell_type": "code",
   "execution_count": 0,
   "metadata": {
    "colab": {},
    "colab_type": "code",
    "id": "5xjXHprg7LnA"
   },
   "outputs": [],
   "source": [
    "to_remove_.extend(['PoolQC','MiscFeature','Alley','Fence', 'Utilities'])"
   ]
  },
  {
   "cell_type": "code",
   "execution_count": 25,
   "metadata": {
    "colab": {
     "base_uri": "https://localhost:8080/",
     "height": 585
    },
    "colab_type": "code",
    "id": "-QNFaeo6zT-C",
    "outputId": "5bddadd5-46db-443d-869f-6b7706278a1f"
   },
   "outputs": [
    {
     "data": {
      "image/png": "[encoded data removed]",
      "text/plain": [
       "<Figure size 720x576 with 5 Axes>"
      ]
     },
     "metadata": {
      "needs_background": "light",
      "tags": []
     },
     "output_type": "display_data"
    }
   ],
   "source": [
    "plt.figure(figsize=(10, 8))\n",
    "basement_variables = ['BsmtQual', 'BsmtCond', 'BsmtExposure', \n",
    "                      'BsmtFinType1', 'BsmtFinType2']\n",
    "\n",
    "for i, feature in enumerate(basement_variables, 1):\n",
    "    plt.subplot(3, 2, i)\n",
    "    sns.boxenplot(data=train, x=feature, y=train['SalePrice'])\n",
    "\n",
    "plt.tight_layout(h_pad=1.2)\n",
    "plt.show()"
   ]
  },
  {
   "cell_type": "code",
   "execution_count": 26,
   "metadata": {
    "colab": {
     "base_uri": "https://localhost:8080/",
     "height": 585
    },
    "colab_type": "code",
    "id": "UMfou5H6zT8Q",
    "outputId": "175cac54-daa2-4dcd-c995-dc1f3bfef93a"
   },
   "outputs": [
    {
     "data": {
      "image/png": "[encoded data removed]",
      "text/plain": [
       "<Figure size 720x576 with 4 Axes>"
      ]
     },
     "metadata": {
      "needs_background": "light",
      "tags": []
     },
     "output_type": "display_data"
    }
   ],
   "source": [
    "plt.figure(figsize=(10, 8))\n",
    "garage_variables = ['GarageType', 'GarageFinish', 'GarageQual', \n",
    "                    'GarageCond']\n",
    "\n",
    "for i, feature in enumerate(garage_variables, 1):\n",
    "    plt.subplot(2, 2, i)\n",
    "    sns.boxenplot(data=train, x=feature, y=train['SalePrice'])\n",
    "\n",
    "plt.tight_layout(h_pad=1.2)\n",
    "plt.show()"
   ]
  },
  {
   "cell_type": "code",
   "execution_count": 27,
   "metadata": {
    "colab": {
     "base_uri": "https://localhost:8080/",
     "height": 33
    },
    "colab_type": "code",
    "id": "CUlsS-AH7MGa",
    "outputId": "fea0ed39-f081-4961-b320-4607940d3164"
   },
   "outputs": [
    {
     "data": {
      "text/plain": [
       "0"
      ]
     },
     "execution_count": 27,
     "metadata": {
      "tags": []
     },
     "output_type": "execute_result"
    }
   ],
   "source": [
    "fill_none = [\"FireplaceQu\",  \"GarageType\", \"GarageFinish\", \"GarageQual\", \"GarageCond\", \n",
    "             \"BsmtQual\", \"BsmtCond\", \"BsmtExposure\", \"BsmtFinType1\", \"BsmtFinType2\", \"MasVnrType\"]\n",
    "\n",
    "for feature in fill_none:\n",
    "    all_data[feature].fillna(\"None\", inplace=True)\n",
    "\n",
    "all_data[fill_none].isna().sum().sum()"
   ]
  },
  {
   "cell_type": "code",
   "execution_count": 28,
   "metadata": {
    "colab": {
     "base_uri": "https://localhost:8080/",
     "height": 33
    },
    "colab_type": "code",
    "id": "o-JvPgtfNI_O",
    "outputId": "3879545c-43d9-4cd1-94e2-f43f5acb2bb3"
   },
   "outputs": [
    {
     "data": {
      "text/plain": [
       "0"
      ]
     },
     "execution_count": 28,
     "metadata": {
      "tags": []
     },
     "output_type": "execute_result"
    }
   ],
   "source": [
    "fill_mode = [\"MSZoning\", \"Electrical\", \"KitchenQual\", \"Exterior1st\", \n",
    "             \"Exterior2nd\", \"SaleType\"]\n",
    "\n",
    "for feature in fill_mode:\n",
    "    all_data[feature].fillna(all_data[feature].mode()[0], inplace=True)\n",
    "\n",
    "all_data[fill_mode].isna().sum().sum()"
   ]
  },
  {
   "cell_type": "code",
   "execution_count": 0,
   "metadata": {
    "colab": {},
    "colab_type": "code",
    "id": "iwlHEPlyOlgp"
   },
   "outputs": [],
   "source": [
    "all_data[\"Functional\"] = all_data[\"Functional\"].fillna(\"Typ\")"
   ]
  },
  {
   "cell_type": "code",
   "execution_count": 30,
   "metadata": {
    "colab": {
     "base_uri": "https://localhost:8080/",
     "height": 33
    },
    "colab_type": "code",
    "id": "rQu4LIWxRscS",
    "outputId": "fd6d3827-9386-4419-b998-d5d7f8bcfba8"
   },
   "outputs": [
    {
     "name": "stdout",
     "output_type": "stream",
     "text": [
      "Number of missing values: 10787\n"
     ]
    }
   ],
   "source": [
    "print(f\"Number of missing values: {all_data.isna().sum().sum()}\")"
   ]
  },
  {
   "cell_type": "markdown",
   "metadata": {
    "colab_type": "text",
    "id": "yxj9pIhMh7Ya"
   },
   "source": [
    "_____________________________"
   ]
  },
  {
   "cell_type": "code",
   "execution_count": 31,
   "metadata": {
    "colab": {
     "base_uri": "https://localhost:8080/",
     "height": 33
    },
    "colab_type": "code",
    "id": "U7N6y37AQWf1",
    "outputId": "ee1407a4-397a-4170-c247-ed0a920b2051"
   },
   "outputs": [
    {
     "data": {
      "text/plain": [
       "(2917, 68)"
      ]
     },
     "execution_count": 31,
     "metadata": {
      "tags": []
     },
     "output_type": "execute_result"
    }
   ],
   "source": [
    "# dropping features\n",
    "\n",
    "all_data.drop(to_remove_, axis=1, inplace=True)\n",
    "all_data.shape"
   ]
  },
  {
   "cell_type": "markdown",
   "metadata": {
    "colab_type": "text",
    "id": "5lobqnd8P50A"
   },
   "source": [
    "What we can do is keep two seperate dataframe \n",
    "1. Consisting of categorical `GarageX` and `BsmtX` variables.\n",
    "2. One Without."
   ]
  },
  {
   "cell_type": "code",
   "execution_count": 32,
   "metadata": {
    "colab": {
     "base_uri": "https://localhost:8080/",
     "height": 33
    },
    "colab_type": "code",
    "id": "0wZfXk9MO4GZ",
    "outputId": "32d68aa6-a4da-4e14-acb5-2962ded7f49b"
   },
   "outputs": [
    {
     "data": {
      "text/plain": [
       "(2917, 68)"
      ]
     },
     "execution_count": 32,
     "metadata": {
      "tags": []
     },
     "output_type": "execute_result"
    }
   ],
   "source": [
    "all_data_cat = all_data.copy()\n",
    "all_data_cat.shape"
   ]
  },
  {
   "cell_type": "code",
   "execution_count": 33,
   "metadata": {
    "colab": {
     "base_uri": "https://localhost:8080/",
     "height": 33
    },
    "colab_type": "code",
    "id": "yVJgr9LXOlbm",
    "outputId": "d2d5268d-b12c-448c-816d-58945f055b93"
   },
   "outputs": [
    {
     "data": {
      "text/plain": [
       "(2917, 59)"
      ]
     },
     "execution_count": 33,
     "metadata": {
      "tags": []
     },
     "output_type": "execute_result"
    }
   ],
   "source": [
    "all_data_free = all_data.copy()\n",
    "remove_cat_garage_bsmt = [\"GarageType\", \"GarageFinish\", \"GarageQual\", \"GarageCond\", \n",
    "             \"BsmtQual\", \"BsmtCond\", \"BsmtExposure\", \"BsmtFinType1\", \"BsmtFinType2\"]\n",
    "all_data_free.drop(remove_cat_garage_bsmt, axis=1, inplace=True)\n",
    "all_data_free.shape"
   ]
  },
  {
   "cell_type": "markdown",
   "metadata": {
    "colab_type": "text",
    "id": "Ib1PJA3blFmY"
   },
   "source": [
    "# Date and Time Engineering\n",
    "\n",
    "\n",
    "What we could do is express the 3 year variables in term of time intervals by subracting their value from `YrSold` as done during EDA.\n",
    "We can then replace the 3 variable with the one that shows the highest correlation with the `SalePrice`."
   ]
  },
  {
   "cell_type": "markdown",
   "metadata": {
    "colab_type": "text",
    "id": "B1i-LeamUBQj"
   },
   "source": [
    "# Variable Transformation"
   ]
  },
  {
   "cell_type": "markdown",
   "metadata": {
    "colab_type": "text",
    "id": "klIciRVAUdWu"
   },
   "source": [
    "## Transforming some numerical variables that are really categorical"
   ]
  },
  {
   "cell_type": "code",
   "execution_count": 0,
   "metadata": {
    "colab": {},
    "colab_type": "code",
    "id": "66SGHCcSUb8d"
   },
   "outputs": [],
   "source": [
    "# MSSubClass=The building class\n",
    "all_data_cat['MSSubClass'] = all_data_cat['MSSubClass'].apply(str)\n",
    "\n",
    "\n",
    "# Changing OverallCond into a categorical variable\n",
    "all_data_cat['OverallCond'] = all_data_cat['OverallCond'].astype(str)\n",
    "\n",
    "\n",
    "# Year and month sold are transformed into categorical features.\n",
    "all_data_cat['YrSold'] = all_data_cat['YrSold'].astype(str)\n",
    "all_data_cat['MoSold'] = all_data_cat['MoSold'].astype(str)\n",
    "\n",
    "# same transformation to other dataframe\n",
    "# MSSubClass=The building class\n",
    "all_data_free['MSSubClass'] = all_data_free['MSSubClass'].apply(str)\n",
    "\n",
    "\n",
    "# Changing OverallCond into a categorical variable\n",
    "all_data_free['OverallCond'] = all_data_free['OverallCond'].astype(str)\n",
    "\n",
    "\n",
    "# Year and month sold are transformed into categorical features.\n",
    "all_data_free['YrSold'] = all_data_free['YrSold'].astype(str)\n",
    "all_data_free['MoSold'] = all_data_free['MoSold'].astype(str)"
   ]
  },
  {
   "cell_type": "markdown",
   "metadata": {
    "colab_type": "text",
    "id": "45ihGjvqXHXt"
   },
   "source": [
    "## Label Encoding some categorical features"
   ]
  },
  {
   "cell_type": "code",
   "execution_count": 35,
   "metadata": {
    "colab": {
     "base_uri": "https://localhost:8080/",
     "height": 50
    },
    "colab_type": "code",
    "id": "-_Geoi3zUb6q",
    "outputId": "7387b799-02e9-4fb9-b39a-064e5675de9d"
   },
   "outputs": [
    {
     "name": "stdout",
     "output_type": "stream",
     "text": [
      "Shape all_data_cat: (2917, 68)\n",
      "Shape all_data_free: (2917, 59)\n"
     ]
    }
   ],
   "source": [
    "from sklearn.preprocessing import LabelEncoder\n",
    "\n",
    "\n",
    "cols = ['BsmtCond', 'BsmtExposure', 'BsmtFinType1', 'BsmtFinType2', 'BsmtQual', \n",
    "        'CentralAir', 'ExterCond', 'ExterQual', 'FireplaceQu', 'Functional', \n",
    "        'GarageCond', 'GarageFinish', 'GarageQual', 'HeatingQC', 'KitchenQual', \n",
    "        'LandSlope', 'LotShape', 'MSSubClass', 'MoSold', 'OverallCond', 'PavedDrive', \n",
    "         'Street', 'YrSold']\n",
    "\n",
    "for feature in cols:\n",
    "    encoder = LabelEncoder()\n",
    "    encoder.fit(all_data_cat[feature].values)\n",
    "    all_data_cat[feature] = encoder.transform(all_data_cat[feature].values)\n",
    "\n",
    "\n",
    "print(f'Shape all_data_cat: {all_data_cat.shape}')\n",
    "\n",
    "# Same for all_data_free\n",
    "\n",
    "cols = ['CentralAir', 'ExterCond', 'ExterQual', 'FireplaceQu', 'Functional', \n",
    "        'HeatingQC', 'KitchenQual', 'LandSlope', 'LotShape', 'MSSubClass', \n",
    "        'MoSold', 'OverallCond', 'PavedDrive', 'Street', 'YrSold']\n",
    "\n",
    "for feature in cols:\n",
    "    encoder = LabelEncoder()\n",
    "    encoder.fit(all_data_free[feature].values)\n",
    "    all_data_free[feature] = encoder.transform(all_data_free[feature].values)\n",
    "\n",
    "\n",
    "\n",
    "print(f'Shape all_data_free: {all_data_free.shape}')"
   ]
  },
  {
   "cell_type": "markdown",
   "metadata": {
    "colab_type": "text",
    "id": "KCYZipyVZNbL"
   },
   "source": [
    "According to various top kernels total square footage might be an importatnt feature. Giving it a moments thought we can see why."
   ]
  },
  {
   "cell_type": "code",
   "execution_count": 0,
   "metadata": {
    "colab": {},
    "colab_type": "code",
    "id": "MjBmuMv3ZMdL"
   },
   "outputs": [],
   "source": [
    "all_data_cat['TotalSF'] = all_data_cat['TotalBsmtSF'] + all_data_cat['1stFlrSF'] + all_data_cat['2ndFlrSF']\n",
    "\n",
    "all_data_free['TotalSF'] = all_data_free['TotalBsmtSF'] + all_data_free['1stFlrSF'] + all_data_free['2ndFlrSF']"
   ]
  },
  {
   "cell_type": "markdown",
   "metadata": {
    "colab_type": "text",
    "id": "30i0nYFkZpVx"
   },
   "source": [
    "## Skewed feature transformation\n",
    "\n",
    "During EDA we saw many continuous numeric features that were skewed. In this section we'll apply a Box-Cox transformation on them."
   ]
  },
  {
   "cell_type": "code",
   "execution_count": 37,
   "metadata": {
    "colab": {
     "base_uri": "https://localhost:8080/",
     "height": 396
    },
    "colab_type": "code",
    "id": "gjQOjgr-he8w",
    "outputId": "270f12e2-2d19-48c1-bff5-4ac7b44cdfae"
   },
   "outputs": [
    {
     "name": "stdout",
     "output_type": "stream",
     "text": [
      "\n",
      "Skew in numerical features: \n",
      "\n"
     ]
    },
    {
     "data": {
      "text/html": [
       "<div>\n",
       "<style scoped>\n",
       "    .dataframe tbody tr th:only-of-type {\n",
       "        vertical-align: middle;\n",
       "    }\n",
       "\n",
       "    .dataframe tbody tr th {\n",
       "        vertical-align: top;\n",
       "    }\n",
       "\n",
       "    .dataframe thead th {\n",
       "        text-align: right;\n",
       "    }\n",
       "</style>\n",
       "<table border=\"1\" class=\"dataframe\">\n",
       "  <thead>\n",
       "    <tr style=\"text-align: right;\">\n",
       "      <th></th>\n",
       "      <th>Skew</th>\n",
       "    </tr>\n",
       "  </thead>\n",
       "  <tbody>\n",
       "    <tr>\n",
       "      <th>MiscVal</th>\n",
       "      <td>21.939672</td>\n",
       "    </tr>\n",
       "    <tr>\n",
       "      <th>PoolArea</th>\n",
       "      <td>17.688664</td>\n",
       "    </tr>\n",
       "    <tr>\n",
       "      <th>LotArea</th>\n",
       "      <td>13.109495</td>\n",
       "    </tr>\n",
       "    <tr>\n",
       "      <th>LowQualFinSF</th>\n",
       "      <td>12.084539</td>\n",
       "    </tr>\n",
       "    <tr>\n",
       "      <th>3SsnPorch</th>\n",
       "      <td>11.372080</td>\n",
       "    </tr>\n",
       "    <tr>\n",
       "      <th>LandSlope</th>\n",
       "      <td>4.973254</td>\n",
       "    </tr>\n",
       "    <tr>\n",
       "      <th>KitchenAbvGr</th>\n",
       "      <td>4.300550</td>\n",
       "    </tr>\n",
       "    <tr>\n",
       "      <th>EnclosedPorch</th>\n",
       "      <td>4.002344</td>\n",
       "    </tr>\n",
       "    <tr>\n",
       "      <th>ScreenPorch</th>\n",
       "      <td>3.945101</td>\n",
       "    </tr>\n",
       "    <tr>\n",
       "      <th>MasVnrArea</th>\n",
       "      <td>2.621719</td>\n",
       "    </tr>\n",
       "  </tbody>\n",
       "</table>\n",
       "</div>"
      ],
      "text/plain": [
       "                    Skew\n",
       "MiscVal        21.939672\n",
       "PoolArea       17.688664\n",
       "LotArea        13.109495\n",
       "LowQualFinSF   12.084539\n",
       "3SsnPorch      11.372080\n",
       "LandSlope       4.973254\n",
       "KitchenAbvGr    4.300550\n",
       "EnclosedPorch   4.002344\n",
       "ScreenPorch     3.945101\n",
       "MasVnrArea      2.621719"
      ]
     },
     "execution_count": 37,
     "metadata": {
      "tags": []
     },
     "output_type": "execute_result"
    }
   ],
   "source": [
    "# all_data_cat\n",
    "\n",
    "numeric_feature_cat = all_data_cat.select_dtypes(\"number\").columns\n",
    "\n",
    "# Check the skew of all numerical features\n",
    "skewed_feats_cat = all_data_cat[numeric_feature_cat].apply(lambda x: skew(x.dropna())).sort_values(ascending=False)\n",
    "print(\"\\nSkew in numerical features: \\n\")\n",
    "skewness_cat = pd.DataFrame({'Skew' :skewed_feats_cat})\n",
    "skewness_cat.head(10)"
   ]
  },
  {
   "cell_type": "code",
   "execution_count": 38,
   "metadata": {
    "colab": {
     "base_uri": "https://localhost:8080/",
     "height": 396
    },
    "colab_type": "code",
    "id": "mGglTT1dhfAP",
    "outputId": "9da7caea-a682-4c98-f557-f986c80304e4"
   },
   "outputs": [
    {
     "name": "stdout",
     "output_type": "stream",
     "text": [
      "\n",
      "Skew in numerical features: \n",
      "\n"
     ]
    },
    {
     "data": {
      "text/html": [
       "<div>\n",
       "<style scoped>\n",
       "    .dataframe tbody tr th:only-of-type {\n",
       "        vertical-align: middle;\n",
       "    }\n",
       "\n",
       "    .dataframe tbody tr th {\n",
       "        vertical-align: top;\n",
       "    }\n",
       "\n",
       "    .dataframe thead th {\n",
       "        text-align: right;\n",
       "    }\n",
       "</style>\n",
       "<table border=\"1\" class=\"dataframe\">\n",
       "  <thead>\n",
       "    <tr style=\"text-align: right;\">\n",
       "      <th></th>\n",
       "      <th>Skew</th>\n",
       "    </tr>\n",
       "  </thead>\n",
       "  <tbody>\n",
       "    <tr>\n",
       "      <th>MiscVal</th>\n",
       "      <td>21.939672</td>\n",
       "    </tr>\n",
       "    <tr>\n",
       "      <th>PoolArea</th>\n",
       "      <td>17.688664</td>\n",
       "    </tr>\n",
       "    <tr>\n",
       "      <th>LotArea</th>\n",
       "      <td>13.109495</td>\n",
       "    </tr>\n",
       "    <tr>\n",
       "      <th>LowQualFinSF</th>\n",
       "      <td>12.084539</td>\n",
       "    </tr>\n",
       "    <tr>\n",
       "      <th>3SsnPorch</th>\n",
       "      <td>11.372080</td>\n",
       "    </tr>\n",
       "    <tr>\n",
       "      <th>LandSlope</th>\n",
       "      <td>4.973254</td>\n",
       "    </tr>\n",
       "    <tr>\n",
       "      <th>KitchenAbvGr</th>\n",
       "      <td>4.300550</td>\n",
       "    </tr>\n",
       "    <tr>\n",
       "      <th>EnclosedPorch</th>\n",
       "      <td>4.002344</td>\n",
       "    </tr>\n",
       "    <tr>\n",
       "      <th>ScreenPorch</th>\n",
       "      <td>3.945101</td>\n",
       "    </tr>\n",
       "    <tr>\n",
       "      <th>MasVnrArea</th>\n",
       "      <td>2.621719</td>\n",
       "    </tr>\n",
       "  </tbody>\n",
       "</table>\n",
       "</div>"
      ],
      "text/plain": [
       "                    Skew\n",
       "MiscVal        21.939672\n",
       "PoolArea       17.688664\n",
       "LotArea        13.109495\n",
       "LowQualFinSF   12.084539\n",
       "3SsnPorch      11.372080\n",
       "LandSlope       4.973254\n",
       "KitchenAbvGr    4.300550\n",
       "EnclosedPorch   4.002344\n",
       "ScreenPorch     3.945101\n",
       "MasVnrArea      2.621719"
      ]
     },
     "execution_count": 38,
     "metadata": {
      "tags": []
     },
     "output_type": "execute_result"
    }
   ],
   "source": [
    "# all_data_free\n",
    "\n",
    "numeric_feature_free = all_data_free.select_dtypes(\"number\").columns\n",
    "\n",
    "# Check the skew of all numerical features\n",
    "skewed_feats_free = all_data_free[numeric_feature_free].apply(lambda x: skew(x.dropna())).sort_values(ascending=False)\n",
    "print(\"\\nSkew in numerical features: \\n\")\n",
    "skewness_free = pd.DataFrame({'Skew' :skewed_feats_free})\n",
    "skewness_free.head(10)\n"
   ]
  },
  {
   "cell_type": "markdown",
   "metadata": {
    "colab_type": "text",
    "id": "_W-rKG0PceHj"
   },
   "source": [
    "**Box Cox Transformation of (highly) skewed features**\n",
    "\n",
    "We use the scipy function **boxcox1p** which computes the Box-Cox transformation of  $1+x$ .\n",
    "\n",
    "Note that setting  $λ=0$  is equivalent to $log1p$ used above for the target variable.\n",
    "\n",
    "See [this](http://onlinestatbook.com/2/transformations/box-cox.html) page for more details on Box Cox Transformation as well as [the scipy function's page](https://docs.scipy.org/doc/scipy/reference/generated/scipy.special.boxcox1p.html)\n",
    "\n"
   ]
  },
  {
   "cell_type": "code",
   "execution_count": 39,
   "metadata": {
    "colab": {
     "base_uri": "https://localhost:8080/",
     "height": 33
    },
    "colab_type": "code",
    "id": "9tBtaATgUbv9",
    "outputId": "8fd781d6-e184-4a7e-a247-a0b36f686a03"
   },
   "outputs": [
    {
     "name": "stdout",
     "output_type": "stream",
     "text": [
      "There are 50 skewed numerical features to Box Cox transform\n"
     ]
    }
   ],
   "source": [
    "# for all_data_cat\n",
    "\n",
    "from scipy.special import boxcox1p\n",
    "\n",
    "skewness_cat = skewness_cat[abs(skewness_cat) > 0.75]\n",
    "print(\"There are {} skewed numerical features to Box Cox transform\".format(skewness_cat.shape[0]))\n",
    "\n",
    "skewed_features_cat = skewness_cat.index\n",
    "lam = 0.15\n",
    "for feat in skewed_features_cat:\n",
    "    all_data_cat[feat] = boxcox1p(all_data_cat[feat], lam)"
   ]
  },
  {
   "cell_type": "code",
   "execution_count": 40,
   "metadata": {
    "colab": {
     "base_uri": "https://localhost:8080/",
     "height": 33
    },
    "colab_type": "code",
    "id": "iMaSMWycUbuX",
    "outputId": "06f06403-b54b-4098-e518-aa6f83eab646"
   },
   "outputs": [
    {
     "name": "stdout",
     "output_type": "stream",
     "text": [
      "There are 42 skewed numerical features to Box Cox transform\n"
     ]
    }
   ],
   "source": [
    "# all_data_free\n",
    "\n",
    "skewness_free = skewness_free[abs(skewness_free) > 0.75]\n",
    "print(\"There are {} skewed numerical features to Box Cox transform\".format(skewness_free.shape[0]))\n",
    "\n",
    "skewed_features_free = skewness_free.index\n",
    "lam = 0.15\n",
    "for feat in skewed_features_free:\n",
    "    #all_data[feat] += 1\n",
    "    all_data_free[feat] = boxcox1p(all_data_free[feat], lam)\n",
    " "
   ]
  },
  {
   "cell_type": "code",
   "execution_count": 41,
   "metadata": {
    "colab": {
     "base_uri": "https://localhost:8080/",
     "height": 50
    },
    "colab_type": "code",
    "id": "vqEg5mr7lBRZ",
    "outputId": "e2e8b923-e7d0-4bde-f248-5062f34dd646"
   },
   "outputs": [
    {
     "name": "stdout",
     "output_type": "stream",
     "text": [
      "all_data_cat.shape: (2917, 69)\n",
      "all_data_free.shape: (2917, 60)\n"
     ]
    }
   ],
   "source": [
    "print(f\"all_data_cat.shape: {all_data_cat.shape}\")\n",
    "print(f\"all_data_free.shape: {all_data_free.shape}\")"
   ]
  },
  {
   "cell_type": "code",
   "execution_count": 42,
   "metadata": {
    "colab": {
     "base_uri": "https://localhost:8080/",
     "height": 216
    },
    "colab_type": "code",
    "id": "1SvrdGWLlT9m",
    "outputId": "368983ab-6c1a-451d-ee5f-848fdaafd984"
   },
   "outputs": [
    {
     "data": {
      "text/html": [
       "<div>\n",
       "<style scoped>\n",
       "    .dataframe tbody tr th:only-of-type {\n",
       "        vertical-align: middle;\n",
       "    }\n",
       "\n",
       "    .dataframe tbody tr th {\n",
       "        vertical-align: top;\n",
       "    }\n",
       "\n",
       "    .dataframe thead th {\n",
       "        text-align: right;\n",
       "    }\n",
       "</style>\n",
       "<table border=\"1\" class=\"dataframe\">\n",
       "  <thead>\n",
       "    <tr style=\"text-align: right;\">\n",
       "      <th></th>\n",
       "      <th>MSSubClass</th>\n",
       "      <th>MSZoning</th>\n",
       "      <th>LotFrontage</th>\n",
       "      <th>LotArea</th>\n",
       "      <th>Street</th>\n",
       "      <th>LotShape</th>\n",
       "      <th>LandContour</th>\n",
       "      <th>LotConfig</th>\n",
       "      <th>LandSlope</th>\n",
       "      <th>Neighborhood</th>\n",
       "      <th>Condition1</th>\n",
       "      <th>Condition2</th>\n",
       "      <th>BldgType</th>\n",
       "      <th>HouseStyle</th>\n",
       "      <th>OverallQual</th>\n",
       "      <th>OverallCond</th>\n",
       "      <th>YearBuilt</th>\n",
       "      <th>YearRemodAdd</th>\n",
       "      <th>RoofStyle</th>\n",
       "      <th>RoofMatl</th>\n",
       "      <th>Exterior1st</th>\n",
       "      <th>Exterior2nd</th>\n",
       "      <th>MasVnrType</th>\n",
       "      <th>MasVnrArea</th>\n",
       "      <th>ExterQual</th>\n",
       "      <th>ExterCond</th>\n",
       "      <th>Foundation</th>\n",
       "      <th>BsmtFinSF1</th>\n",
       "      <th>TotalBsmtSF</th>\n",
       "      <th>Heating</th>\n",
       "      <th>HeatingQC</th>\n",
       "      <th>CentralAir</th>\n",
       "      <th>Electrical</th>\n",
       "      <th>1stFlrSF</th>\n",
       "      <th>2ndFlrSF</th>\n",
       "      <th>LowQualFinSF</th>\n",
       "      <th>GrLivArea</th>\n",
       "      <th>FullBath</th>\n",
       "      <th>HalfBath</th>\n",
       "      <th>BedroomAbvGr</th>\n",
       "      <th>KitchenAbvGr</th>\n",
       "      <th>KitchenQual</th>\n",
       "      <th>TotRmsAbvGrd</th>\n",
       "      <th>Functional</th>\n",
       "      <th>Fireplaces</th>\n",
       "      <th>FireplaceQu</th>\n",
       "      <th>GarageCars</th>\n",
       "      <th>PavedDrive</th>\n",
       "      <th>WoodDeckSF</th>\n",
       "      <th>OpenPorchSF</th>\n",
       "      <th>EnclosedPorch</th>\n",
       "      <th>3SsnPorch</th>\n",
       "      <th>ScreenPorch</th>\n",
       "      <th>PoolArea</th>\n",
       "      <th>MiscVal</th>\n",
       "      <th>MoSold</th>\n",
       "      <th>YrSold</th>\n",
       "      <th>SaleType</th>\n",
       "      <th>SaleCondition</th>\n",
       "      <th>TotalSF</th>\n",
       "    </tr>\n",
       "  </thead>\n",
       "  <tbody>\n",
       "    <tr>\n",
       "      <th>0</th>\n",
       "      <td>2.885846</td>\n",
       "      <td>RL</td>\n",
       "      <td>5.831328</td>\n",
       "      <td>19.212182</td>\n",
       "      <td>0.730463</td>\n",
       "      <td>1.540963</td>\n",
       "      <td>Lvl</td>\n",
       "      <td>Inside</td>\n",
       "      <td>0.0</td>\n",
       "      <td>CollgCr</td>\n",
       "      <td>Norm</td>\n",
       "      <td>Norm</td>\n",
       "      <td>1Fam</td>\n",
       "      <td>2Story</td>\n",
       "      <td>2.440268</td>\n",
       "      <td>1.820334</td>\n",
       "      <td>14.187527</td>\n",
       "      <td>14.187527</td>\n",
       "      <td>Gable</td>\n",
       "      <td>CompShg</td>\n",
       "      <td>VinylSd</td>\n",
       "      <td>VinylSd</td>\n",
       "      <td>BrkFace</td>\n",
       "      <td>8.059126</td>\n",
       "      <td>1.194318</td>\n",
       "      <td>1.820334</td>\n",
       "      <td>PConc</td>\n",
       "      <td>11.170327</td>\n",
       "      <td>11.692623</td>\n",
       "      <td>GasA</td>\n",
       "      <td>0.000000</td>\n",
       "      <td>0.730463</td>\n",
       "      <td>SBrkr</td>\n",
       "      <td>11.692623</td>\n",
       "      <td>11.686189</td>\n",
       "      <td>0.0</td>\n",
       "      <td>13.698888</td>\n",
       "      <td>1.194318</td>\n",
       "      <td>0.730463</td>\n",
       "      <td>1.540963</td>\n",
       "      <td>0.730463</td>\n",
       "      <td>1.194318</td>\n",
       "      <td>2.602594</td>\n",
       "      <td>2.259674</td>\n",
       "      <td>0.000000</td>\n",
       "      <td>1.540963</td>\n",
       "      <td>1.194318</td>\n",
       "      <td>1.194318</td>\n",
       "      <td>0.000000</td>\n",
       "      <td>5.714669</td>\n",
       "      <td>0.000000</td>\n",
       "      <td>0.0</td>\n",
       "      <td>0.0</td>\n",
       "      <td>0.0</td>\n",
       "      <td>0.0</td>\n",
       "      <td>1.820334</td>\n",
       "      <td>1.194318</td>\n",
       "      <td>WD</td>\n",
       "      <td>Normal</td>\n",
       "      <td>14.976591</td>\n",
       "    </tr>\n",
       "    <tr>\n",
       "      <th>1</th>\n",
       "      <td>2.055642</td>\n",
       "      <td>RL</td>\n",
       "      <td>6.221214</td>\n",
       "      <td>19.712205</td>\n",
       "      <td>0.730463</td>\n",
       "      <td>1.540963</td>\n",
       "      <td>Lvl</td>\n",
       "      <td>FR2</td>\n",
       "      <td>0.0</td>\n",
       "      <td>Veenker</td>\n",
       "      <td>Feedr</td>\n",
       "      <td>Norm</td>\n",
       "      <td>1Fam</td>\n",
       "      <td>1Story</td>\n",
       "      <td>2.259674</td>\n",
       "      <td>2.440268</td>\n",
       "      <td>14.145138</td>\n",
       "      <td>14.145138</td>\n",
       "      <td>Gable</td>\n",
       "      <td>CompShg</td>\n",
       "      <td>MetalSd</td>\n",
       "      <td>MetalSd</td>\n",
       "      <td>None</td>\n",
       "      <td>0.000000</td>\n",
       "      <td>1.540963</td>\n",
       "      <td>1.820334</td>\n",
       "      <td>CBlock</td>\n",
       "      <td>12.062832</td>\n",
       "      <td>12.792276</td>\n",
       "      <td>GasA</td>\n",
       "      <td>0.000000</td>\n",
       "      <td>0.730463</td>\n",
       "      <td>SBrkr</td>\n",
       "      <td>12.792276</td>\n",
       "      <td>0.000000</td>\n",
       "      <td>0.0</td>\n",
       "      <td>12.792276</td>\n",
       "      <td>1.194318</td>\n",
       "      <td>0.000000</td>\n",
       "      <td>1.540963</td>\n",
       "      <td>0.730463</td>\n",
       "      <td>1.540963</td>\n",
       "      <td>2.259674</td>\n",
       "      <td>2.259674</td>\n",
       "      <td>0.730463</td>\n",
       "      <td>2.055642</td>\n",
       "      <td>1.194318</td>\n",
       "      <td>1.194318</td>\n",
       "      <td>9.010206</td>\n",
       "      <td>0.000000</td>\n",
       "      <td>0.000000</td>\n",
       "      <td>0.0</td>\n",
       "      <td>0.0</td>\n",
       "      <td>0.0</td>\n",
       "      <td>0.0</td>\n",
       "      <td>2.440268</td>\n",
       "      <td>0.730463</td>\n",
       "      <td>WD</td>\n",
       "      <td>Normal</td>\n",
       "      <td>14.923100</td>\n",
       "    </tr>\n",
       "    <tr>\n",
       "      <th>2</th>\n",
       "      <td>2.885846</td>\n",
       "      <td>RL</td>\n",
       "      <td>5.914940</td>\n",
       "      <td>20.347241</td>\n",
       "      <td>0.730463</td>\n",
       "      <td>0.000000</td>\n",
       "      <td>Lvl</td>\n",
       "      <td>Inside</td>\n",
       "      <td>0.0</td>\n",
       "      <td>CollgCr</td>\n",
       "      <td>Norm</td>\n",
       "      <td>Norm</td>\n",
       "      <td>1Fam</td>\n",
       "      <td>2Story</td>\n",
       "      <td>2.440268</td>\n",
       "      <td>1.820334</td>\n",
       "      <td>14.184404</td>\n",
       "      <td>14.185966</td>\n",
       "      <td>Gable</td>\n",
       "      <td>CompShg</td>\n",
       "      <td>VinylSd</td>\n",
       "      <td>VinylSd</td>\n",
       "      <td>BrkFace</td>\n",
       "      <td>7.646538</td>\n",
       "      <td>1.194318</td>\n",
       "      <td>1.820334</td>\n",
       "      <td>PConc</td>\n",
       "      <td>10.200343</td>\n",
       "      <td>11.892039</td>\n",
       "      <td>GasA</td>\n",
       "      <td>0.000000</td>\n",
       "      <td>0.730463</td>\n",
       "      <td>SBrkr</td>\n",
       "      <td>11.892039</td>\n",
       "      <td>11.724598</td>\n",
       "      <td>0.0</td>\n",
       "      <td>13.832085</td>\n",
       "      <td>1.194318</td>\n",
       "      <td>0.730463</td>\n",
       "      <td>1.540963</td>\n",
       "      <td>0.730463</td>\n",
       "      <td>1.194318</td>\n",
       "      <td>2.259674</td>\n",
       "      <td>2.259674</td>\n",
       "      <td>0.730463</td>\n",
       "      <td>2.055642</td>\n",
       "      <td>1.194318</td>\n",
       "      <td>1.194318</td>\n",
       "      <td>0.000000</td>\n",
       "      <td>5.053371</td>\n",
       "      <td>0.000000</td>\n",
       "      <td>0.0</td>\n",
       "      <td>0.0</td>\n",
       "      <td>0.0</td>\n",
       "      <td>0.0</td>\n",
       "      <td>3.011340</td>\n",
       "      <td>1.194318</td>\n",
       "      <td>WD</td>\n",
       "      <td>Normal</td>\n",
       "      <td>15.149678</td>\n",
       "    </tr>\n",
       "    <tr>\n",
       "      <th>3</th>\n",
       "      <td>3.011340</td>\n",
       "      <td>RL</td>\n",
       "      <td>5.684507</td>\n",
       "      <td>19.691553</td>\n",
       "      <td>0.730463</td>\n",
       "      <td>0.000000</td>\n",
       "      <td>Lvl</td>\n",
       "      <td>Corner</td>\n",
       "      <td>0.0</td>\n",
       "      <td>Crawfor</td>\n",
       "      <td>Norm</td>\n",
       "      <td>Norm</td>\n",
       "      <td>1Fam</td>\n",
       "      <td>2Story</td>\n",
       "      <td>2.440268</td>\n",
       "      <td>1.820334</td>\n",
       "      <td>14.047529</td>\n",
       "      <td>14.135652</td>\n",
       "      <td>Gable</td>\n",
       "      <td>CompShg</td>\n",
       "      <td>Wd Sdng</td>\n",
       "      <td>Wd Shng</td>\n",
       "      <td>None</td>\n",
       "      <td>0.000000</td>\n",
       "      <td>1.540963</td>\n",
       "      <td>1.820334</td>\n",
       "      <td>BrkTil</td>\n",
       "      <td>8.274266</td>\n",
       "      <td>11.354094</td>\n",
       "      <td>GasA</td>\n",
       "      <td>1.194318</td>\n",
       "      <td>0.730463</td>\n",
       "      <td>SBrkr</td>\n",
       "      <td>12.013683</td>\n",
       "      <td>11.354094</td>\n",
       "      <td>0.0</td>\n",
       "      <td>13.711364</td>\n",
       "      <td>0.730463</td>\n",
       "      <td>0.000000</td>\n",
       "      <td>1.540963</td>\n",
       "      <td>0.730463</td>\n",
       "      <td>1.194318</td>\n",
       "      <td>2.440268</td>\n",
       "      <td>2.259674</td>\n",
       "      <td>0.730463</td>\n",
       "      <td>1.194318</td>\n",
       "      <td>1.540963</td>\n",
       "      <td>1.194318</td>\n",
       "      <td>0.000000</td>\n",
       "      <td>4.745132</td>\n",
       "      <td>8.797736</td>\n",
       "      <td>0.0</td>\n",
       "      <td>0.0</td>\n",
       "      <td>0.0</td>\n",
       "      <td>0.0</td>\n",
       "      <td>1.820334</td>\n",
       "      <td>0.000000</td>\n",
       "      <td>WD</td>\n",
       "      <td>Abnorml</td>\n",
       "      <td>14.857121</td>\n",
       "    </tr>\n",
       "    <tr>\n",
       "      <th>4</th>\n",
       "      <td>2.885846</td>\n",
       "      <td>RL</td>\n",
       "      <td>6.314735</td>\n",
       "      <td>21.325160</td>\n",
       "      <td>0.730463</td>\n",
       "      <td>0.000000</td>\n",
       "      <td>Lvl</td>\n",
       "      <td>FR2</td>\n",
       "      <td>0.0</td>\n",
       "      <td>NoRidge</td>\n",
       "      <td>Norm</td>\n",
       "      <td>Norm</td>\n",
       "      <td>1Fam</td>\n",
       "      <td>2Story</td>\n",
       "      <td>2.602594</td>\n",
       "      <td>1.820334</td>\n",
       "      <td>14.182841</td>\n",
       "      <td>14.182841</td>\n",
       "      <td>Gable</td>\n",
       "      <td>CompShg</td>\n",
       "      <td>VinylSd</td>\n",
       "      <td>VinylSd</td>\n",
       "      <td>BrkFace</td>\n",
       "      <td>9.391827</td>\n",
       "      <td>1.194318</td>\n",
       "      <td>1.820334</td>\n",
       "      <td>PConc</td>\n",
       "      <td>10.971129</td>\n",
       "      <td>12.510588</td>\n",
       "      <td>GasA</td>\n",
       "      <td>0.000000</td>\n",
       "      <td>0.730463</td>\n",
       "      <td>SBrkr</td>\n",
       "      <td>12.510588</td>\n",
       "      <td>12.271365</td>\n",
       "      <td>0.0</td>\n",
       "      <td>14.480029</td>\n",
       "      <td>1.194318</td>\n",
       "      <td>0.730463</td>\n",
       "      <td>1.820334</td>\n",
       "      <td>0.730463</td>\n",
       "      <td>1.194318</td>\n",
       "      <td>2.750250</td>\n",
       "      <td>2.259674</td>\n",
       "      <td>0.730463</td>\n",
       "      <td>2.055642</td>\n",
       "      <td>1.540963</td>\n",
       "      <td>1.194318</td>\n",
       "      <td>8.013884</td>\n",
       "      <td>6.314735</td>\n",
       "      <td>0.000000</td>\n",
       "      <td>0.0</td>\n",
       "      <td>0.0</td>\n",
       "      <td>0.0</td>\n",
       "      <td>0.0</td>\n",
       "      <td>1.540963</td>\n",
       "      <td>1.194318</td>\n",
       "      <td>WD</td>\n",
       "      <td>Normal</td>\n",
       "      <td>15.852312</td>\n",
       "    </tr>\n",
       "  </tbody>\n",
       "</table>\n",
       "</div>"
      ],
      "text/plain": [
       "   MSSubClass MSZoning  LotFrontage    LotArea    Street  LotShape  \\\n",
       "0    2.885846       RL     5.831328  19.212182  0.730463  1.540963   \n",
       "1    2.055642       RL     6.221214  19.712205  0.730463  1.540963   \n",
       "2    2.885846       RL     5.914940  20.347241  0.730463  0.000000   \n",
       "3    3.011340       RL     5.684507  19.691553  0.730463  0.000000   \n",
       "4    2.885846       RL     6.314735  21.325160  0.730463  0.000000   \n",
       "\n",
       "  LandContour LotConfig  LandSlope Neighborhood Condition1 Condition2  \\\n",
       "0         Lvl    Inside        0.0      CollgCr       Norm       Norm   \n",
       "1         Lvl       FR2        0.0      Veenker      Feedr       Norm   \n",
       "2         Lvl    Inside        0.0      CollgCr       Norm       Norm   \n",
       "3         Lvl    Corner        0.0      Crawfor       Norm       Norm   \n",
       "4         Lvl       FR2        0.0      NoRidge       Norm       Norm   \n",
       "\n",
       "  BldgType HouseStyle  OverallQual  OverallCond  YearBuilt  YearRemodAdd  \\\n",
       "0     1Fam     2Story     2.440268     1.820334  14.187527     14.187527   \n",
       "1     1Fam     1Story     2.259674     2.440268  14.145138     14.145138   \n",
       "2     1Fam     2Story     2.440268     1.820334  14.184404     14.185966   \n",
       "3     1Fam     2Story     2.440268     1.820334  14.047529     14.135652   \n",
       "4     1Fam     2Story     2.602594     1.820334  14.182841     14.182841   \n",
       "\n",
       "  RoofStyle RoofMatl Exterior1st Exterior2nd MasVnrType  MasVnrArea  \\\n",
       "0     Gable  CompShg     VinylSd     VinylSd    BrkFace    8.059126   \n",
       "1     Gable  CompShg     MetalSd     MetalSd       None    0.000000   \n",
       "2     Gable  CompShg     VinylSd     VinylSd    BrkFace    7.646538   \n",
       "3     Gable  CompShg     Wd Sdng     Wd Shng       None    0.000000   \n",
       "4     Gable  CompShg     VinylSd     VinylSd    BrkFace    9.391827   \n",
       "\n",
       "   ExterQual  ExterCond Foundation  BsmtFinSF1  TotalBsmtSF Heating  \\\n",
       "0   1.194318   1.820334      PConc   11.170327    11.692623    GasA   \n",
       "1   1.540963   1.820334     CBlock   12.062832    12.792276    GasA   \n",
       "2   1.194318   1.820334      PConc   10.200343    11.892039    GasA   \n",
       "3   1.540963   1.820334     BrkTil    8.274266    11.354094    GasA   \n",
       "4   1.194318   1.820334      PConc   10.971129    12.510588    GasA   \n",
       "\n",
       "   HeatingQC  CentralAir Electrical   1stFlrSF   2ndFlrSF  LowQualFinSF  \\\n",
       "0   0.000000    0.730463      SBrkr  11.692623  11.686189           0.0   \n",
       "1   0.000000    0.730463      SBrkr  12.792276   0.000000           0.0   \n",
       "2   0.000000    0.730463      SBrkr  11.892039  11.724598           0.0   \n",
       "3   1.194318    0.730463      SBrkr  12.013683  11.354094           0.0   \n",
       "4   0.000000    0.730463      SBrkr  12.510588  12.271365           0.0   \n",
       "\n",
       "   GrLivArea  FullBath  HalfBath  BedroomAbvGr  KitchenAbvGr  KitchenQual  \\\n",
       "0  13.698888  1.194318  0.730463      1.540963      0.730463     1.194318   \n",
       "1  12.792276  1.194318  0.000000      1.540963      0.730463     1.540963   \n",
       "2  13.832085  1.194318  0.730463      1.540963      0.730463     1.194318   \n",
       "3  13.711364  0.730463  0.000000      1.540963      0.730463     1.194318   \n",
       "4  14.480029  1.194318  0.730463      1.820334      0.730463     1.194318   \n",
       "\n",
       "   TotRmsAbvGrd  Functional  Fireplaces  FireplaceQu  GarageCars  PavedDrive  \\\n",
       "0      2.602594    2.259674    0.000000     1.540963    1.194318    1.194318   \n",
       "1      2.259674    2.259674    0.730463     2.055642    1.194318    1.194318   \n",
       "2      2.259674    2.259674    0.730463     2.055642    1.194318    1.194318   \n",
       "3      2.440268    2.259674    0.730463     1.194318    1.540963    1.194318   \n",
       "4      2.750250    2.259674    0.730463     2.055642    1.540963    1.194318   \n",
       "\n",
       "   WoodDeckSF  OpenPorchSF  EnclosedPorch  3SsnPorch  ScreenPorch  PoolArea  \\\n",
       "0    0.000000     5.714669       0.000000        0.0          0.0       0.0   \n",
       "1    9.010206     0.000000       0.000000        0.0          0.0       0.0   \n",
       "2    0.000000     5.053371       0.000000        0.0          0.0       0.0   \n",
       "3    0.000000     4.745132       8.797736        0.0          0.0       0.0   \n",
       "4    8.013884     6.314735       0.000000        0.0          0.0       0.0   \n",
       "\n",
       "   MiscVal    MoSold    YrSold SaleType SaleCondition    TotalSF  \n",
       "0      0.0  1.820334  1.194318       WD        Normal  14.976591  \n",
       "1      0.0  2.440268  0.730463       WD        Normal  14.923100  \n",
       "2      0.0  3.011340  1.194318       WD        Normal  15.149678  \n",
       "3      0.0  1.820334  0.000000       WD       Abnorml  14.857121  \n",
       "4      0.0  1.540963  1.194318       WD        Normal  15.852312  "
      ]
     },
     "execution_count": 42,
     "metadata": {
      "tags": []
     },
     "output_type": "execute_result"
    }
   ],
   "source": [
    "all_data_free.head()"
   ]
  },
  {
   "cell_type": "code",
   "execution_count": 0,
   "metadata": {
    "colab": {},
    "colab_type": "code",
    "id": "t8LpUMD2m5Ns"
   },
   "outputs": [],
   "source": [
    "# apply min max scaler first"
   ]
  },
  {
   "cell_type": "code",
   "execution_count": 44,
   "metadata": {
    "colab": {
     "base_uri": "https://localhost:8080/",
     "height": 33
    },
    "colab_type": "code",
    "id": "jY54oP6_mFbR",
    "outputId": "f1ffe18c-2b46-402c-fbad-fc66727d1e48"
   },
   "outputs": [
    {
     "name": "stdout",
     "output_type": "stream",
     "text": [
      "(2917, 206)\n"
     ]
    }
   ],
   "source": [
    "all_data_cat = pd.get_dummies(all_data_cat)\n",
    "print(all_data_cat.shape)"
   ]
  },
  {
   "cell_type": "code",
   "execution_count": 45,
   "metadata": {
    "colab": {
     "base_uri": "https://localhost:8080/",
     "height": 33
    },
    "colab_type": "code",
    "id": "BnjiQIaNm1GT",
    "outputId": "14c31dda-19c5-4955-c143-387e0555a8d1"
   },
   "outputs": [
    {
     "name": "stdout",
     "output_type": "stream",
     "text": [
      "(2917, 191)\n"
     ]
    }
   ],
   "source": [
    "all_data_free = pd.get_dummies(all_data_free)\n",
    "print(all_data_free.shape)"
   ]
  },
  {
   "cell_type": "code",
   "execution_count": 46,
   "metadata": {
    "colab": {
     "base_uri": "https://localhost:8080/",
     "height": 216
    },
    "colab_type": "code",
    "id": "gu8RpCq5_CuD",
    "outputId": "e27bf312-9ea6-4116-f6cf-180d53059b14"
   },
   "outputs": [
    {
     "data": {
      "text/html": [
       "<div>\n",
       "<style scoped>\n",
       "    .dataframe tbody tr th:only-of-type {\n",
       "        vertical-align: middle;\n",
       "    }\n",
       "\n",
       "    .dataframe tbody tr th {\n",
       "        vertical-align: top;\n",
       "    }\n",
       "\n",
       "    .dataframe thead th {\n",
       "        text-align: right;\n",
       "    }\n",
       "</style>\n",
       "<table border=\"1\" class=\"dataframe\">\n",
       "  <thead>\n",
       "    <tr style=\"text-align: right;\">\n",
       "      <th></th>\n",
       "      <th>MSSubClass</th>\n",
       "      <th>LotFrontage</th>\n",
       "      <th>LotArea</th>\n",
       "      <th>Street</th>\n",
       "      <th>LotShape</th>\n",
       "      <th>LandSlope</th>\n",
       "      <th>OverallQual</th>\n",
       "      <th>OverallCond</th>\n",
       "      <th>YearBuilt</th>\n",
       "      <th>YearRemodAdd</th>\n",
       "      <th>MasVnrArea</th>\n",
       "      <th>ExterQual</th>\n",
       "      <th>ExterCond</th>\n",
       "      <th>BsmtFinSF1</th>\n",
       "      <th>TotalBsmtSF</th>\n",
       "      <th>HeatingQC</th>\n",
       "      <th>CentralAir</th>\n",
       "      <th>1stFlrSF</th>\n",
       "      <th>2ndFlrSF</th>\n",
       "      <th>LowQualFinSF</th>\n",
       "      <th>GrLivArea</th>\n",
       "      <th>FullBath</th>\n",
       "      <th>HalfBath</th>\n",
       "      <th>BedroomAbvGr</th>\n",
       "      <th>KitchenAbvGr</th>\n",
       "      <th>KitchenQual</th>\n",
       "      <th>TotRmsAbvGrd</th>\n",
       "      <th>Functional</th>\n",
       "      <th>Fireplaces</th>\n",
       "      <th>FireplaceQu</th>\n",
       "      <th>GarageCars</th>\n",
       "      <th>PavedDrive</th>\n",
       "      <th>WoodDeckSF</th>\n",
       "      <th>OpenPorchSF</th>\n",
       "      <th>EnclosedPorch</th>\n",
       "      <th>3SsnPorch</th>\n",
       "      <th>ScreenPorch</th>\n",
       "      <th>PoolArea</th>\n",
       "      <th>MiscVal</th>\n",
       "      <th>MoSold</th>\n",
       "      <th>YrSold</th>\n",
       "      <th>TotalSF</th>\n",
       "    </tr>\n",
       "  </thead>\n",
       "  <tbody>\n",
       "    <tr>\n",
       "      <th>0</th>\n",
       "      <td>2.885846</td>\n",
       "      <td>5.831328</td>\n",
       "      <td>19.212182</td>\n",
       "      <td>0.730463</td>\n",
       "      <td>1.540963</td>\n",
       "      <td>0.0</td>\n",
       "      <td>2.440268</td>\n",
       "      <td>1.820334</td>\n",
       "      <td>14.187527</td>\n",
       "      <td>14.187527</td>\n",
       "      <td>8.059126</td>\n",
       "      <td>1.194318</td>\n",
       "      <td>1.820334</td>\n",
       "      <td>11.170327</td>\n",
       "      <td>11.692623</td>\n",
       "      <td>0.000000</td>\n",
       "      <td>0.730463</td>\n",
       "      <td>11.692623</td>\n",
       "      <td>11.686189</td>\n",
       "      <td>0.0</td>\n",
       "      <td>13.698888</td>\n",
       "      <td>1.194318</td>\n",
       "      <td>0.730463</td>\n",
       "      <td>1.540963</td>\n",
       "      <td>0.730463</td>\n",
       "      <td>1.194318</td>\n",
       "      <td>2.602594</td>\n",
       "      <td>2.259674</td>\n",
       "      <td>0.000000</td>\n",
       "      <td>1.540963</td>\n",
       "      <td>1.194318</td>\n",
       "      <td>1.194318</td>\n",
       "      <td>0.000000</td>\n",
       "      <td>5.714669</td>\n",
       "      <td>0.000000</td>\n",
       "      <td>0.0</td>\n",
       "      <td>0.0</td>\n",
       "      <td>0.0</td>\n",
       "      <td>0.0</td>\n",
       "      <td>1.820334</td>\n",
       "      <td>1.194318</td>\n",
       "      <td>14.976591</td>\n",
       "    </tr>\n",
       "    <tr>\n",
       "      <th>1</th>\n",
       "      <td>2.055642</td>\n",
       "      <td>6.221214</td>\n",
       "      <td>19.712205</td>\n",
       "      <td>0.730463</td>\n",
       "      <td>1.540963</td>\n",
       "      <td>0.0</td>\n",
       "      <td>2.259674</td>\n",
       "      <td>2.440268</td>\n",
       "      <td>14.145138</td>\n",
       "      <td>14.145138</td>\n",
       "      <td>0.000000</td>\n",
       "      <td>1.540963</td>\n",
       "      <td>1.820334</td>\n",
       "      <td>12.062832</td>\n",
       "      <td>12.792276</td>\n",
       "      <td>0.000000</td>\n",
       "      <td>0.730463</td>\n",
       "      <td>12.792276</td>\n",
       "      <td>0.000000</td>\n",
       "      <td>0.0</td>\n",
       "      <td>12.792276</td>\n",
       "      <td>1.194318</td>\n",
       "      <td>0.000000</td>\n",
       "      <td>1.540963</td>\n",
       "      <td>0.730463</td>\n",
       "      <td>1.540963</td>\n",
       "      <td>2.259674</td>\n",
       "      <td>2.259674</td>\n",
       "      <td>0.730463</td>\n",
       "      <td>2.055642</td>\n",
       "      <td>1.194318</td>\n",
       "      <td>1.194318</td>\n",
       "      <td>9.010206</td>\n",
       "      <td>0.000000</td>\n",
       "      <td>0.000000</td>\n",
       "      <td>0.0</td>\n",
       "      <td>0.0</td>\n",
       "      <td>0.0</td>\n",
       "      <td>0.0</td>\n",
       "      <td>2.440268</td>\n",
       "      <td>0.730463</td>\n",
       "      <td>14.923100</td>\n",
       "    </tr>\n",
       "    <tr>\n",
       "      <th>2</th>\n",
       "      <td>2.885846</td>\n",
       "      <td>5.914940</td>\n",
       "      <td>20.347241</td>\n",
       "      <td>0.730463</td>\n",
       "      <td>0.000000</td>\n",
       "      <td>0.0</td>\n",
       "      <td>2.440268</td>\n",
       "      <td>1.820334</td>\n",
       "      <td>14.184404</td>\n",
       "      <td>14.185966</td>\n",
       "      <td>7.646538</td>\n",
       "      <td>1.194318</td>\n",
       "      <td>1.820334</td>\n",
       "      <td>10.200343</td>\n",
       "      <td>11.892039</td>\n",
       "      <td>0.000000</td>\n",
       "      <td>0.730463</td>\n",
       "      <td>11.892039</td>\n",
       "      <td>11.724598</td>\n",
       "      <td>0.0</td>\n",
       "      <td>13.832085</td>\n",
       "      <td>1.194318</td>\n",
       "      <td>0.730463</td>\n",
       "      <td>1.540963</td>\n",
       "      <td>0.730463</td>\n",
       "      <td>1.194318</td>\n",
       "      <td>2.259674</td>\n",
       "      <td>2.259674</td>\n",
       "      <td>0.730463</td>\n",
       "      <td>2.055642</td>\n",
       "      <td>1.194318</td>\n",
       "      <td>1.194318</td>\n",
       "      <td>0.000000</td>\n",
       "      <td>5.053371</td>\n",
       "      <td>0.000000</td>\n",
       "      <td>0.0</td>\n",
       "      <td>0.0</td>\n",
       "      <td>0.0</td>\n",
       "      <td>0.0</td>\n",
       "      <td>3.011340</td>\n",
       "      <td>1.194318</td>\n",
       "      <td>15.149678</td>\n",
       "    </tr>\n",
       "    <tr>\n",
       "      <th>3</th>\n",
       "      <td>3.011340</td>\n",
       "      <td>5.684507</td>\n",
       "      <td>19.691553</td>\n",
       "      <td>0.730463</td>\n",
       "      <td>0.000000</td>\n",
       "      <td>0.0</td>\n",
       "      <td>2.440268</td>\n",
       "      <td>1.820334</td>\n",
       "      <td>14.047529</td>\n",
       "      <td>14.135652</td>\n",
       "      <td>0.000000</td>\n",
       "      <td>1.540963</td>\n",
       "      <td>1.820334</td>\n",
       "      <td>8.274266</td>\n",
       "      <td>11.354094</td>\n",
       "      <td>1.194318</td>\n",
       "      <td>0.730463</td>\n",
       "      <td>12.013683</td>\n",
       "      <td>11.354094</td>\n",
       "      <td>0.0</td>\n",
       "      <td>13.711364</td>\n",
       "      <td>0.730463</td>\n",
       "      <td>0.000000</td>\n",
       "      <td>1.540963</td>\n",
       "      <td>0.730463</td>\n",
       "      <td>1.194318</td>\n",
       "      <td>2.440268</td>\n",
       "      <td>2.259674</td>\n",
       "      <td>0.730463</td>\n",
       "      <td>1.194318</td>\n",
       "      <td>1.540963</td>\n",
       "      <td>1.194318</td>\n",
       "      <td>0.000000</td>\n",
       "      <td>4.745132</td>\n",
       "      <td>8.797736</td>\n",
       "      <td>0.0</td>\n",
       "      <td>0.0</td>\n",
       "      <td>0.0</td>\n",
       "      <td>0.0</td>\n",
       "      <td>1.820334</td>\n",
       "      <td>0.000000</td>\n",
       "      <td>14.857121</td>\n",
       "    </tr>\n",
       "    <tr>\n",
       "      <th>4</th>\n",
       "      <td>2.885846</td>\n",
       "      <td>6.314735</td>\n",
       "      <td>21.325160</td>\n",
       "      <td>0.730463</td>\n",
       "      <td>0.000000</td>\n",
       "      <td>0.0</td>\n",
       "      <td>2.602594</td>\n",
       "      <td>1.820334</td>\n",
       "      <td>14.182841</td>\n",
       "      <td>14.182841</td>\n",
       "      <td>9.391827</td>\n",
       "      <td>1.194318</td>\n",
       "      <td>1.820334</td>\n",
       "      <td>10.971129</td>\n",
       "      <td>12.510588</td>\n",
       "      <td>0.000000</td>\n",
       "      <td>0.730463</td>\n",
       "      <td>12.510588</td>\n",
       "      <td>12.271365</td>\n",
       "      <td>0.0</td>\n",
       "      <td>14.480029</td>\n",
       "      <td>1.194318</td>\n",
       "      <td>0.730463</td>\n",
       "      <td>1.820334</td>\n",
       "      <td>0.730463</td>\n",
       "      <td>1.194318</td>\n",
       "      <td>2.750250</td>\n",
       "      <td>2.259674</td>\n",
       "      <td>0.730463</td>\n",
       "      <td>2.055642</td>\n",
       "      <td>1.540963</td>\n",
       "      <td>1.194318</td>\n",
       "      <td>8.013884</td>\n",
       "      <td>6.314735</td>\n",
       "      <td>0.000000</td>\n",
       "      <td>0.0</td>\n",
       "      <td>0.0</td>\n",
       "      <td>0.0</td>\n",
       "      <td>0.0</td>\n",
       "      <td>1.540963</td>\n",
       "      <td>1.194318</td>\n",
       "      <td>15.852312</td>\n",
       "    </tr>\n",
       "  </tbody>\n",
       "</table>\n",
       "</div>"
      ],
      "text/plain": [
       "   MSSubClass  LotFrontage    LotArea    Street  LotShape  LandSlope  \\\n",
       "0    2.885846     5.831328  19.212182  0.730463  1.540963        0.0   \n",
       "1    2.055642     6.221214  19.712205  0.730463  1.540963        0.0   \n",
       "2    2.885846     5.914940  20.347241  0.730463  0.000000        0.0   \n",
       "3    3.011340     5.684507  19.691553  0.730463  0.000000        0.0   \n",
       "4    2.885846     6.314735  21.325160  0.730463  0.000000        0.0   \n",
       "\n",
       "   OverallQual  OverallCond  YearBuilt  YearRemodAdd  MasVnrArea  ExterQual  \\\n",
       "0     2.440268     1.820334  14.187527     14.187527    8.059126   1.194318   \n",
       "1     2.259674     2.440268  14.145138     14.145138    0.000000   1.540963   \n",
       "2     2.440268     1.820334  14.184404     14.185966    7.646538   1.194318   \n",
       "3     2.440268     1.820334  14.047529     14.135652    0.000000   1.540963   \n",
       "4     2.602594     1.820334  14.182841     14.182841    9.391827   1.194318   \n",
       "\n",
       "   ExterCond  BsmtFinSF1  TotalBsmtSF  HeatingQC  CentralAir   1stFlrSF  \\\n",
       "0   1.820334   11.170327    11.692623   0.000000    0.730463  11.692623   \n",
       "1   1.820334   12.062832    12.792276   0.000000    0.730463  12.792276   \n",
       "2   1.820334   10.200343    11.892039   0.000000    0.730463  11.892039   \n",
       "3   1.820334    8.274266    11.354094   1.194318    0.730463  12.013683   \n",
       "4   1.820334   10.971129    12.510588   0.000000    0.730463  12.510588   \n",
       "\n",
       "    2ndFlrSF  LowQualFinSF  GrLivArea  FullBath  HalfBath  BedroomAbvGr  \\\n",
       "0  11.686189           0.0  13.698888  1.194318  0.730463      1.540963   \n",
       "1   0.000000           0.0  12.792276  1.194318  0.000000      1.540963   \n",
       "2  11.724598           0.0  13.832085  1.194318  0.730463      1.540963   \n",
       "3  11.354094           0.0  13.711364  0.730463  0.000000      1.540963   \n",
       "4  12.271365           0.0  14.480029  1.194318  0.730463      1.820334   \n",
       "\n",
       "   KitchenAbvGr  KitchenQual  TotRmsAbvGrd  Functional  Fireplaces  \\\n",
       "0      0.730463     1.194318      2.602594    2.259674    0.000000   \n",
       "1      0.730463     1.540963      2.259674    2.259674    0.730463   \n",
       "2      0.730463     1.194318      2.259674    2.259674    0.730463   \n",
       "3      0.730463     1.194318      2.440268    2.259674    0.730463   \n",
       "4      0.730463     1.194318      2.750250    2.259674    0.730463   \n",
       "\n",
       "   FireplaceQu  GarageCars  PavedDrive  WoodDeckSF  OpenPorchSF  \\\n",
       "0     1.540963    1.194318    1.194318    0.000000     5.714669   \n",
       "1     2.055642    1.194318    1.194318    9.010206     0.000000   \n",
       "2     2.055642    1.194318    1.194318    0.000000     5.053371   \n",
       "3     1.194318    1.540963    1.194318    0.000000     4.745132   \n",
       "4     2.055642    1.540963    1.194318    8.013884     6.314735   \n",
       "\n",
       "   EnclosedPorch  3SsnPorch  ScreenPorch  PoolArea  MiscVal    MoSold  \\\n",
       "0       0.000000        0.0          0.0       0.0      0.0  1.820334   \n",
       "1       0.000000        0.0          0.0       0.0      0.0  2.440268   \n",
       "2       0.000000        0.0          0.0       0.0      0.0  3.011340   \n",
       "3       8.797736        0.0          0.0       0.0      0.0  1.820334   \n",
       "4       0.000000        0.0          0.0       0.0      0.0  1.540963   \n",
       "\n",
       "     YrSold    TotalSF  \n",
       "0  1.194318  14.976591  \n",
       "1  0.730463  14.923100  \n",
       "2  1.194318  15.149678  \n",
       "3  0.000000  14.857121  \n",
       "4  1.194318  15.852312  "
      ]
     },
     "execution_count": 46,
     "metadata": {
      "tags": []
     },
     "output_type": "execute_result"
    }
   ],
   "source": [
    "all_data_free[numeric_feature_free].head()"
   ]
  },
  {
   "cell_type": "code",
   "execution_count": 0,
   "metadata": {
    "colab": {},
    "colab_type": "code",
    "id": "4-0OU-kZEHBI"
   },
   "outputs": [],
   "source": [
    "train_cat = all_data_cat[:ntrain]\n",
    "test_cat = all_data_cat[ntrain:]"
   ]
  },
  {
   "cell_type": "code",
   "execution_count": 0,
   "metadata": {
    "colab": {},
    "colab_type": "code",
    "id": "-MJ3KEiWFf2F"
   },
   "outputs": [],
   "source": [
    "train_free = all_data_free[:ntrain]\n",
    "test_free = all_data_free[ntrain:]"
   ]
  },
  {
   "cell_type": "code",
   "execution_count": 49,
   "metadata": {
    "colab": {
     "base_uri": "https://localhost:8080/",
     "height": 33
    },
    "colab_type": "code",
    "id": "WswZpt_WLkBC",
    "outputId": "f1c82e11-3f68-4346-c868-22c389fc5fc9"
   },
   "outputs": [
    {
     "data": {
      "text/plain": [
       "((1458, 206), (1459, 206))"
      ]
     },
     "execution_count": 49,
     "metadata": {
      "tags": []
     },
     "output_type": "execute_result"
    }
   ],
   "source": [
    "train_cat.shape, test_cat.shape"
   ]
  },
  {
   "cell_type": "code",
   "execution_count": 50,
   "metadata": {
    "colab": {
     "base_uri": "https://localhost:8080/",
     "height": 33
    },
    "colab_type": "code",
    "id": "ol0qEQEyLkE2",
    "outputId": "0d9c4b92-9840-4bed-fdbf-ce543fd121cc"
   },
   "outputs": [
    {
     "data": {
      "text/plain": [
       "((1458, 191), (1459, 191))"
      ]
     },
     "execution_count": 50,
     "metadata": {
      "tags": []
     },
     "output_type": "execute_result"
    }
   ],
   "source": [
    "train_free.shape, test_free.shape"
   ]
  },
  {
   "cell_type": "code",
   "execution_count": 0,
   "metadata": {
    "colab": {},
    "colab_type": "code",
    "id": "I8w4CCGa_FV3"
   },
   "outputs": [],
   "source": [
    "# Using MinMaxScaler"
   ]
  },
  {
   "cell_type": "code",
   "execution_count": 52,
   "metadata": {
    "colab": {
     "base_uri": "https://localhost:8080/",
     "height": 33
    },
    "colab_type": "code",
    "id": "G6IvoIQmFLNk",
    "outputId": "c8380726-f288-439e-ed1f-4c7ca544c03f"
   },
   "outputs": [
    {
     "data": {
      "text/plain": [
       "((1458, 206), (1459, 206))"
      ]
     },
     "execution_count": 52,
     "metadata": {
      "tags": []
     },
     "output_type": "execute_result"
    }
   ],
   "source": [
    "X_cat = train_cat.copy()\n",
    "cols_cat = X_cat.columns\n",
    "\n",
    "scaler_cat = MinMaxScaler()\n",
    "\n",
    "# fitting MinaMaxScaler to training data\n",
    "scaler_cat.fit(X_cat)\n",
    "\n",
    "# transforming training and test data\n",
    "X_cat = scaler_cat.transform(X_cat)\n",
    "test_cat = scaler_cat.transform(test_cat)\n",
    "\n",
    "\n",
    "X_cat = pd.DataFrame(X_cat, columns=[cols_cat])\n",
    "test_cat = pd.DataFrame(test_cat, columns=[cols_cat])\n",
    "X_cat.shape, test_cat.shape"
   ]
  },
  {
   "cell_type": "code",
   "execution_count": 53,
   "metadata": {
    "colab": {
     "base_uri": "https://localhost:8080/",
     "height": 33
    },
    "colab_type": "code",
    "id": "qMJO14UuFbGu",
    "outputId": "ba43fb06-1969-4c60-c651-9410545bcf85"
   },
   "outputs": [
    {
     "data": {
      "text/plain": [
       "((1458, 191), (1459, 191))"
      ]
     },
     "execution_count": 53,
     "metadata": {
      "tags": []
     },
     "output_type": "execute_result"
    }
   ],
   "source": [
    "X_free = train_free.copy()\n",
    "cols_free = X_free.columns\n",
    "\n",
    "scaler_free = MinMaxScaler()\n",
    "\n",
    "# fitting MinaMaxScaler to training data\n",
    "scaler_free.fit(X_free)\n",
    "\n",
    "# transforming training and test data\n",
    "X_free = scaler_free.transform(X_free)\n",
    "test_free = scaler_free.transform(test_free)\n",
    "\n",
    "\n",
    "X_free = pd.DataFrame(X_free, columns=[cols_free])\n",
    "test_free = pd.DataFrame(test_free, columns=[cols_free])\n",
    "X_free.shape, test_free.shape"
   ]
  },
  {
   "cell_type": "code",
   "execution_count": 0,
   "metadata": {
    "colab": {},
    "colab_type": "code",
    "id": "bCAXWRwfGEQV"
   },
   "outputs": [],
   "source": [
    "y = y_train"
   ]
  },
  {
   "cell_type": "markdown",
   "metadata": {
    "colab_type": "text",
    "id": "BfohupbdNKaX"
   },
   "source": [
    "# Feature Selection"
   ]
  },
  {
   "cell_type": "markdown",
   "metadata": {
    "colab_type": "text",
    "id": "a1xoftg889Xc"
   },
   "source": [
    "## using Lasso"
   ]
  },
  {
   "cell_type": "code",
   "execution_count": 0,
   "metadata": {
    "colab": {},
    "colab_type": "code",
    "id": "xypgr1kpNMpa"
   },
   "outputs": [],
   "source": [
    "# Using SelectFromModel with lasso for selecting best features"
   ]
  },
  {
   "cell_type": "code",
   "execution_count": 56,
   "metadata": {
    "colab": {
     "base_uri": "https://localhost:8080/",
     "height": 50
    },
    "colab_type": "code",
    "id": "m1D78yBeNOsR",
    "outputId": "c1692262-00bc-4c67-c120-a25a1eb60ae2"
   },
   "outputs": [
    {
     "name": "stdout",
     "output_type": "stream",
     "text": [
      "83\n",
      "(1458, 83) (1459, 83)\n"
     ]
    }
   ],
   "source": [
    "# for X_cat\n",
    "lasso = Pipeline([\n",
    "    (\"scaler\", RobustScaler()), \n",
    "    (\"ls\", Lasso(alpha =0.0005, random_state=1))\n",
    "])\n",
    "\n",
    "feature_sel_model = SelectFromModel(lasso).fit(X_cat, y)\n",
    "\n",
    "coefficiets = feature_sel_model.estimator_['ls'].coef_\n",
    "X_cat_cols = []\n",
    "\n",
    "for i, j in enumerate(coefficiets):\n",
    "    if j != 0:\n",
    "        X_cat_cols.append(X_cat.columns[i])\n",
    "\n",
    "\n",
    "# selected_feat_cat = X_cat.columns[(feature_sel_model.get_support())]\n",
    "print(len(X_cat_cols))\n",
    "\n",
    "X_cat_lasso = X_cat[X_cat_cols].reset_index(drop=True)\n",
    "test_cat_lasso = test_cat[X_cat_cols].reset_index(drop=True)\n",
    "\n",
    "print(X_cat_lasso.shape, test_cat_lasso.shape)"
   ]
  },
  {
   "cell_type": "markdown",
   "metadata": {
    "colab_type": "text",
    "id": "0os_3xSw8orV"
   },
   "source": [
    "We came down from 206 features to 83"
   ]
  },
  {
   "cell_type": "code",
   "execution_count": 57,
   "metadata": {
    "colab": {
     "base_uri": "https://localhost:8080/",
     "height": 50
    },
    "colab_type": "code",
    "id": "7ecxeUs_NU1D",
    "outputId": "f645f78c-d058-4c51-fc03-78be9bfb0e0d"
   },
   "outputs": [
    {
     "name": "stdout",
     "output_type": "stream",
     "text": [
      "77\n",
      "(1458, 77) (1459, 77)\n"
     ]
    }
   ],
   "source": [
    "# for X_free\n",
    "lasso = Pipeline([\n",
    "    (\"scaler\", RobustScaler()), \n",
    "    (\"ls\", Lasso(alpha =0.0005, random_state=1))\n",
    "])\n",
    "\n",
    "feature_sel_model = SelectFromModel(lasso).fit(X_free, y)\n",
    "\n",
    "coefficiets = feature_sel_model.estimator_['ls'].coef_\n",
    "X_free_cols = []\n",
    "\n",
    "for i, j in enumerate(coefficiets):\n",
    "    if j != 0:\n",
    "        X_free_cols.append(X_free.columns[i])\n",
    "\n",
    "\n",
    "print(len(X_free_cols))\n",
    "\n",
    "X_free_lasso = X_free[X_free_cols].reset_index(drop=True)\n",
    "test_free_lasso = test_free[X_free_cols].reset_index(drop=True)\n",
    "\n",
    "print(X_free_lasso.shape, test_free_lasso.shape)"
   ]
  },
  {
   "cell_type": "markdown",
   "metadata": {
    "colab_type": "text",
    "id": "OARpXpo28ufX"
   },
   "source": [
    "We came down from 191 features to 77"
   ]
  },
  {
   "cell_type": "markdown",
   "metadata": {
    "colab_type": "text",
    "id": "txFBhQ4rRfd8"
   },
   "source": [
    "## Using tree based models\n",
    "\n"
   ]
  },
  {
   "cell_type": "code",
   "execution_count": 0,
   "metadata": {
    "colab": {},
    "colab_type": "code",
    "id": "x0gfEaKZt9S2"
   },
   "outputs": [],
   "source": [
    "tree_models = {\n",
    "    \"Light_GBM\": LGBMRegressor(objective='regression',num_leaves=5,\n",
    "                              learning_rate=0.05, n_estimators=1200,\n",
    "                              max_bin = 55, bagging_fraction = 0.8,\n",
    "                              bagging_freq = 5, feature_fraction = 0.2319,\n",
    "                              feature_fraction_seed=9, bagging_seed=9,\n",
    "                              min_data_in_leaf=6, min_sum_hessian_in_leaf = 11),\n",
    "    \n",
    "    \"XGBoost\": XGBRegressor(colsample_bytree=0.4603, gamma=0.0468, learning_rate=0.05, \n",
    "                 max_depth=5, min_child_weight=1.7817, n_estimators=2200,\n",
    "                 reg_alpha=0.4640, reg_lambda=0.8571, subsample=0.5213,\n",
    "                 nthread = -1, objective=\"reg:squarederror\", random_state=42), \n",
    "    \n",
    "    \"Gradient_boosting\": GradientBoostingRegressor(n_estimators=3000, learning_rate=0.05, \n",
    "                                                   max_depth=6, min_samples_split=17, \n",
    "                                                   max_features='sqrt', min_samples_leaf=13, \n",
    "                                                   loss='huber', random_state=42),\n",
    "               \n",
    "    \"Extra_trees\": ExtraTreesRegressor(n_estimators=2000, max_depth=9, min_samples_split= 13, \n",
    "                        max_leaf_nodes=11, min_weight_fraction_leaf=0.39, max_features='sqrt', \n",
    "                        n_jobs=-1, random_state=42),\n",
    "}"
   ]
  },
  {
   "cell_type": "markdown",
   "metadata": {
    "colab_type": "text",
    "id": "tvjBslQ7GZD9"
   },
   "source": [
    "Demo: feature selection using **extra trees**"
   ]
  },
  {
   "cell_type": "code",
   "execution_count": 59,
   "metadata": {
    "colab": {
     "base_uri": "https://localhost:8080/",
     "height": 134
    },
    "colab_type": "code",
    "id": "tWEEg-qoTMO3",
    "outputId": "e7547a43-e4e9-4f9c-e4cc-080014221bd7"
   },
   "outputs": [
    {
     "name": "stdout",
     "output_type": "stream",
     "text": [
      "For X_cat - Extra Trees\n",
      "Number of selected features: 25\n",
      "Transformed shape:  (1458, 25) (1459, 25)\n",
      "\n",
      "For X_free - Extra Trees\n",
      "Number of selected features: 26\n",
      "Transformed shape:  (1458, 26) (1459, 26)\n"
     ]
    }
   ],
   "source": [
    "# for X_cat\n",
    "\n",
    "print(\"For X_cat - Extra Trees\")\n",
    "selection_extra_cat = SelectFromModel(tree_models[\"Extra_trees\"]).fit(X_cat, y_train)\n",
    "\n",
    "selected_feat_extra_cat = X_cat.columns[(selection_extra_cat.get_support())]\n",
    "print(\"Number of selected features:\", len(selected_feat_extra_cat))\n",
    "\n",
    "X_cat_extra = X_cat[selected_feat_extra_cat].reset_index(drop=True)\n",
    "test_cat_extra = test_cat[selected_feat_extra_cat].reset_index(drop=True)\n",
    "print(\"Transformed shape: \", X_cat_extra.shape, test_cat_extra.shape)\n",
    "\n",
    "# uncomment next line to print selected features\n",
    "# print(X_cat_extra.columns)\n",
    "# for X_free\n",
    "\n",
    "print(\"\\nFor X_free - Extra Trees\")\n",
    "\n",
    "selection_extra_free = SelectFromModel(tree_models[\"Extra_trees\"]).fit(X_free, y_train)\n",
    "\n",
    "selected_feat_extra_free = X_free.columns[(selection_extra_free.get_support())]\n",
    "print(\"Number of selected features:\", len(selected_feat_extra_free))\n",
    "\n",
    "X_free_extra = X_free[selected_feat_extra_free].reset_index(drop=True)\n",
    "test_free_extra = test_free[selected_feat_extra_free].reset_index(drop=True)\n",
    "print(\"Transformed shape: \", X_free_extra.shape, test_free_extra.shape)\n",
    "\n",
    "# uncomment next line to print selected features\n",
    "# print(X_cat_extra.columns)"
   ]
  },
  {
   "cell_type": "markdown",
   "metadata": {
    "colab_type": "text",
    "id": "QXp4ySkVzX3z"
   },
   "source": [
    "# Model Building\n",
    "\n",
    "We'll run a 7-Fold cross validation of **X_cat** and **X_free** to determine which if _BsmtX_ and _GarageX_ variables removed have any effect on the prediction. \n",
    "\n",
    "Also we'll \n",
    "\n",
    "We'll train our data on 4 Boosting trees algorithms:\n",
    "1. XGBoost\n",
    "2. Gradient Boosting trees\n",
    "3. Light GBM\n",
    "4. Extra trees\n"
   ]
  },
  {
   "cell_type": "markdown",
   "metadata": {},
   "source": [
    "* We can built a Pipeline of _RobustScaler_ , _tree_based_ selection and _Final model_ to see how they work.\n",
    "* If time permits I'll add this in future versions.\n",
    "* For now we'll directly use a tree based models to fit and predict with cross-validation.\n"
   ]
  },
  {
   "cell_type": "code",
   "execution_count": 0,
   "metadata": {
    "colab": {},
    "colab_type": "code",
    "id": "IcqGW3UMY4rJ"
   },
   "outputs": [],
   "source": [
    "def fit_model(model_name, model, X, y, n_folds=7, show=10):\n",
    "    X = X.copy()\n",
    "    kf = KFold(n_folds, shuffle=True, random_state=42).get_n_splits(X.values)\n",
    "    output = cross_validate(model, X.values, y, scoring=\"neg_mean_squared_error\", cv=kf, return_estimator=True)\n",
    "    \n",
    "    feat_scores = pd.DataFrame(index=X.columns)\n",
    "\n",
    "    for idx,estimator in enumerate(output['estimator']):\n",
    "        temp = pd.Series(estimator.feature_importances_, index=X.columns)\n",
    "        feat_scores[str(idx)] = temp\n",
    "\n",
    "    feat_scores.reset_index(inplace=True)\n",
    "\n",
    "    feat_scores['Importance'] = feat_scores.mean(axis=1)\n",
    "\n",
    "    feat_scores = feat_scores.sort_values(by=\"Importance\", ascending=False)[['level_0', \"Importance\"]].head(show)\n",
    "\n",
    "    plt.figure(figsize=(15, 10))\n",
    "    plt.gca()\n",
    "    sns.barplot(x=feat_scores['Importance'], y=feat_scores['level_0'])\n",
    "    plt.ylabel(\"Features\")\n",
    "    plt.title(f\"Feature Importance: {model_name}\")\n",
    "\n",
    "    print(f\"{model_name} score => RMSE: {np.round(np.mean(np.sqrt(-output['test_score'])), 4)}, std: {np.round(np.std(-output['test_score']), 4)}\")\n",
    "    \n",
    "    plt.show()\n",
    "    print(\"-------------------------------------------------------------------------------------------------\")"
   ]
  },
  {
   "cell_type": "markdown",
   "metadata": {},
   "source": [
    "Running the next cell will for each **X_set** created perform a cross validation run using all tree based model, plot best 30 features that are most important."
   ]
  },
  {
   "cell_type": "code",
   "execution_count": 0,
   "metadata": {
    "colab": {},
    "colab_type": "code",
    "id": "01w0tgWNxJiO"
   },
   "outputs": [],
   "source": [
    "print(\"Running boosting tree on X_cat_lasso, X_cat_free, X_cat, X_free\")\n",
    "\n",
    "training_data = {\n",
    "    \"X_cat_lasso\": X_cat_lasso, \"X_free_lasso\": X_free_lasso,\n",
    "    \"X_cat\": X_cat, \"X_free\": X_free, \n",
    "}\n",
    "\n",
    "\n",
    "for X_name, X in training_data.items():\n",
    "    print(f\"X => {X_name}, shape: {X.shape}\\n\")\n",
    "    for model_name, model in tree_models.items():\n",
    "        fit_model(model_name, model, X, y, n_folds=7, show=35)\n",
    "    print()"
   ]
  },
  {
   "cell_type": "markdown",
   "metadata": {
    "colab_type": "text",
    "id": "c0k61mLn9cu1"
   },
   "source": [
    "# Stacking regressor"
   ]
  },
  {
   "cell_type": "code",
   "execution_count": 0,
   "metadata": {
    "colab": {},
    "colab_type": "code",
    "id": "jqKV5ixhxJm4"
   },
   "outputs": [],
   "source": [
    "from sklearn.ensemble import StackingRegressor\n",
    "from sklearn.linear_model import LinearRegression\n",
    "from sklearn.neural_network import MLPRegressor\n",
    "from sklearn.svm import LinearSVR\n",
    "from sklearn.metrics import mean_squared_error\n",
    "from sklearn.base import clone\n",
    "\n",
    "def rmsle(y, y_pred):\n",
    "    return np.sqrt(mean_squared_error(y, y_pred))\n",
    "\n",
    "level0 = list()\n",
    "# level0.extend(('LGB', tree_models[\"Light_GBM\"]))\n",
    "level0.append(('xgb', tree_models[\"XGBoost\"]))\n",
    "level0.append(('GBT', tree_models[\"Gradient_boosting\"]))\n",
    "level0.append(('xtra', tree_models[\"Extra_trees\"]))\n",
    "\n",
    "training_data = {\"X_cat_lasso\": X_cat_lasso, \"X_free_lasso\": X_free_lasso,\n",
    "                 \"X_cat\": X_cat, \"X_free\": X_free, \n",
    "                 }\n",
    "\n",
    "\n",
    "level1_models = {\n",
    "    \"Linear\": LinearRegression(), \n",
    "#     \"Linear_SVR\":  LinearSVR(epsilon=1.5),\n",
    "#     \"MLP\": MLPRegressor(hidden_layer_sizes=(2), activation='logistic', solver='sgd', \n",
    "#                         max_iter=1000, learning_rate='adaptive', random_state=42)\n",
    "}"
   ]
  },
  {
   "cell_type": "markdown",
   "metadata": {
    "colab_type": "text",
    "id": "PzqeOcyqgPWN"
   },
   "source": [
    "**Private Run**\n",
    "\n",
    "\n",
    "1. X => X_cat_lasso, shape: (1458, 83)\n",
    "    * Model: Linear, R2: 0.9851682263983834, RMSE: 0.04847376103391416\n",
    "    * Model: Linear_SVR, R2: -6.633282458849109, RMSE: 0.7302971301321612\n",
    "    * Model: MLP, R2: -2983940.9730241755, RMSE: 0.39935765079237545\n",
    "    \n",
    "\n",
    "2. X => X_free_lasso, shape: (1458, 77)\n",
    "    * Model: Linear, R2: 0.981016025855836, RMSE: 0.05452379484010679\n",
    "    * Model: Linear_SVR, R2: -6.461431642367199, RMSE: 0.7167880791589558\n",
    "    * Model: MLP, R2: -2982300.610854054, RMSE: 0.39935750649014945\n",
    "\n",
    "\n",
    "3. X => X_cat, shape: (1458, 206)\n",
    "    * Model: Linear, R2: 0.9818263620627218, RMSE: 0.053600087870622565\n",
    "    * Model: Linear_SVR, R2: -6.812972415367375, RMSE: 0.7336647698772716\n",
    "    * Model: MLP, R2: -2964776.4375035004, RMSE: 0.3993568326589984\n",
    "\n",
    "\n",
    "4. X => X_free, shape: (1458, 191)\n",
    "    * Model: Linear, R2: 0.9825960824103169, RMSE: 0.05235665694025279\n",
    "    * Model: Linear_SVR, R2: -6.6057353381424395, RMSE: 0.7214971271278083\n",
    "    * Model: MLP, R2: -2920872.063956515, RMSE: 0.3993558505344274"
   ]
  },
  {
   "cell_type": "code",
   "execution_count": 0,
   "metadata": {
    "colab": {
     "base_uri": "https://localhost:8080/",
     "height": 418
    },
    "colab_type": "code",
    "id": "uiCQiXsZxJwf",
    "outputId": "c43e2303-4c6d-45d7-e277-57eae125724f"
   },
   "outputs": [
    {
     "name": "stdout",
     "output_type": "stream",
     "text": [
      "==========================================\n",
      "X => X_cat_lasso, shape: (1458, 83)\n",
      "\n",
      "Model: Linear, R2: 0.9851682263983834, RMSE: 0.04847376103391416\n",
      "Model: Linear_SVR, R2: -6.633282458849109, RMSE: 0.7302971301321612\n",
      "Model: MLP, R2: -2983940.9730241755, RMSE: 0.39935765079237545\n",
      "==========================================\n",
      "X => X_free_lasso, shape: (1458, 77)\n",
      "\n",
      "Model: Linear, R2: 0.981016025855836, RMSE: 0.05452379484010679\n",
      "Model: Linear_SVR, R2: -6.461431642367199, RMSE: 0.7167880791589558\n",
      "Model: MLP, R2: -2982300.610854054, RMSE: 0.39935750649014945\n",
      "==========================================\n",
      "X => X_cat, shape: (1458, 206)\n",
      "\n",
      "Model: Linear, R2: 0.9818263620627218, RMSE: 0.053600087870622565\n",
      "Model: Linear_SVR, R2: -6.812972415367375, RMSE: 0.7336647698772716\n",
      "Model: MLP, R2: -2964776.4375035004, RMSE: 0.3993568326589984\n",
      "==========================================\n",
      "X => X_free, shape: (1458, 191)\n",
      "\n",
      "Model: Linear, R2: 0.9825960824103169, RMSE: 0.05235665694025279\n",
      "Model: Linear_SVR, R2: -6.6057353381424395, RMSE: 0.7214971271278083\n",
      "Model: MLP, R2: -2920872.063956515, RMSE: 0.3993558505344274\n"
     ]
    }
   ],
   "source": [
    "# To see outputs, uncomment the next lines \n",
    "\n",
    "# for X_name, X in training_data.items():\n",
    "#     print(\"==========================================\")\n",
    "#     X = X.copy()\n",
    "#     print(f\"X => {X_name}, shape: {X.shape}\\n\")\n",
    "\n",
    "#     for name, level1 in level1_models.items():\n",
    "#         level1_ = clone(level1)\n",
    "#         model_ = StackingRegressor(estimators=level0, final_estimator=level1_, cv=7, n_jobs=-1)\n",
    "#         model_.fit(X, y)\n",
    "#         y_preds = model_.predict(X)\n",
    "#         print(f\"Model: {name}, R2: {r2_score(y_preds, y)}, RMSE: {rmsle(y_preds, y)}\")"
   ]
  },
  {
   "cell_type": "markdown",
   "metadata": {},
   "source": [
    "# Final Run and Creating Submission"
   ]
  },
  {
   "cell_type": "code",
   "execution_count": 99,
   "metadata": {
    "colab": {
     "base_uri": "https://localhost:8080/",
     "height": 33
    },
    "colab_type": "code",
    "id": "8Ukr37lCVMik",
    "outputId": "352925e0-1ee4-4c33-f922-dd39d70d5b5c"
   },
   "outputs": [
    {
     "name": "stdout",
     "output_type": "stream",
     "text": [
      "Model: MLP, R2: 0.9851682263983834, RMSE: 0.04847376103391416\n"
     ]
    }
   ],
   "source": [
    "model_ = StackingRegressor(estimators=level0, final_estimator=level1_models['Linear'], cv=7, n_jobs=-1)\n",
    "model_.fit(X_cat_lasso, y)\n",
    "y_preds = model_.predict(X_cat_lasso)\n",
    "print(f\"Model: Linear, R2: {r2_score(y_preds, y)}, RMSE: {rmsle(y_preds, y)}\")"
   ]
  },
  {
   "cell_type": "code",
   "execution_count": 115,
   "metadata": {
    "colab": {
     "base_uri": "https://localhost:8080/",
     "height": 33
    },
    "colab_type": "code",
    "id": "dkOg9ZuMVfmw",
    "outputId": "4d91275d-3841-4708-aac5-b6203ee009bf"
   },
   "outputs": [
    {
     "name": "stdout",
     "output_type": "stream",
     "text": [
      "(1459,) (1459,)\n"
     ]
    }
   ],
   "source": [
    "y_preds = model_.predict(test_cat_lasso)\n",
    "# print(y_preds.shape, test_id.shape)\n",
    "my_submission = pd.DataFrame({'Id': test_id, 'SalePrice': y_preds})\n",
    "# you could use any filename. We choose submission here\n",
    "my_submission.to_csv('submission.csv', index=False)"
   ]
  }
 ],
 "metadata": {
  "colab": {
   "collapsed_sections": [],
   "name": "Project 2 P2 House Price Regression.ipynb",
   "provenance": []
  },
  "kernelspec": {
   "display_name": "Python 3",
   "language": "python",
   "name": "python3"
  },
  "language_info": {
   "codemirror_mode": {
    "name": "ipython",
    "version": 3
   },
   "file_extension": ".py",
   "mimetype": "text/x-python",
   "name": "python",
   "nbconvert_exporter": "python",
   "pygments_lexer": "ipython3",
   "version": "3.7.7"
  },
  "toc": {
   "base_numbering": 1,
   "nav_menu": {},
   "number_sections": true,
   "sideBar": true,
   "skip_h1_title": false,
   "title_cell": "Table of Contents",
   "title_sidebar": "Contents",
   "toc_cell": true,
   "toc_position": {},
   "toc_section_display": true,
   "toc_window_display": false
  },
  "varInspector": {
   "cols": {
    "lenName": 16,
    "lenType": 16,
    "lenVar": 40
   },
   "kernels_config": {
    "python": {
     "delete_cmd_postfix": "",
     "delete_cmd_prefix": "del ",
     "library": "var_list.py",
     "varRefreshCmd": "print(var_dic_list())"
    },
    "r": {
     "delete_cmd_postfix": ") ",
     "delete_cmd_prefix": "rm(",
     "library": "var_list.r",
     "varRefreshCmd": "cat(var_dic_list()) "
    }
   },
   "types_to_exclude": [
    "module",
    "function",
    "builtin_function_or_method",
    "instance",
    "_Feature"
   ],
   "window_display": false
  }
 },
 "nbformat": 4,
 "nbformat_minor": 1
}
